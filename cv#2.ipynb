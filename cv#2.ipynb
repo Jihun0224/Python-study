{
 "cells": [
  {
   "cell_type": "markdown",
   "id": "3faa94e2",
   "metadata": {},
   "source": [
    "# HW#2  \n",
    "## Curve fitting using Least squares  \n",
    "For the 2D points, find the 2nd-order curve using least squares  \n",
    "[-2.9, 35.4],[-2.1, 19.7],[-0.9, 5.7],[0.1, 1.2],[1.1, 2.1],[1.9, 8.7],[3.1, 25.7],[4.0, 41.5]"
   ]
  },
  {
   "cell_type": "code",
   "execution_count": 6,
   "id": "1df47c45",
   "metadata": {},
   "outputs": [],
   "source": [
    "from itertools import combinations\n",
    "import numpy as np\n",
    "from scipy.integrate import quad\n",
    "from scipy.optimize import curve_fit\n",
    "import matplotlib.pyplot as plt \n",
    "import warnings\n",
    "warnings.filterwarnings('ignore')\n",
    "\n",
    "def f(x,a0, b0, c0,a, b, c):\n",
    "    return ((a0*x**2 + b0*x + c0) - (a*x**2 + b*x + c))**2\n",
    "\n",
    "pt = [[-2.9, 35.4],[-2.1, 19.7],[-0.9, 5.7],[0.1, 1.2],[1.1, 2.1],[1.9, 8.7],[3.1, 25.7],[4.0, 41.5]]\n",
    "x0 = []\n",
    "y0 = []\n",
    "for j in range(8):\n",
    "    x0.append(pt[j][0])\n",
    "    y0.append(pt[j][1])\n",
    "a0, b0, c0 = np.polyfit(x0, y0, 2)\n",
    "\n",
    "\n",
    "combi = combinations(pt, 6)\n",
    "list_combi = list(combi)\n",
    "best = 1000 #초기화\n",
    "for i in list_combi:\n",
    "    x=[]\n",
    "    y=[]\n",
    "    for j in range(6):\n",
    "            x.append(i[j][0])\n",
    "            y.append(i[j][1])\n",
    "            a,b,c = np.polyfit(x, y, 2)\n",
    "            temp = quad(f, -3, 4, args=(a0, b0, c0,a, b, c))[0]\n",
    "            if temp < best:\n",
    "                best_index = i\n",
    "                best_abc=[]\n",
    "                best_x=[]\n",
    "                best_y=[]\n",
    "                best = temp\n",
    "                best_abc.append(a)\n",
    "                best_abc.append(b)\n",
    "                best_abc.append(c)\n",
    "                best_x.append(x)\n",
    "                best_y.append(y)"
   ]
  },
  {
   "cell_type": "code",
   "execution_count": 7,
   "id": "a952b487",
   "metadata": {},
   "outputs": [
    {
     "name": "stdout",
     "output_type": "stream",
     "text": [
      "origin\n",
      "a: 3.160524768772437 b: -2.3605982079786827 c: 1.3582807168133897\n"
     ]
    },
    {
     "data": {
      "image/png": "[encoded data removed]",
      "text/plain": [
       "<Figure size 432x288 with 1 Axes>"
      ]
     },
     "metadata": {
      "needs_background": "light"
     },
     "output_type": "display_data"
    }
   ],
   "source": [
    "pt = [[-2.9, 35.4],[-2.1, 19.7],[-0.9, 5.7],[0.1, 1.2],[1.1, 2.1],[1.9, 8.7],[3.1, 25.7],[4.0, 41.5]]\n",
    "x = []\n",
    "y = []\n",
    "for j in range(8):\n",
    "    x.append(pt[j][0])\n",
    "    y.append(pt[j][1])\n",
    "x0 = np.linspace(-3,4,1000)\n",
    "y0 = a0*x0**2 + b0*x0 + c0\n",
    "print(\"origin\")\n",
    "print(\"a:\",a0,\"b:\",b0,\"c:\",c0)\n",
    "plt.plot(x0,y0)\n",
    "plt.scatter(x,y, c='g')\n",
    "plt.show()"
   ]
  },
  {
   "cell_type": "code",
   "execution_count": 11,
   "id": "28d62da3",
   "metadata": {},
   "outputs": [
    {
     "name": "stdout",
     "output_type": "stream",
     "text": [
      "best\n",
      "best point: ([-2.9, 35.4], [-2.1, 19.7], [-0.9, 5.7], [0.1, 1.2], [3.1, 25.7], [4.0, 41.5])\n",
      "차이: 0.014743031855622974\n",
      "a: 3.151814037887254 b: -2.356233922051132 c: 1.4257338519319693\n"
     ]
    },
    {
     "data": {
      "image/png": "[encoded data removed]",
      "text/plain": [
       "<Figure size 432x288 with 1 Axes>"
      ]
     },
     "metadata": {
      "needs_background": "light"
     },
     "output_type": "display_data"
    }
   ],
   "source": [
    "x0 = np.linspace(-3,4,1000)\n",
    "y0 = best_abc[0]*x0**2 + best_abc[1]*x0 + best_abc[2]\n",
    "print(\"best\")\n",
    "print(\"best point:\",best_index)\n",
    "print(\"차이:\",best)\n",
    "print(\"a:\",best_abc[0],\"b:\",best_abc[1],\"c:\",best_abc[2])\n",
    "plt.plot(x0,y0)\n",
    "plt.scatter(best_x,best_y, c='g')\n",
    "plt.show()"
   ]
  },
  {
   "cell_type": "code",
   "execution_count": null,
   "id": "735b16f3",
   "metadata": {},
   "outputs": [],
   "source": []
  }
 ],
 "metadata": {
  "kernelspec": {
   "display_name": "Python 3",
   "language": "python",
   "name": "python3"
  },
  "language_info": {
   "codemirror_mode": {
    "name": "ipython",
    "version": 3
   },
   "file_extension": ".py",
   "mimetype": "text/x-python",
   "name": "python",
   "nbconvert_exporter": "python",
   "pygments_lexer": "ipython3",
   "version": "3.8.8"
  }
 },
 "nbformat": 4,
 "nbformat_minor": 5
}
