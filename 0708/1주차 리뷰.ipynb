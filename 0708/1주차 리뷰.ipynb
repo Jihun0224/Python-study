{
 "cells": [
  {
   "cell_type": "markdown",
   "id": "50469939",
   "metadata": {},
   "source": [
    "## 행 인덱스/열 이름 설정  "
   ]
  },
  {
   "cell_type": "code",
   "execution_count": 62,
   "id": "7877edb5",
   "metadata": {},
   "outputs": [
    {
     "name": "stdout",
     "output_type": "stream",
     "text": [
      "    0  1    2\n",
      "0  15  남  덩영중\n",
      "1  17  여  수리중\n",
      "     연령 남녀   소속\n",
      "학생1  15  남  덩영중\n",
      "학생2  17  여  수리중\n"
     ]
    }
   ],
   "source": [
    "import pandas as pd\n",
    "\n",
    "df = pd.DataFrame([[15,'남','덩영중'], [17,'여','수리중']])\n",
    "print(df)\n",
    "# 한번에 변경 \n",
    "df.index = ['학생1', '학생2']\n",
    "df.columns = ['연령','남녀','소속']\n",
    "print(df)"
   ]
  },
  {
   "cell_type": "code",
   "execution_count": 63,
   "id": "026c559f",
   "metadata": {},
   "outputs": [
    {
     "data": {
      "text/html": [
       "<div>\n",
       "<style scoped>\n",
       "    .dataframe tbody tr th:only-of-type {\n",
       "        vertical-align: middle;\n",
       "    }\n",
       "\n",
       "    .dataframe tbody tr th {\n",
       "        vertical-align: top;\n",
       "    }\n",
       "\n",
       "    .dataframe thead th {\n",
       "        text-align: right;\n",
       "    }\n",
       "</style>\n",
       "<table border=\"1\" class=\"dataframe\">\n",
       "  <thead>\n",
       "    <tr style=\"text-align: right;\">\n",
       "      <th></th>\n",
       "      <th>나이</th>\n",
       "      <th>남녀</th>\n",
       "      <th>소속</th>\n",
       "    </tr>\n",
       "  </thead>\n",
       "  <tbody>\n",
       "    <tr>\n",
       "      <th>남중딩</th>\n",
       "      <td>15</td>\n",
       "      <td>남</td>\n",
       "      <td>덩영중</td>\n",
       "    </tr>\n",
       "    <tr>\n",
       "      <th>학생2</th>\n",
       "      <td>17</td>\n",
       "      <td>여</td>\n",
       "      <td>수리중</td>\n",
       "    </tr>\n",
       "  </tbody>\n",
       "</table>\n",
       "</div>"
      ],
      "text/plain": [
       "     나이 남녀   소속\n",
       "남중딩  15  남  덩영중\n",
       "학생2  17  여  수리중"
      ]
     },
     "execution_count": 63,
     "metadata": {},
     "output_type": "execute_result"
    }
   ],
   "source": [
    "# 특정 열 이름만 변경\n",
    "df.rename(index={'학생1':'남중딩'}, inplace = True)\n",
    "df = df.rename(columns={'연령':'나이'})\n",
    "df"
   ]
  },
  {
   "cell_type": "code",
   "execution_count": 66,
   "id": "f2ccae43",
   "metadata": {},
   "outputs": [
    {
     "name": "stdout",
     "output_type": "stream",
     "text": [
      "     나이 남녀   소속\n",
      "남중딩  15  남  덩영중\n",
      "학생2  17  여  수리중\n",
      "     나이 남녀   소속\n",
      "남중딩  15  남  덩영중\n",
      "학생2  17  여  수리중\n"
     ]
    }
   ],
   "source": [
    "# 복제\n",
    "df1 = df\n",
    "print(df1)\n",
    "df2 = df[:]\n",
    "print(df2)\n"
   ]
  },
  {
   "cell_type": "code",
   "execution_count": 67,
   "id": "62667d27",
   "metadata": {},
   "outputs": [
    {
     "data": {
      "text/html": [
       "<div>\n",
       "<style scoped>\n",
       "    .dataframe tbody tr th:only-of-type {\n",
       "        vertical-align: middle;\n",
       "    }\n",
       "\n",
       "    .dataframe tbody tr th {\n",
       "        vertical-align: top;\n",
       "    }\n",
       "\n",
       "    .dataframe thead th {\n",
       "        text-align: right;\n",
       "    }\n",
       "</style>\n",
       "<table border=\"1\" class=\"dataframe\">\n",
       "  <thead>\n",
       "    <tr style=\"text-align: right;\">\n",
       "      <th></th>\n",
       "      <th>나이</th>\n",
       "      <th>남녀</th>\n",
       "      <th>소속</th>\n",
       "    </tr>\n",
       "  </thead>\n",
       "  <tbody>\n",
       "    <tr>\n",
       "      <th>학생2</th>\n",
       "      <td>17</td>\n",
       "      <td>여</td>\n",
       "      <td>수리중</td>\n",
       "    </tr>\n",
       "  </tbody>\n",
       "</table>\n",
       "</div>"
      ],
      "text/plain": [
       "     나이 남녀   소속\n",
       "학생2  17  여  수리중"
      ]
     },
     "execution_count": 67,
     "metadata": {},
     "output_type": "execute_result"
    }
   ],
   "source": [
    "df2 = df2.drop(['남중딩'],axis=0)\n",
    "df2"
   ]
  },
  {
   "cell_type": "markdown",
   "id": "c4bc98ca",
   "metadata": {},
   "source": [
    "### 행 선택  "
   ]
  },
  {
   "cell_type": "code",
   "execution_count": 68,
   "id": "57dc1fcd",
   "metadata": {},
   "outputs": [
    {
     "data": {
      "text/plain": [
       "나이     15\n",
       "남녀      남\n",
       "소속    덩영중\n",
       "Name: 남중딩, dtype: object"
      ]
     },
     "execution_count": 68,
     "metadata": {},
     "output_type": "execute_result"
    }
   ],
   "source": [
    "df1.loc[\"남중딩\"]"
   ]
  },
  {
   "cell_type": "code",
   "execution_count": 69,
   "id": "7ae5a338",
   "metadata": {},
   "outputs": [
    {
     "data": {
      "text/plain": [
       "나이     15\n",
       "남녀      남\n",
       "소속    덩영중\n",
       "Name: 남중딩, dtype: object"
      ]
     },
     "execution_count": 69,
     "metadata": {},
     "output_type": "execute_result"
    }
   ],
   "source": [
    "df1.iloc[0]"
   ]
  },
  {
   "cell_type": "markdown",
   "id": "f899b38e",
   "metadata": {},
   "source": [
    "## 원소 선택 "
   ]
  },
  {
   "cell_type": "code",
   "execution_count": 70,
   "id": "c2367f6a",
   "metadata": {},
   "outputs": [
    {
     "data": {
      "text/html": [
       "<div>\n",
       "<style scoped>\n",
       "    .dataframe tbody tr th:only-of-type {\n",
       "        vertical-align: middle;\n",
       "    }\n",
       "\n",
       "    .dataframe tbody tr th {\n",
       "        vertical-align: top;\n",
       "    }\n",
       "\n",
       "    .dataframe thead th {\n",
       "        text-align: right;\n",
       "    }\n",
       "</style>\n",
       "<table border=\"1\" class=\"dataframe\">\n",
       "  <thead>\n",
       "    <tr style=\"text-align: right;\">\n",
       "      <th></th>\n",
       "      <th>나이</th>\n",
       "      <th>남녀</th>\n",
       "      <th>소속</th>\n",
       "    </tr>\n",
       "  </thead>\n",
       "  <tbody>\n",
       "    <tr>\n",
       "      <th>남중딩</th>\n",
       "      <td>15</td>\n",
       "      <td>남</td>\n",
       "      <td>덩영중</td>\n",
       "    </tr>\n",
       "    <tr>\n",
       "      <th>학생2</th>\n",
       "      <td>17</td>\n",
       "      <td>여</td>\n",
       "      <td>수리중</td>\n",
       "    </tr>\n",
       "  </tbody>\n",
       "</table>\n",
       "</div>"
      ],
      "text/plain": [
       "     나이 남녀   소속\n",
       "남중딩  15  남  덩영중\n",
       "학생2  17  여  수리중"
      ]
     },
     "execution_count": 70,
     "metadata": {},
     "output_type": "execute_result"
    }
   ],
   "source": [
    "df1"
   ]
  },
  {
   "cell_type": "code",
   "execution_count": 71,
   "id": "751191b9",
   "metadata": {},
   "outputs": [
    {
     "data": {
      "text/plain": [
       "'남'"
      ]
     },
     "execution_count": 71,
     "metadata": {},
     "output_type": "execute_result"
    }
   ],
   "source": [
    "df1.loc['남중딩', '남녀']"
   ]
  },
  {
   "cell_type": "code",
   "execution_count": 72,
   "id": "e4d54b00",
   "metadata": {},
   "outputs": [
    {
     "data": {
      "text/plain": [
       "'남'"
      ]
     },
     "execution_count": 72,
     "metadata": {},
     "output_type": "execute_result"
    }
   ],
   "source": [
    "df1.iloc[0,1]"
   ]
  },
  {
   "cell_type": "markdown",
   "id": "148fe75e",
   "metadata": {},
   "source": [
    "## 행 인덱스 재배열  \n",
    "DataFrame.reindex(새로운 인덱스 배열)  \n",
    "DataFrame.reset_index(): 행 인덱스를 정수형으로 초기화  \n",
    "DataFrame.sort_index(): 인덱스 오름차순으로 정렬  \n",
    "DataFrame.sort_values(by = 'c1', ascending=False)  \n"
   ]
  },
  {
   "cell_type": "markdown",
   "id": "bfd8180d",
   "metadata": {},
   "source": [
    "## 시리즈는 연산(+, -, *, /) + 숫자 가능  \n",
    "단, nan과 연산시 결과는 nan"
   ]
  },
  {
   "cell_type": "markdown",
   "id": "52b0b6cd",
   "metadata": {},
   "source": [
    "## 웹 스크래핑(트랜스 마켓)"
   ]
  },
  {
   "cell_type": "code",
   "execution_count": 114,
   "id": "87ee84ec",
   "metadata": {
    "scrolled": false
   },
   "outputs": [
    {
     "data": {
      "text/html": [
       "<div>\n",
       "<style scoped>\n",
       "    .dataframe tbody tr th:only-of-type {\n",
       "        vertical-align: middle;\n",
       "    }\n",
       "\n",
       "    .dataframe tbody tr th {\n",
       "        vertical-align: top;\n",
       "    }\n",
       "\n",
       "    .dataframe thead th {\n",
       "        text-align: right;\n",
       "    }\n",
       "</style>\n",
       "<table border=\"1\" class=\"dataframe\">\n",
       "  <thead>\n",
       "    <tr style=\"text-align: right;\">\n",
       "      <th></th>\n",
       "      <th>number</th>\n",
       "      <th>name</th>\n",
       "      <th>position</th>\n",
       "      <th>age</th>\n",
       "      <th>nation</th>\n",
       "      <th>team</th>\n",
       "      <th>value</th>\n",
       "    </tr>\n",
       "  </thead>\n",
       "  <tbody>\n",
       "    <tr>\n",
       "      <th>0</th>\n",
       "      <td>1</td>\n",
       "      <td>Kylian Mbappé</td>\n",
       "      <td>Centre-Forward</td>\n",
       "      <td>22</td>\n",
       "      <td>France</td>\n",
       "      <td>Paris Saint-Germain</td>\n",
       "      <td>€160.00m</td>\n",
       "    </tr>\n",
       "    <tr>\n",
       "      <th>1</th>\n",
       "      <td>2</td>\n",
       "      <td>Erling Haaland</td>\n",
       "      <td>Centre-Forward</td>\n",
       "      <td>20</td>\n",
       "      <td>Norway</td>\n",
       "      <td>Borussia Dortmund</td>\n",
       "      <td>€130.00m</td>\n",
       "    </tr>\n",
       "    <tr>\n",
       "      <th>2</th>\n",
       "      <td>3</td>\n",
       "      <td>Harry Kane</td>\n",
       "      <td>Centre-Forward</td>\n",
       "      <td>27</td>\n",
       "      <td>England</td>\n",
       "      <td>Tottenham Hotspur</td>\n",
       "      <td>€120.00m</td>\n",
       "    </tr>\n",
       "    <tr>\n",
       "      <th>3</th>\n",
       "      <td>4</td>\n",
       "      <td>Jadon Sancho</td>\n",
       "      <td>Right Winger</td>\n",
       "      <td>21</td>\n",
       "      <td>England</td>\n",
       "      <td>Borussia Dortmund</td>\n",
       "      <td>€100.00m</td>\n",
       "    </tr>\n",
       "    <tr>\n",
       "      <th>4</th>\n",
       "      <td>5</td>\n",
       "      <td>Mohamed Salah</td>\n",
       "      <td>Right Winger</td>\n",
       "      <td>29</td>\n",
       "      <td>Egypt</td>\n",
       "      <td>Liverpool FC</td>\n",
       "      <td>€100.00m</td>\n",
       "    </tr>\n",
       "  </tbody>\n",
       "</table>\n",
       "</div>"
      ],
      "text/plain": [
       "  number            name        position age   nation                 team  \\\n",
       "0      1   Kylian Mbappé  Centre-Forward  22   France  Paris Saint-Germain   \n",
       "1      2  Erling Haaland  Centre-Forward  20   Norway    Borussia Dortmund   \n",
       "2      3      Harry Kane  Centre-Forward  27  England    Tottenham Hotspur   \n",
       "3      4    Jadon Sancho    Right Winger  21  England    Borussia Dortmund   \n",
       "4      5   Mohamed Salah    Right Winger  29    Egypt         Liverpool FC   \n",
       "\n",
       "      value  \n",
       "0  €160.00m  \n",
       "1  €130.00m  \n",
       "2  €120.00m  \n",
       "3  €100.00m  \n",
       "4  €100.00m  "
      ]
     },
     "execution_count": 114,
     "metadata": {},
     "output_type": "execute_result"
    }
   ],
   "source": [
    "import requests\n",
    "from bs4 import BeautifulSoup\n",
    "import pandas as pd\n",
    "import time\n",
    "\n",
    "headers = {'User-Agent':'Mozilla/5.0 (Windows NT 10.0; Win64; x64) AppleWebKit/537.36 (KHTML, like Gecko) Chrome/91.0.4472.77 Safari/537.36'}\n",
    "\n",
    "number = []\n",
    "name = []\n",
    "position = []\n",
    "age = []\n",
    "nation = []\n",
    "team = []\n",
    "value = []\n",
    "\n",
    "url = \"https://www.transfermarkt.com/marktwertetop/wertvollstespieler?ajax=yw1&page=1\"\n",
    "r  = requests.get(url,headers=headers)\n",
    "soup = BeautifulSoup(r.text,'html.parser')\n",
    "player_info = soup.find_all('tr',class_=['odd','even'])\n",
    "\n",
    "\n",
    "\n",
    "for info in player_info:\n",
    "    player = info.find_all('td')\n",
    "    number.append(player[0].text)\n",
    "    name.append(player[3].text)\n",
    "    position.append(player[4].text)\n",
    "    age.append(player[5].text)\n",
    "    nation.append(player[6].img['alt']) \n",
    "    team.append(player[7].img['alt'])\n",
    "    value.append(player[8].text.strip())\n",
    "\n",
    "time.sleep(1)\n",
    "\n",
    "df = pd.DataFrame(\n",
    "        {\"number\":number,\n",
    "        \"name\":name,\n",
    "        \"position\":position,\n",
    "        \"age\":age,\n",
    "        \"nation\":nation,\n",
    "        \"team\":team,\n",
    "        \"value\":value,\n",
    "        }\n",
    "    )\n",
    "df.head()"
   ]
  },
  {
   "cell_type": "code",
   "execution_count": 115,
   "id": "e40bcecf",
   "metadata": {},
   "outputs": [
    {
     "data": {
      "text/html": [
       "<div>\n",
       "<style scoped>\n",
       "    .dataframe tbody tr th:only-of-type {\n",
       "        vertical-align: middle;\n",
       "    }\n",
       "\n",
       "    .dataframe tbody tr th {\n",
       "        vertical-align: top;\n",
       "    }\n",
       "\n",
       "    .dataframe thead th {\n",
       "        text-align: right;\n",
       "    }\n",
       "</style>\n",
       "<table border=\"1\" class=\"dataframe\">\n",
       "  <thead>\n",
       "    <tr style=\"text-align: right;\">\n",
       "      <th></th>\n",
       "      <th>name</th>\n",
       "      <th>position</th>\n",
       "      <th>age</th>\n",
       "      <th>nation</th>\n",
       "      <th>team</th>\n",
       "      <th>value</th>\n",
       "    </tr>\n",
       "    <tr>\n",
       "      <th>number</th>\n",
       "      <th></th>\n",
       "      <th></th>\n",
       "      <th></th>\n",
       "      <th></th>\n",
       "      <th></th>\n",
       "      <th></th>\n",
       "    </tr>\n",
       "  </thead>\n",
       "  <tbody>\n",
       "    <tr>\n",
       "      <th>1</th>\n",
       "      <td>Kylian Mbappé</td>\n",
       "      <td>Centre-Forward</td>\n",
       "      <td>22</td>\n",
       "      <td>France</td>\n",
       "      <td>Paris Saint-Germain</td>\n",
       "      <td>€160.00m</td>\n",
       "    </tr>\n",
       "    <tr>\n",
       "      <th>2</th>\n",
       "      <td>Erling Haaland</td>\n",
       "      <td>Centre-Forward</td>\n",
       "      <td>20</td>\n",
       "      <td>Norway</td>\n",
       "      <td>Borussia Dortmund</td>\n",
       "      <td>€130.00m</td>\n",
       "    </tr>\n",
       "    <tr>\n",
       "      <th>3</th>\n",
       "      <td>Harry Kane</td>\n",
       "      <td>Centre-Forward</td>\n",
       "      <td>27</td>\n",
       "      <td>England</td>\n",
       "      <td>Tottenham Hotspur</td>\n",
       "      <td>€120.00m</td>\n",
       "    </tr>\n",
       "    <tr>\n",
       "      <th>4</th>\n",
       "      <td>Jadon Sancho</td>\n",
       "      <td>Right Winger</td>\n",
       "      <td>21</td>\n",
       "      <td>England</td>\n",
       "      <td>Borussia Dortmund</td>\n",
       "      <td>€100.00m</td>\n",
       "    </tr>\n",
       "    <tr>\n",
       "      <th>5</th>\n",
       "      <td>Mohamed Salah</td>\n",
       "      <td>Right Winger</td>\n",
       "      <td>29</td>\n",
       "      <td>Egypt</td>\n",
       "      <td>Liverpool FC</td>\n",
       "      <td>€100.00m</td>\n",
       "    </tr>\n",
       "  </tbody>\n",
       "</table>\n",
       "</div>"
      ],
      "text/plain": [
       "                  name        position age   nation                 team  \\\n",
       "number                                                                     \n",
       "1        Kylian Mbappé  Centre-Forward  22   France  Paris Saint-Germain   \n",
       "2       Erling Haaland  Centre-Forward  20   Norway    Borussia Dortmund   \n",
       "3           Harry Kane  Centre-Forward  27  England    Tottenham Hotspur   \n",
       "4         Jadon Sancho    Right Winger  21  England    Borussia Dortmund   \n",
       "5        Mohamed Salah    Right Winger  29    Egypt         Liverpool FC   \n",
       "\n",
       "           value  \n",
       "number            \n",
       "1       €160.00m  \n",
       "2       €130.00m  \n",
       "3       €120.00m  \n",
       "4       €100.00m  \n",
       "5       €100.00m  "
      ]
     },
     "execution_count": 115,
     "metadata": {},
     "output_type": "execute_result"
    }
   ],
   "source": [
    "df = df.set_index('number')\n",
    "df.head()"
   ]
  },
  {
   "cell_type": "code",
   "execution_count": null,
   "id": "1405e80c",
   "metadata": {},
   "outputs": [],
   "source": []
  }
 ],
 "metadata": {
  "kernelspec": {
   "display_name": "Python 3",
   "language": "python",
   "name": "python3"
  },
  "language_info": {
   "codemirror_mode": {
    "name": "ipython",
    "version": 3
   },
   "file_extension": ".py",
   "mimetype": "text/x-python",
   "name": "python",
   "nbconvert_exporter": "python",
   "pygments_lexer": "ipython3",
   "version": "3.8.8"
  }
 },
 "nbformat": 4,
 "nbformat_minor": 5
}
