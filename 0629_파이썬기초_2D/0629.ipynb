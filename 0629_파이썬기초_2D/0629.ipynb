{
 "cells": [
  {
   "cell_type": "markdown",
   "id": "029d9562",
   "metadata": {},
   "source": [
    "### 리스트 접근"
   ]
  },
  {
   "cell_type": "code",
   "execution_count": 179,
   "id": "a6a3fb93",
   "metadata": {},
   "outputs": [
    {
     "name": "stdout",
     "output_type": "stream",
     "text": [
      "[3, 4, [5, 6, [7, 8]]]\n",
      "3\n",
      "[5, 6, [7, 8]]\n",
      "7\n"
     ]
    }
   ],
   "source": [
    "a = [1 , 2, 'abc',[3,4,[5,6,[7,8]]]]\n",
    "print(a[3])\n",
    "print(a[3][0])\n",
    "print(a[3][2])\n",
    "print(a[3][2][2][0])"
   ]
  },
  {
   "cell_type": "markdown",
   "id": "7600551e",
   "metadata": {},
   "source": [
    "### 문자열, 리스트 곱셈 가능(반복)"
   ]
  },
  {
   "cell_type": "code",
   "execution_count": 7,
   "id": "f86fda16",
   "metadata": {},
   "outputs": [
    {
     "name": "stdout",
     "output_type": "stream",
     "text": [
      "PythonPython\n",
      "[1, 2, 'abc', [3, 4, [5, 6, [7, 8]]], 1, 2, 'abc', [3, 4, [5, 6, [7, 8]]]]\n"
     ]
    }
   ],
   "source": [
    "str = 'Python'\n",
    "print(str * 2)\n",
    "print(a * 2)"
   ]
  },
  {
   "cell_type": "markdown",
   "id": "a37b5ac3",
   "metadata": {},
   "source": [
    "### C 처럼 리스트 원소 변경 가능"
   ]
  },
  {
   "cell_type": "code",
   "execution_count": 8,
   "id": "d26f6751",
   "metadata": {},
   "outputs": [
    {
     "name": "stdout",
     "output_type": "stream",
     "text": [
      "1\n",
      "change\n"
     ]
    }
   ],
   "source": [
    "print(a[0])\n",
    "a[0] = 'change'\n",
    "print(a[0])"
   ]
  },
  {
   "cell_type": "markdown",
   "id": "abaec07b",
   "metadata": {},
   "source": [
    "### join()  \n",
    "문자열 삽입"
   ]
  },
  {
   "cell_type": "code",
   "execution_count": 175,
   "id": "4675aabd",
   "metadata": {},
   "outputs": [
    {
     "name": "stdout",
     "output_type": "stream",
     "text": [
      "<class 'list'>\n",
      "['a', 'b', 'c', 'd']\n"
     ]
    }
   ],
   "source": [
    "a = \"\".join('abcd')\n",
    "b =list(a)\n",
    "print(type(b))\n",
    "print(b)"
   ]
  },
  {
   "cell_type": "markdown",
   "id": "539b2cb7",
   "metadata": {},
   "source": [
    "## 리스트 삭제\n",
    "### del 함수 - 리스트의 특정 요소 or 리스트 특정 범위를 삭제"
   ]
  },
  {
   "cell_type": "code",
   "execution_count": 14,
   "id": "14531526",
   "metadata": {},
   "outputs": [
    {
     "name": "stdout",
     "output_type": "stream",
     "text": [
      "[100, 200, 300, 400, 500, 600, 700]\n",
      "[100, 300, 400, 500, 600, 700]\n",
      "[100, 600, 700]\n"
     ]
    }
   ],
   "source": [
    "c = [100, 200, 300, 400, 500, 600, 700]\n",
    "print(c)\n",
    "# 특정 위치 삭제\n",
    "del(c[1])\n",
    "print(c)\n",
    " \n",
    "# 범위 삭제\n",
    "del(c[1:4])\n",
    "print(c)"
   ]
  },
  {
   "cell_type": "markdown",
   "id": "ef8d7f88",
   "metadata": {},
   "source": [
    "### remove(x) - 리스트에서 첫 번째로 나오는 x 삭제"
   ]
  },
  {
   "cell_type": "code",
   "execution_count": 16,
   "id": "91c4b84b",
   "metadata": {},
   "outputs": [
    {
     "name": "stdout",
     "output_type": "stream",
     "text": [
      "[100, 200, 300, 500, 600, 700]\n"
     ]
    }
   ],
   "source": [
    "c = [100, 200, 300, 300, 500, 600, 700]\n",
    "c.remove(300)\n",
    "print(c)"
   ]
  },
  {
   "cell_type": "markdown",
   "id": "fdd963e7",
   "metadata": {},
   "source": [
    "### pop() - 리스트의 맨 마지막 요소를 돌려주고 해당 요소 삭제"
   ]
  },
  {
   "cell_type": "code",
   "execution_count": 180,
   "id": "9f041849",
   "metadata": {},
   "outputs": [
    {
     "name": "stdout",
     "output_type": "stream",
     "text": [
      "[100, 200, 300, 300, 500, 600]\n",
      "700\n"
     ]
    }
   ],
   "source": [
    "c = [100, 200, 300, 300, 500, 600, 700]\n",
    "d = c.pop()\n",
    "print(c)\n",
    "print(d)"
   ]
  },
  {
   "cell_type": "markdown",
   "id": "52d0d358",
   "metadata": {},
   "source": [
    "## 리스트 추가\n",
    "###  insert(a, b): 리스트의 a위치에 b요소 삽입"
   ]
  },
  {
   "cell_type": "code",
   "execution_count": 178,
   "id": "82265781",
   "metadata": {},
   "outputs": [
    {
     "data": {
      "text/plain": [
       "[100, 200, 300, 300, 500, 600, 700, 800]"
      ]
     },
     "execution_count": 178,
     "metadata": {},
     "output_type": "execute_result"
    }
   ],
   "source": [
    "c = [100, 200, 300, 300, 500, 600, 700]\n",
    "c.insert(7,800) #7번째에 800추가\n",
    "c"
   ]
  },
  {
   "cell_type": "markdown",
   "id": "0379f179",
   "metadata": {},
   "source": [
    "### append(): 리스트의 맨 마지막에 요소 추가"
   ]
  },
  {
   "cell_type": "code",
   "execution_count": 23,
   "id": "346c2de1",
   "metadata": {},
   "outputs": [
    {
     "data": {
      "text/plain": [
       "[100, 200, 300, 300, 500, 600, 700, 800]"
      ]
     },
     "execution_count": 23,
     "metadata": {},
     "output_type": "execute_result"
    }
   ],
   "source": [
    "c = [100, 200, 300, 300, 500, 600, 700]\n",
    "c.append(800)\n",
    "c"
   ]
  },
  {
   "cell_type": "markdown",
   "id": "1bd73000",
   "metadata": {},
   "source": [
    "## 그 밖의 리스트 관련 함수\n",
    "### extend(): 리스트에 리스트를 더하는 함수  \n",
    "### sort(): 리스트의 요소를 순서대로 정렬  \n",
    "### reverse(): 리스트를 역순으로 뒤집어 줌\n",
    "### set(), list(): 중복 제거\n",
    "### range(a, b): a ~ b 까지의 요소를 가지는 리스트 생성"
   ]
  },
  {
   "cell_type": "code",
   "execution_count": 181,
   "id": "f7843ab9",
   "metadata": {},
   "outputs": [
    {
     "data": {
      "text/plain": [
       "1"
      ]
     },
     "execution_count": 181,
     "metadata": {},
     "output_type": "execute_result"
    }
   ],
   "source": [
    "# index() 추가 설명\n",
    "a = [1, 2, 3]\n",
    "a.index(3)\n",
    "a = [1, 2, 2, 3, 4, 5]\n",
    "a.index(2,2) # 2를 2번째 인덱스부터 찾을 것\n",
    "a.index(2,0,3) # 2를 0~3번째 인덱스에서 찾는 것"
   ]
  },
  {
   "cell_type": "markdown",
   "id": "bbd8245f",
   "metadata": {},
   "source": [
    "## 튜플 자료형\n",
    "### 튜플은 1개의 요소만을 가질 때는 요소 뒤에 , 를 반드시 붙일 것!  \n",
    "### 리스트와의 차이  \n",
    "리스트: []로 둘러쌈, 생성/삭제/수정 가능  \n",
    "튜플: ()로 둘러쌈, 값 변경 불가능  "
   ]
  },
  {
   "cell_type": "code",
   "execution_count": 37,
   "id": "75effe52",
   "metadata": {},
   "outputs": [],
   "source": [
    "# 선언 \n",
    "t1 = (1, 2, 3)\n",
    "t2 = (1, )\n",
    "t3 = 1, 2, 3"
   ]
  },
  {
   "cell_type": "markdown",
   "id": "3a716181",
   "metadata": {},
   "source": [
    "## 딕셔너리 자료형  \n",
    "### key와 Value의 쌍 여러개  \n",
    "key: 변하지 않는 값  \n",
    "value: 변하는 값과 변하지 않는 값 모두 사용  \n",
    "순서의 개념이 존재하지 않아 인덱싱 및 슬라이싱 불가능  \n",
    "{}로 둘러싸임  \n",
    "각 요소는 , 로 구분 \n",
    "key 중복 금지  \n",
    "key에 리스트 사용 금지  "
   ]
  },
  {
   "cell_type": "code",
   "execution_count": 39,
   "id": "7365e9b3",
   "metadata": {},
   "outputs": [
    {
     "data": {
      "text/plain": [
       "{1: 'a', 2: 'b'}"
      ]
     },
     "execution_count": 39,
     "metadata": {},
     "output_type": "execute_result"
    }
   ],
   "source": [
    "a = {1: 'a'}\n",
    "a[2] = 'b' # {2:'b'} 추가\n",
    "a"
   ]
  },
  {
   "cell_type": "code",
   "execution_count": 40,
   "id": "49a1021d",
   "metadata": {},
   "outputs": [
    {
     "data": {
      "text/plain": [
       "'a'"
      ]
     },
     "execution_count": 40,
     "metadata": {},
     "output_type": "execute_result"
    }
   ],
   "source": [
    "#key 값을 이용해 Value 얻기\n",
    "a[1]"
   ]
  },
  {
   "cell_type": "markdown",
   "id": "08d8e611",
   "metadata": {},
   "source": [
    "## keys(): key만을 모아서 dict_keys 객체 반환"
   ]
  },
  {
   "cell_type": "code",
   "execution_count": 43,
   "id": "cbe340ce",
   "metadata": {},
   "outputs": [
    {
     "data": {
      "text/plain": [
       "dict_keys([1, 2])"
      ]
     },
     "execution_count": 43,
     "metadata": {},
     "output_type": "execute_result"
    }
   ],
   "source": [
    "a.keys()"
   ]
  },
  {
   "cell_type": "code",
   "execution_count": 46,
   "id": "edf68b2a",
   "metadata": {},
   "outputs": [
    {
     "data": {
      "text/plain": [
       "[1, 2]"
      ]
     },
     "execution_count": 46,
     "metadata": {},
     "output_type": "execute_result"
    }
   ],
   "source": [
    "# key 값을 리스트로 변환\n",
    "list(a.keys())"
   ]
  },
  {
   "cell_type": "markdown",
   "id": "df33406b",
   "metadata": {},
   "source": [
    "## values(): Value만을 모아서 dict_values 객체 반환  \n",
    "## items(): key와 Value의 쌍을 튜플로 묶은 값을 모아서 dic_items 객체 반환  \n",
    "## dear(): 딕셔너리 내의 모든 요소 삭제, 빈 딕셔너리는 {}로 표현  \n",
    "## in: key가 딕셔너리 안에 있는지 조사, key가 딕셔너리 안에 존재하면 True, 존재하지 않으면 False 반환  \n",
    "## get(): key에 대응되는 value 반환, 존재하지 않는 키 사용 시 None 반환, key값이 없을 경우 디폴트 값 대신 반환하도록 지정 가능"
   ]
  },
  {
   "cell_type": "markdown",
   "id": "4334d9c5",
   "metadata": {},
   "source": [
    "## 집합 자료형  \n",
    "### set()키워드로 생성, 중복 허용 X, 순서 X  \n",
    "### 교집합: & or intersection()  \n",
    "### 합집합: | or union()  \n",
    "### 차집합: - or difference()  \n",
    "### add(): 이미 만들어진 set 자료형에 값 추가  \n",
    "### update(): 여러 개의 값을 한꺼번에 추가  \n",
    "### remove(): 특정 값을 제거  "
   ]
  },
  {
   "cell_type": "markdown",
   "id": "414ad823",
   "metadata": {},
   "source": [
    "## 불 자료형  \n",
    "### bool(): 자료형의 참/거짓을 식별하는 내장 함수"
   ]
  },
  {
   "cell_type": "code",
   "execution_count": 49,
   "id": "bfebcf60",
   "metadata": {},
   "outputs": [
    {
     "name": "stdout",
     "output_type": "stream",
     "text": [
      "False\n",
      "False\n",
      "True\n",
      "False\n"
     ]
    }
   ],
   "source": [
    "print(bool(''))\n",
    "print(bool(0))\n",
    "print(bool(-1)) # 0이외의 값은 True\n",
    "print(bool([]))"
   ]
  },
  {
   "cell_type": "markdown",
   "id": "b638b7d8",
   "metadata": {},
   "source": [
    "### id(a): a의 메모리 주소 확인"
   ]
  },
  {
   "cell_type": "code",
   "execution_count": 61,
   "id": "e28c4111",
   "metadata": {},
   "outputs": [
    {
     "name": "stdout",
     "output_type": "stream",
     "text": [
      "140710886450992\n"
     ]
    },
    {
     "data": {
      "text/plain": [
       "True"
      ]
     },
     "execution_count": 61,
     "metadata": {},
     "output_type": "execute_result"
    }
   ],
   "source": [
    "a= 1 \n",
    "b =a\n",
    "print(id(a))\n",
    "bool((id(a) == id(b)))"
   ]
  },
  {
   "cell_type": "markdown",
   "id": "4f2e7f57",
   "metadata": {},
   "source": [
    "## .format"
   ]
  },
  {
   "cell_type": "code",
   "execution_count": 65,
   "id": "9796decf",
   "metadata": {},
   "outputs": [
    {
     "name": "stdout",
     "output_type": "stream",
     "text": [
      "1 2 1\n"
     ]
    }
   ],
   "source": [
    "print(\"{0} {1} {0}\" .format(1 ,2)) # 같은 값을 두 번 사용 가능"
   ]
  },
  {
   "cell_type": "markdown",
   "id": "90763963",
   "metadata": {},
   "source": [
    "# 제어문"
   ]
  },
  {
   "cell_type": "markdown",
   "id": "d489fd8b",
   "metadata": {},
   "source": [
    "## if문  \n",
    "if 조건식:  \n",
    "   문장  \n",
    "\n",
    "+ 들여쓰기로 구분하고 나머지는 다른 언어와 유사  \n",
    "+ x in s, x not in s 사용해서 요소 s안에 x 유무 판단 가능  \n",
    "+ elif는 else if 정도로 이해  "
   ]
  },
  {
   "cell_type": "markdown",
   "id": "90ee2bcb",
   "metadata": {},
   "source": [
    "*실습문제  \n",
    "점수(score)를 입력 받아서 90점 이상이면 ‘A’, 80점 이상이면 ‘B’, 70점 이상이면 ‘C’를 그 외 점\n",
    "수는 ‘F’를 출력하는 프로그램을 작성하시오.\n"
   ]
  },
  {
   "cell_type": "code",
   "execution_count": 67,
   "id": "377854ca",
   "metadata": {},
   "outputs": [
    {
     "name": "stdout",
     "output_type": "stream",
     "text": [
      "50\n",
      "F\n"
     ]
    }
   ],
   "source": [
    "score = int(input())\n",
    "if score >= 90:\n",
    "    print('A')\n",
    "elif score >= 80:\n",
    "    print('B')\n",
    "elif score >= 70:\n",
    "    print('C')\n",
    "else:\n",
    "    print('F')"
   ]
  },
  {
   "cell_type": "markdown",
   "id": "44285c5c",
   "metadata": {},
   "source": [
    "## while문  \n",
    "while 조건식 :   \n",
    "문장  \n",
    "+ break, continue 사용 가능"
   ]
  },
  {
   "cell_type": "markdown",
   "id": "f5cb636a",
   "metadata": {},
   "source": [
    "*실습문제  \n",
    "while문을 사용해 1부터 1000까지의 자연수 중 3의 배수의 합을 출력하는 프로그램을 작성하시오."
   ]
  },
  {
   "cell_type": "code",
   "execution_count": 85,
   "id": "8701ac60",
   "metadata": {},
   "outputs": [
    {
     "name": "stdout",
     "output_type": "stream",
     "text": [
      "166833\n"
     ]
    }
   ],
   "source": [
    "i = 1\n",
    "sum_= 0\n",
    "while i <= 1000:\n",
    "    if i % 3 == 0:\n",
    "        sum_ += i\n",
    "    i+=1 # 파이썬에서는 ++ 사용 불가\n",
    "print(sum_) "
   ]
  },
  {
   "cell_type": "code",
   "execution_count": 133,
   "id": "04ad7cc7",
   "metadata": {},
   "outputs": [
    {
     "name": "stdout",
     "output_type": "stream",
     "text": [
      "166833\n"
     ]
    }
   ],
   "source": [
    "sum_= 0\n",
    "for i in range(0,1000):\n",
    "    i+=1 # 파이썬에서는 ++ 사용 불가\n",
    "    if i % 3 == 0:\n",
    "        sum_ += i\n",
    "print(sum_) "
   ]
  },
  {
   "cell_type": "markdown",
   "id": "d4d87553",
   "metadata": {},
   "source": [
    "## for문  \n",
    "for 변수 in 리스트(or 튜플, 문자열):  \n",
    "문장  \n",
    "+ continue, range 사용  \n",
    "range: range( start, stop, jump)"
   ]
  },
  {
   "cell_type": "code",
   "execution_count": 121,
   "id": "48f9e6e7",
   "metadata": {},
   "outputs": [
    {
     "name": "stdout",
     "output_type": "stream",
     "text": [
      "1\n",
      "3\n",
      "5\n",
      "7\n",
      "9\n"
     ]
    }
   ],
   "source": [
    "for i in range(1,10,2):\n",
    "    print(i)"
   ]
  },
  {
   "cell_type": "markdown",
   "id": "c7017bb4",
   "metadata": {},
   "source": [
    "*실습문제  \n",
    "A 학급에 총 10명의 학생이 있다. 이 학생들의 중간고사 점수는 다음과 같다.  \n",
    "[70, 60, 55, 75, 95, 90, 80, 80, 85, 100]  \n",
    "for문을 사용하여 A 학급의 평균 점수를 구하시오."
   ]
  },
  {
   "cell_type": "code",
   "execution_count": 138,
   "id": "663b2061",
   "metadata": {},
   "outputs": [
    {
     "name": "stdout",
     "output_type": "stream",
     "text": [
      "79.0\n"
     ]
    }
   ],
   "source": [
    "score = [70, 60, 55, 75, 95, 90, 80, 80, 85, 100]\n",
    "sum_ = 0\n",
    "for i in score:\n",
    "    sum_ += i\n",
    "avg = sum_ / len(score)\n",
    "print(avg)"
   ]
  },
  {
   "cell_type": "markdown",
   "id": "2e705cba",
   "metadata": {},
   "source": [
    "## 리스트 내포  \n",
    "리스트 안에 for문 포함하기 "
   ]
  },
  {
   "cell_type": "code",
   "execution_count": 150,
   "id": "efba16f8",
   "metadata": {},
   "outputs": [
    {
     "name": "stdout",
     "output_type": "stream",
     "text": [
      "[6, 12]\n"
     ]
    }
   ],
   "source": [
    "a = [1, 2, 3, 4]\n",
    "result = [num*3 for num in a if num % 2 == 0]\n",
    "print(result)"
   ]
  },
  {
   "cell_type": "markdown",
   "id": "c8632273",
   "metadata": {},
   "source": [
    "### end = ''"
   ]
  },
  {
   "cell_type": "code",
   "execution_count": 182,
   "id": "c00250d3",
   "metadata": {
    "scrolled": true
   },
   "outputs": [
    {
     "name": "stdout",
     "output_type": "stream",
     "text": [
      "0 1 2 3 4 5 6 7 8 9 \n",
      "0123456789\n",
      "0\n",
      "1\n",
      "2\n",
      "3\n",
      "4\n",
      "5\n",
      "6\n",
      "7\n",
      "8\n",
      "9\n"
     ]
    }
   ],
   "source": [
    "for i in range(10):\n",
    "    print(i, end=' ') # \\n대신 쓸거\n",
    "print('')\n",
    "for i in range(10):\n",
    "    print(i, end='')\n",
    "print('')\n",
    "for i in range(10):\n",
    "    print(i)"
   ]
  }
 ],
 "metadata": {
  "kernelspec": {
   "display_name": "Python 3",
   "language": "python",
   "name": "python3"
  },
  "language_info": {
   "codemirror_mode": {
    "name": "ipython",
    "version": 3
   },
   "file_extension": ".py",
   "mimetype": "text/x-python",
   "name": "python",
   "nbconvert_exporter": "python",
   "pygments_lexer": "ipython3",
   "version": "3.8.8"
  }
 },
 "nbformat": 4,
 "nbformat_minor": 5
}
