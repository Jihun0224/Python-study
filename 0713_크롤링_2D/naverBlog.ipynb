{
 "cells": [
  {
   "cell_type": "markdown",
   "id": "5f195571",
   "metadata": {},
   "source": [
    "## 네이버 블로그 크롤러\n",
    "## http://www.naver.com"
   ]
  },
  {
   "cell_type": "code",
   "execution_count": 28,
   "id": "c4d720c6",
   "metadata": {},
   "outputs": [
    {
     "name": "stdout",
     "output_type": "stream",
     "text": [
      "====================================================================================================\n",
      "연습문제 6-3 : 블로그 크롤러: 여러건의 네이버 블로그 정보 추출하여 저장하기\n",
      "====================================================================================================\n",
      "\n",
      "\n",
      "1. 크롤링 할 키워드는 무엇입니까?(예:여행) :여행\n",
      "\n",
      "\n",
      "2. 결과에서 반드시 포함하는 단어를 입력하세요(예:국내, 바닷가):\n",
      "(여러개일 경우 ,로 구분해서 입력하고 없으면 엔터를 입력하세요):국내, 바닷가\n",
      "\n",
      "\n",
      "3. 결과에서 제외할 단어를 입력하세요(예: 분양권, 해외)\n",
      "(여러개일 경우 ,로 구분해서 입력하고 없으면 엔터를 입력하세요):분양권, 해외\n",
      "\n",
      "\n",
      "4. 조회 시작일자 입력(예:2017-01-01):2017-01-01\n",
      "5. 조회 종료일자 입력(예:2017-12-31):2017-12-31\n",
      "6. 크롤링 할 건수는 몇건입니까?(최대 1000건) :150\n",
      "7.결과 파일을 저장할 폴더명만 쓰세요(기본값:c:\\temp\\):.\\\\\n"
     ]
    }
   ],
   "source": [
    "import chromedriver_autoinstaller\n",
    "chromedriver_autoinstaller.install()\n",
    "from selenium import webdriver\n",
    "import time\n",
    "import math\n",
    "from bs4 import BeautifulSoup\n",
    "import sys \n",
    "import os\n",
    "print(\"=\" *100)\n",
    "print(\"연습문제 6-3 : 블로그 크롤러: 여러건의 네이버 블로그 정보 추출하여 저장하기\")\n",
    "print(\"=\" *100)\n",
    "print(\"\\n\")\n",
    "keyword = input('1. 크롤링 할 키워드는 무엇입니까?(예:여행) :')\n",
    "print(\"\\n\")\n",
    "print('2. 결과에서 반드시 포함하는 단어를 입력하세요(예:국내, 바닷가):')\n",
    "main_word = input('(여러개일 경우 ,로 구분해서 입력하고 없으면 엔터를 입력하세요):')\n",
    "main_words = main_word.split(',')\n",
    "print(\"\\n\")\n",
    "\n",
    "print('3. 결과에서 제외할 단어를 입력하세요(예: 분양권, 해외)')\n",
    "except_word = input('(여러개일 경우 ,로 구분해서 입력하고 없으면 엔터를 입력하세요):')\n",
    "except_words = except_word.split(',')\n",
    "print(\"\\n\")\n",
    "\n",
    "date_s = input('4. 조회 시작일자 입력(예:2017-01-01):')\n",
    "date_s_list = date_s.split('-')\n",
    "date_e = input('5. 조회 종료일자 입력(예:2017-12-31):')\n",
    "date_e_list = date_e.split('-')\n",
    "count = int(input('6. 크롤링 할 건수는 몇건입니까?(최대 1000건) :'))\n",
    "f_dir = input(\"7.결과 파일을 저장할 폴더명만 쓰세요(기본값:c:\\\\temp\\\\):\")\n",
    "if f_dir == '' :\n",
    "    f_dir=\"c:\\\\temp\\\\\"\n",
    "os.makedirs(f_dir+'-'+keyword)\n",
    "os.chdir(f_dir+'-'+keyword)\n",
    "\n",
    "ff_name=f_dir+'-'+keyword+'\\\\'+'-'+keyword+'.txt'\n",
    "fc_name=f_dir+'-'+keyword+'\\\\'+'-'+keyword+'.csv'\n",
    "fx_name=f_dir+'-'+keyword+'\\\\'+'-'+keyword+'.xls'"
   ]
  },
  {
   "cell_type": "code",
   "execution_count": 29,
   "id": "2ca965dd",
   "metadata": {},
   "outputs": [],
   "source": [
    "chrome_path = \"c:/temp/chromedriver_91/chromedriver.exe\"\n",
    "driver = webdriver.Chrome(chrome_path)\n",
    "url = ' http://www.naver.com'\n",
    "\n",
    "driver.get(url)\n",
    "driver.maximize_window() #window 크기 최대로\n",
    "time.sleep(2)\n",
    "#네이버 검색창에 키워드 검색\n",
    "element = driver.find_element_by_id(\"query\")\n",
    "driver.find_element_by_id(\"query\").click()\n",
    "main_word_=''\n",
    "exp_word_=''\n",
    "for word in main_words:\n",
    "    main_word_+= '+'+word.strip()\n",
    "for word in except_words:\n",
    "    exp_word_+= '-'+word.strip()    \n",
    "search_str = keyword+main_word_+exp_word_\n",
    "# 검색 -> VIEW -> 블로그\n",
    "element.send_keys(search_str)\n",
    "element.send_keys(\"\\n\")\n",
    "driver.find_element_by_link_text('VIEW').click()\n",
    "driver.find_element_by_xpath('//*[@id=\"snb\"]/div[1]/div/div[1]/a[2]').click()"
   ]
  },
  {
   "cell_type": "code",
   "execution_count": 36,
   "id": "6a542f9a",
   "metadata": {},
   "outputs": [],
   "source": [
    "#검색 옵션\n",
    "driver.find_element_by_xpath('//*[@id=\"snb\"]/div[1]/div/div[2]/a').click()\n",
    "#검색 기간 직접입력\n",
    "driver.find_element_by_xpath('//*[@id=\"snb\"]/div[2]/ul/li[3]/div/div[1]/a[9]').click()"
   ]
  },
  {
   "cell_type": "code",
   "execution_count": 37,
   "id": "3b9695d6",
   "metadata": {},
   "outputs": [],
   "source": [
    "driver.find_element_by_link_text(date_s_list[0]).click()"
   ]
  },
  {
   "cell_type": "code",
   "execution_count": null,
   "id": "6c5a4ef0",
   "metadata": {},
   "outputs": [],
   "source": []
  }
 ],
 "metadata": {
  "kernelspec": {
   "display_name": "Python 3",
   "language": "python",
   "name": "python3"
  },
  "language_info": {
   "codemirror_mode": {
    "name": "ipython",
    "version": 3
   },
   "file_extension": ".py",
   "mimetype": "text/x-python",
   "name": "python",
   "nbconvert_exporter": "python",
   "pygments_lexer": "ipython3",
   "version": "3.8.8"
  }
 },
 "nbformat": 4,
 "nbformat_minor": 5
}
