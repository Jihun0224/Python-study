{
 "cells": [
  {
   "cell_type": "code",
   "execution_count": 2,
   "metadata": {},
   "outputs": [
    {
     "name": "stdout",
     "output_type": "stream",
     "text": [
      "사진을 저장할 폴더를 지정하세요(예: c:\\data\\) : \n"
     ]
    },
    {
     "ename": "OSError",
     "evalue": "[WinError 123] 파일 이름, 디렉터리 이름 또는 볼륨 레이블 구문이 잘못되었습니다: ''",
     "output_type": "error",
     "traceback": [
      "\u001b[1;31m---------------------------------------------------------------------------\u001b[0m",
      "\u001b[1;31mOSError\u001b[0m                                   Traceback (most recent call last)",
      "\u001b[1;32m<ipython-input-2-83a9cd8ce371>\u001b[0m in \u001b[0;36m<module>\u001b[1;34m\u001b[0m\n\u001b[0;32m     19\u001b[0m \u001b[0ms\u001b[0m \u001b[1;33m=\u001b[0m \u001b[1;34m'%04d-%02d-%02d-%02d-%02d-%02d'\u001b[0m \u001b[1;33m%\u001b[0m \u001b[1;33m(\u001b[0m\u001b[0mnow\u001b[0m\u001b[1;33m.\u001b[0m\u001b[0mtm_year\u001b[0m\u001b[1;33m,\u001b[0m \u001b[0mnow\u001b[0m\u001b[1;33m.\u001b[0m\u001b[0mtm_mon\u001b[0m\u001b[1;33m,\u001b[0m \u001b[0mnow\u001b[0m\u001b[1;33m.\u001b[0m\u001b[0mtm_mday\u001b[0m\u001b[1;33m,\u001b[0m \u001b[0mnow\u001b[0m\u001b[1;33m.\u001b[0m\u001b[0mtm_hour\u001b[0m\u001b[1;33m,\u001b[0m \u001b[0mnow\u001b[0m\u001b[1;33m.\u001b[0m\u001b[0mtm_min\u001b[0m\u001b[1;33m,\u001b[0m \u001b[0mnow\u001b[0m\u001b[1;33m.\u001b[0m\u001b[0mtm_sec\u001b[0m\u001b[1;33m)\u001b[0m\u001b[1;33m\u001b[0m\u001b[1;33m\u001b[0m\u001b[0m\n\u001b[0;32m     20\u001b[0m \u001b[1;33m\u001b[0m\u001b[0m\n\u001b[1;32m---> 21\u001b[1;33m \u001b[0mos\u001b[0m\u001b[1;33m.\u001b[0m\u001b[0mchdir\u001b[0m\u001b[1;33m(\u001b[0m\u001b[0mf_dir\u001b[0m\u001b[1;33m)\u001b[0m\u001b[1;33m\u001b[0m\u001b[1;33m\u001b[0m\u001b[0m\n\u001b[0m\u001b[0;32m     22\u001b[0m \u001b[0mos\u001b[0m\u001b[1;33m.\u001b[0m\u001b[0mmakedirs\u001b[0m\u001b[1;33m(\u001b[0m\u001b[0mf_dir\u001b[0m\u001b[1;33m+\u001b[0m\u001b[0ms\u001b[0m\u001b[1;33m+\u001b[0m\u001b[1;34m'-'\u001b[0m\u001b[1;33m+\u001b[0m\u001b[0mquery_txt\u001b[0m\u001b[1;33m)\u001b[0m\u001b[1;33m\u001b[0m\u001b[1;33m\u001b[0m\u001b[0m\n\u001b[0;32m     23\u001b[0m \u001b[0mos\u001b[0m\u001b[1;33m.\u001b[0m\u001b[0mchdir\u001b[0m\u001b[1;33m(\u001b[0m\u001b[0mf_dir\u001b[0m\u001b[1;33m+\u001b[0m\u001b[0ms\u001b[0m\u001b[1;33m+\u001b[0m\u001b[1;34m'-'\u001b[0m\u001b[1;33m+\u001b[0m\u001b[0mquery_txt\u001b[0m\u001b[1;33m)\u001b[0m\u001b[1;33m\u001b[0m\u001b[1;33m\u001b[0m\u001b[0m\n",
      "\u001b[1;31mOSError\u001b[0m: [WinError 123] 파일 이름, 디렉터리 이름 또는 볼륨 레이블 구문이 잘못되었습니다: ''"
     ]
    }
   ],
   "source": [
    "#Chap 7-1. 이미지 다운로드용 웹크롤러 만들기\n",
    "# Step 1. 필요한 모듈과 라이브러리를 로딩하고 검색어를 입력 받습니다\n",
    "from bs4 import BeautifulSoup\n",
    "from selenium import webdriver\n",
    "import urllib.request\n",
    "import urllib\n",
    "import time\n",
    "import sys\n",
    "import re\n",
    "import math\n",
    "import os\n",
    "import random\n",
    "\n",
    "f_dir = input('사진을 저장할 폴더를 지정하세요(예: c:\\data\\) : ')\n",
    "query_txt ='사진저장'\n",
    "\n",
    "#Step 2. 파일을 저장할 폴더를 생성합니다\n",
    "now = time.localtime()\n",
    "s = '%04d-%02d-%02d-%02d-%02d-%02d' % (now.tm_year, now.tm_mon, now.tm_mday, now.tm_hour, now.tm_min, now.tm_sec)\n",
    "\n",
    "os.chdir(f_dir)\n",
    "os.makedirs(f_dir+s+'-'+query_txt)\n",
    "os.chdir(f_dir+s+'-'+query_txt)\n",
    "f_result_dir = f_dir+s+'-'+query_txt\n",
    "\n",
    "#Step 3. 크롬 드라이버를 사용해서 웹 브라우저를 실행합니다.\n",
    "path = \"c:/temp/chromedriver_91/chromedriver.exe\"\n",
    "driver = webdriver.Chrome(path)\n",
    "\n",
    "s_time = time.time( )      # 크롤링 시작 시간을 위한 타임 스탬프를 찍습니다\n",
    "\n",
    "driver.get(\"https://korean.visitkorea.or.kr/detail/rem_detail.html?cotid=be3db10c-b642-409c-81cc-c4cdecb5bd8b&temp=\")\n",
    "time.sleep(2)  # 페이지가 모두 열릴 때 까지 2초 기다립니다.\n",
    "\n",
    "# 학습목표 1: 자동 스크롤다운 함수 만들기\n",
    "# Step 4.  스크롤다운 함수를 생성한 후 실행합니다.\n",
    "def scroll_down(driver):\n",
    "    driver.execute_script(\"window.scrollTo(0,document.body.scrollHeight);\")\n",
    "    time.sleep(1)\n",
    "    \n",
    "scroll_down(driver) \n",
    "    \n",
    "\n",
    "# 본문의 사진 정보를 가져와서 지정된 폴더에 저장하기    \n",
    "# Step 5. 이미지 추출하여 저장하기 \n",
    "\n",
    "file_no = 0                                \n",
    "count = 1\n",
    "img_src2=[]\n",
    "\n",
    "html = driver.page_source\n",
    "soup = BeautifulSoup(html, 'html.parser')\n",
    "img_src = soup.find('div','box_txtPhoto').find_all('img')\n",
    "\n",
    "for i in img_src :\n",
    "        img_src1=i['src']\n",
    "        img_src2.append(img_src1)\n",
    "        count += 1\n",
    "\n",
    "for i in range(0,len(img_src2)) :\n",
    "        try :\n",
    "                urllib.request.urlretrieve(img_src2[i],str(file_no)+'.jpg') #사진이 담긴 url로 가서 뒤에 저장명으로 사진을 저장\n",
    "        except :  # url는 뽑았는데 해당 주소에 사진이 없는 경우가 있음 -> 이를 위해 예외처리\n",
    "                continue     \n",
    "        file_no += 1                \n",
    "        time.sleep(0.5)      \n",
    "        print(\"%s 번째 이미지 저장중입니다=======\" %file_no)\n",
    "       \n",
    "# Step 6. 요약 정보를 출력합니다 \n",
    "e_time = time.time( )\n",
    "t_time = e_time - s_time\n",
    "\n",
    "store_cnt = file_no -1\n",
    "\n",
    "print(\"=\" *70)\n",
    "print(\"총 소요시간은 %s 초 입니다 \" %round(t_time,1))\n",
    "print(\"총 저장 건수는 %s 건 입니다 \" %file_no)\n",
    "print(\"파일 저장 경로: %s 입니다\" %f_result_dir)\n",
    "print(\"=\" *70)\n",
    "\n",
    "driver.close( )"
   ]
  },
  {
   "cell_type": "code",
   "execution_count": null,
   "metadata": {},
   "outputs": [],
   "source": []
  }
 ],
 "metadata": {
  "kernelspec": {
   "display_name": "Python 3",
   "language": "python",
   "name": "python3"
  },
  "language_info": {
   "codemirror_mode": {
    "name": "ipython",
    "version": 3
   },
   "file_extension": ".py",
   "mimetype": "text/x-python",
   "name": "python",
   "nbconvert_exporter": "python",
   "pygments_lexer": "ipython3",
   "version": "3.8.8"
  }
 },
 "nbformat": 4,
 "nbformat_minor": 2
}
