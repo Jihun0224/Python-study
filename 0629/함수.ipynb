{
 "cells": [
  {
   "cell_type": "markdown",
   "id": "42ced0c3",
   "metadata": {},
   "source": [
    "## 사용자 정의 함수"
   ]
  },
  {
   "cell_type": "markdown",
   "id": "8a6334e3",
   "metadata": {},
   "source": [
    "### 매개변수 지정하여 호출하기"
   ]
  },
  {
   "cell_type": "code",
   "execution_count": 1,
   "id": "22657e33",
   "metadata": {
    "scrolled": true
   },
   "outputs": [
    {
     "name": "stdout",
     "output_type": "stream",
     "text": [
      "19\n"
     ]
    }
   ],
   "source": [
    "def add(a,b):\n",
    "    return a+b\n",
    "result = add(a=9, b=10)\n",
    "print(result)"
   ]
  },
  {
   "cell_type": "markdown",
   "id": "5290f51c",
   "metadata": {},
   "source": [
    "### 입력값이 몇 개가 될지 모를 때"
   ]
  },
  {
   "cell_type": "code",
   "execution_count": 2,
   "id": "b54e9117",
   "metadata": {},
   "outputs": [
    {
     "name": "stdout",
     "output_type": "stream",
     "text": [
      "15\n"
     ]
    }
   ],
   "source": [
    "def abcd(*args):\n",
    "    result = 0\n",
    "    for i in args: #args의 타입은 튜플\n",
    "        result = result + i\n",
    "    return result\n",
    "result = abcd(1,2,3,4,5)\n",
    "print(result)"
   ]
  },
  {
   "cell_type": "markdown",
   "id": "6143a0a8",
   "metadata": {},
   "source": [
    "### 키워드 파라미터"
   ]
  },
  {
   "cell_type": "code",
   "execution_count": 3,
   "id": "31701766",
   "metadata": {},
   "outputs": [
    {
     "name": "stdout",
     "output_type": "stream",
     "text": [
      "15\n"
     ]
    }
   ],
   "source": [
    "def abc(a,*args):\n",
    "    if a == 'cute':\n",
    "        x = 0\n",
    "        for i in args:\n",
    "            x = x + i\n",
    "    elif a == 'pretty':\n",
    "        x = x * i\n",
    "    return x\n",
    "x = abc('cute',1,2,3,4,5,)\n",
    "print(x)"
   ]
  },
  {
   "cell_type": "code",
   "execution_count": 6,
   "id": "ef61f32e",
   "metadata": {},
   "outputs": [
    {
     "name": "stdout",
     "output_type": "stream",
     "text": [
      "{'a': 10}\n",
      "{'num': 1, 'name': 'kristina', 'age': 30}\n"
     ]
    }
   ],
   "source": [
    "# ** 사용 시 딕셔너리화\n",
    "def abc(**kwargs):\n",
    "    print(kwargs)\n",
    "abc(a=10)\n",
    "abc(num = 1, name = 'kristina', age = 30)"
   ]
  },
  {
   "cell_type": "markdown",
   "id": "dff2b7a4",
   "metadata": {},
   "source": [
    "### 함수의 결과값은 언제나 하나  \n",
    "#### 두개 이상의 값은 튜플형태로 반환"
   ]
  },
  {
   "cell_type": "code",
   "execution_count": 7,
   "id": "9a00e5f5",
   "metadata": {},
   "outputs": [
    {
     "name": "stdout",
     "output_type": "stream",
     "text": [
      "(28, 171)\n"
     ]
    }
   ],
   "source": [
    "def abcd(a,b):\n",
    "    return a+b, a*b\n",
    "x = abcd(9,19)\n",
    "print(x)"
   ]
  },
  {
   "cell_type": "code",
   "execution_count": 9,
   "id": "9d762eb4",
   "metadata": {},
   "outputs": [
    {
     "name": "stdout",
     "output_type": "stream",
     "text": [
      "19\n",
      "90\n"
     ]
    }
   ],
   "source": [
    "x1, x2 = abcd(9, 10)\n",
    "print(x1)\n",
    "print(x2)"
   ]
  },
  {
   "cell_type": "code",
   "execution_count": 10,
   "id": "bda0406c",
   "metadata": {},
   "outputs": [
    {
     "name": "stdout",
     "output_type": "stream",
     "text": [
      "19\n"
     ]
    }
   ],
   "source": [
    "def abcd(a, b):\n",
    "    return a+b\n",
    "    return a*b # 생략됨\n",
    "x = abcd(9, 10)\n",
    "print(x)"
   ]
  },
  {
   "cell_type": "code",
   "execution_count": 11,
   "id": "38ad8ee1",
   "metadata": {},
   "outputs": [],
   "source": [
    "# 앞의 함수와 동일\n",
    "def abcd(a,b):\n",
    "    return a*b"
   ]
  },
  {
   "cell_type": "code",
   "execution_count": 12,
   "id": "f54acab2",
   "metadata": {},
   "outputs": [
    {
     "name": "stdout",
     "output_type": "stream",
     "text": [
      "Name:Kristina\n",
      "Age:27\n",
      "Female\n"
     ]
    }
   ],
   "source": [
    "# 초기값 설정\n",
    "def abcd(name, age, woman = True):\n",
    "    print(\"Name:%s\" %name)\n",
    "    print(\"Age:%s\" %age)\n",
    "    if woman:\n",
    "        print(\"Female\")\n",
    "    else:\n",
    "        print(\"Male\")\n",
    "abcd(\"Kristina\",27)"
   ]
  },
  {
   "cell_type": "code",
   "execution_count": 13,
   "id": "2307bfc5",
   "metadata": {},
   "outputs": [
    {
     "name": "stdout",
     "output_type": "stream",
     "text": [
      "Name:Kristina\n",
      "Age:27\n",
      "Female\n"
     ]
    }
   ],
   "source": [
    "abcd(\"Kristina\",27,True)"
   ]
  },
  {
   "cell_type": "code",
   "execution_count": 15,
   "id": "70f14cc2",
   "metadata": {},
   "outputs": [
    {
     "ename": "SyntaxError",
     "evalue": "non-default argument follows default argument (<ipython-input-15-7412128445f7>, line 1)",
     "output_type": "error",
     "traceback": [
      "\u001b[1;36m  File \u001b[1;32m\"<ipython-input-15-7412128445f7>\"\u001b[1;36m, line \u001b[1;32m1\u001b[0m\n\u001b[1;33m    def abcd(name, woman = True, age):\u001b[0m\n\u001b[1;37m             ^\u001b[0m\n\u001b[1;31mSyntaxError\u001b[0m\u001b[1;31m:\u001b[0m non-default argument follows default argument\n"
     ]
    }
   ],
   "source": [
    "def abcd(name, woman = True, age):\n",
    "    print(\"Name:%s\" %name)\n",
    "    print(\"Age:%s\" %age)\n",
    "    if woman:\n",
    "        print(\"Female\")\n",
    "    else:\n",
    "        print(\"Male\")\n",
    "        #초기값이 설정된 파라미터는 항상 맨 뒤에 위치해야 됨"
   ]
  },
  {
   "cell_type": "code",
   "execution_count": 20,
   "id": "c05305dc",
   "metadata": {},
   "outputs": [
    {
     "name": "stdout",
     "output_type": "stream",
     "text": [
      "1\n"
     ]
    }
   ],
   "source": [
    "#함수 안 밖의 k는 다름\n",
    "k = 1\n",
    "def abcd(k):\n",
    "    k = k + 1\n",
    "abcd(k)\n",
    "print(k)"
   ]
  },
  {
   "cell_type": "code",
   "execution_count": 21,
   "id": "08c2cd06",
   "metadata": {},
   "outputs": [
    {
     "name": "stdout",
     "output_type": "stream",
     "text": [
      "10\n"
     ]
    }
   ],
   "source": [
    "def abcd(k):\n",
    "    k +=1\n",
    "    return k\n",
    "k = abcd(9)\n",
    "print(k)"
   ]
  },
  {
   "cell_type": "code",
   "execution_count": 22,
   "id": "fa901efd",
   "metadata": {},
   "outputs": [
    {
     "name": "stdout",
     "output_type": "stream",
     "text": [
      "2\n"
     ]
    }
   ],
   "source": [
    "k = 1\n",
    "def abcd(k):\n",
    "    k = k +1\n",
    "    return k\n",
    "k = abcd(k)\n",
    "print(k)"
   ]
  },
  {
   "cell_type": "code",
   "execution_count": 24,
   "id": "a275997f",
   "metadata": {},
   "outputs": [
    {
     "name": "stdout",
     "output_type": "stream",
     "text": [
      "2\n"
     ]
    }
   ],
   "source": [
    "# 되도록 사용 X, 첫번째 방법 추천\n",
    "k = 1\n",
    "def abcd():\n",
    "    global k\n",
    "    k = k +1\n",
    "abcd()\n",
    "print(k)"
   ]
  },
  {
   "cell_type": "code",
   "execution_count": 25,
   "id": "a65d91db",
   "metadata": {},
   "outputs": [
    {
     "name": "stdout",
     "output_type": "stream",
     "text": [
      "19\n"
     ]
    }
   ],
   "source": [
    "# lambda\n",
    "abcd = lambda a, b: a+b\n",
    "result = abcd(9,10)\n",
    "print(result)"
   ]
  },
  {
   "cell_type": "markdown",
   "id": "1e876597",
   "metadata": {},
   "source": [
    "*실습문제  \n",
    "입력한 자연수가 홀수인지 짝수인지 판별해 주는 함수(is_odd)를 작성해 보자"
   ]
  },
  {
   "cell_type": "code",
   "execution_count": 5,
   "id": "0a6e06ca",
   "metadata": {},
   "outputs": [
    {
     "name": "stdout",
     "output_type": "stream",
     "text": [
      "21\n",
      "홀수입니다\n"
     ]
    }
   ],
   "source": [
    "def is_odd(x):\n",
    "    if x % 2 == 0:\n",
    "        print('짝수입니다.')\n",
    "    else:\n",
    "        print('홀수입니다')\n",
    "num = int(input())\n",
    "is_odd(num)"
   ]
  },
  {
   "cell_type": "markdown",
   "id": "0e4d97b9",
   "metadata": {},
   "source": [
    "### 문자열 붙이기: \"\" or  +\n",
    "### 문자열 띄어쓰기: ,"
   ]
  },
  {
   "cell_type": "markdown",
   "id": "0c6362b4",
   "metadata": {},
   "source": [
    "## 파일 입출력"
   ]
  },
  {
   "cell_type": "code",
   "execution_count": 48,
   "id": "7704b235",
   "metadata": {},
   "outputs": [
    {
     "name": "stdout",
     "output_type": "stream",
     "text": [
      "1\n"
     ]
    }
   ],
   "source": [
    "# 파일 생성\n",
    "# f = open(\"파일이름.txt\",'r')\n",
    "# 파일 닫기\n",
    "# f.close()\n",
    "# 파일 입출력\n",
    "a = open(\"파일이름.txt\",'w')\n",
    "b = a.write('1')\n",
    "b = a.write('\\n')\n",
    "print(b)\n",
    "a.close()"
   ]
  },
  {
   "cell_type": "markdown",
   "id": "42b318cf",
   "metadata": {},
   "source": [
    "### 파일 전체 읽기"
   ]
  },
  {
   "cell_type": "code",
   "execution_count": 31,
   "id": "7c71c39f",
   "metadata": {},
   "outputs": [
    {
     "name": "stdout",
     "output_type": "stream",
     "text": [
      "['1\\n']\n"
     ]
    }
   ],
   "source": [
    "a = open(\"파일이름.txt\",'r')\n",
    "while 1:\n",
    "    b = a.readlines()\n",
    "    if not b:break\n",
    "    print(b)\n",
    "a.close()"
   ]
  },
  {
   "cell_type": "code",
   "execution_count": 35,
   "id": "1d311a42",
   "metadata": {},
   "outputs": [
    {
     "name": "stdout",
     "output_type": "stream",
     "text": [
      "\n"
     ]
    }
   ],
   "source": [
    "# readlines()\n",
    "a = open(\"파일이름.txt\",'r')\n",
    "b = a.readlines()\n",
    "for i in b:\n",
    "    print(i)\n",
    "a.close()\n",
    "\n",
    "# read\n",
    "a = open(\"파일이름.txt\",'r')\n",
    "b = a.read()\n",
    "print(b)\n",
    "a.close()"
   ]
  },
  {
   "cell_type": "markdown",
   "id": "801ba6be",
   "metadata": {},
   "source": [
    "### 파일 읽고 쓰기 'a'"
   ]
  },
  {
   "cell_type": "code",
   "execution_count": 49,
   "id": "2795e6a3",
   "metadata": {},
   "outputs": [
    {
     "name": "stdout",
     "output_type": "stream",
     "text": [
      "1\n",
      "0번 항목\n",
      "1번 항목\n",
      "2번 항목\n",
      "3번 항목\n",
      "4번 항목\n",
      "5번 항목\n",
      "6번 항목\n",
      "7번 항목\n",
      "8번 항목\n",
      "9번 항목\n"
     ]
    }
   ],
   "source": [
    "a = open(\"파일이름.txt\",'a')\n",
    "for i in range(0,10):\n",
    "    b=\"%d번 항목\\n\"%i\n",
    "    a.write(b)\n",
    "a = open(\"파일이름.txt\",'r')\n",
    "b = a.readlines()\n",
    "for i in b:\n",
    "    print(i,end='')\n",
    "a.close()"
   ]
  },
  {
   "cell_type": "markdown",
   "id": "e5c58647",
   "metadata": {},
   "source": [
    "### with 사용법  \n",
    "with문은 파일을 열고 닫는 것을 자동으로 처리해주는 문법  "
   ]
  },
  {
   "cell_type": "code",
   "execution_count": 53,
   "id": "b6503117",
   "metadata": {},
   "outputs": [
    {
     "name": "stdout",
     "output_type": "stream",
     "text": [
      "Life is too short, you need python\n"
     ]
    }
   ],
   "source": [
    "with open(\"파일이름1.txt\",'w') as f:\n",
    "    f.write(\"Life is too short, you need python\")\n",
    "with open(\"파일이름1.txt\",'r') as f:\n",
    "    b = f.readline()\n",
    "    print(b)"
   ]
  },
  {
   "cell_type": "markdown",
   "id": "1a2d9009",
   "metadata": {},
   "source": [
    "*실습문제  \n",
    "▪ 다음과 같은 내용을 지닌 파일 test.txt가 있다.  \n",
    "▪ 이 파일의 내용 중 \"java\"라는 문자열을 \"python\"으로 바꾸어서 저장해 보자  \n",
    "Life is too short  \n",
    "You need java"
   ]
  },
  {
   "cell_type": "code",
   "execution_count": 98,
   "id": "99c1764a",
   "metadata": {},
   "outputs": [
    {
     "name": "stdout",
     "output_type": "stream",
     "text": [
      "['Life is too short\\n', 'You need python']\n"
     ]
    }
   ],
   "source": [
    "with open(\"test.txt\",'w') as f:\n",
    "    f.write(\"Life is too short\\nYou need java\")\n",
    "with open(\"test.txt\",'r') as f:\n",
    "    b = f.readlines()\n",
    "temp = ''.join(b)\n",
    "str1 = temp.replace('java','python')\n",
    "with open(\"test.txt\",'w') as f:\n",
    "    f.write(str1)\n",
    "with open(\"test.txt\",'r') as f:\n",
    "    b = f.readlines()\n",
    "    print(b)"
   ]
  },
  {
   "cell_type": "markdown",
   "id": "3cc1d8cd",
   "metadata": {},
   "source": [
    "*실습문제  \n",
    "▪ 10명 학생의 점수가 [70, 60, 55, 75, 95, 90, 80, 80, 85, 100]이다. 이를 파일(score.txt)에 저장하시오.  \n",
    "▪ score.txt 파일에 저장한 점수를 불러와서 총점과 평균을 구하시오."
   ]
  },
  {
   "cell_type": "code",
   "execution_count": 73,
   "id": "af640d06",
   "metadata": {},
   "outputs": [
    {
     "name": "stdout",
     "output_type": "stream",
     "text": [
      "총점: 790\n",
      "평균: 79.0\n"
     ]
    }
   ],
   "source": [
    "with open(\"score.txt\",'w') as f:\n",
    "    f.write(\"70, 60, 55, 75, 95, 90, 80, 80, 85, 100\")\n",
    "with open(\"score.txt\",'r') as f:\n",
    "    b = f.readline()\n",
    "\n",
    "list = b.split(',')\n",
    "total = 0\n",
    "for i in list:\n",
    "    total += int(i)\n",
    "print('총점:',total)\n",
    "print('평균:',total/len(list))"
   ]
  },
  {
   "cell_type": "code",
   "execution_count": 120,
   "id": "bd6b17e8",
   "metadata": {},
   "outputs": [
    {
     "name": "stdout",
     "output_type": "stream",
     "text": [
      "총점: 790\n",
      "평균: 79.0\n"
     ]
    }
   ],
   "source": [
    "score =  [70, 60, 55, 75, 95, 90, 80, 80, 85, 100]\n",
    "total = 0\n",
    "with open(\"score2.txt\",'w') as f:\n",
    "    for i in score:\n",
    "        f.write(repr(i)+\"\\n\")\n",
    "with open(\"score2.txt\",'r') as f:\n",
    "    while 1:\n",
    "        b = f.readline()\n",
    "        if not b:break\n",
    "        total += int(b)\n",
    "print('총점:',total)\n",
    "print('평균:',total/len(list))"
   ]
  },
  {
   "cell_type": "markdown",
   "id": "018227a8",
   "metadata": {},
   "source": [
    "# 클래스  \n",
    "▪ 클래스로 만든 객체의 특징  \n",
    "▪ 객체마다 고유한 성격을 가짐  \n",
    "▪ 동일한 클래스로 만든 객체들은 서로 전혀 영향을 주지 않음  "
   ]
  },
  {
   "cell_type": "markdown",
   "id": "c039b99d",
   "metadata": {},
   "source": [
    "### 생성자  \n",
    "def _init_(self,...):  \n",
    "객체가 생성 됐을 때 실행될 명령어  \n",
    "+ java에서 this가 self\n",
    "+ 나머지는 같은듯?  "
   ]
  },
  {
   "cell_type": "markdown",
   "id": "bb5dda8b",
   "metadata": {},
   "source": [
    "### 상속  \n",
    "class 클래스 이름(상속할 클래스 이름)  \n",
    "+ 자바와 같음  "
   ]
  },
  {
   "cell_type": "markdown",
   "id": "cdf2315f",
   "metadata": {},
   "source": [
    "### 메서드 오버라이딩  \n",
    "+ 자바와 같음"
   ]
  }
 ],
 "metadata": {
  "kernelspec": {
   "display_name": "Python 3",
   "language": "python",
   "name": "python3"
  },
  "language_info": {
   "codemirror_mode": {
    "name": "ipython",
    "version": 3
   },
   "file_extension": ".py",
   "mimetype": "text/x-python",
   "name": "python",
   "nbconvert_exporter": "python",
   "pygments_lexer": "ipython3",
   "version": "3.8.8"
  }
 },
 "nbformat": 4,
 "nbformat_minor": 5
}
