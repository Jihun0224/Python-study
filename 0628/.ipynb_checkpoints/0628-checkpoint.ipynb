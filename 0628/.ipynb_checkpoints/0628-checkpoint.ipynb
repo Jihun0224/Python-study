{
 "cells": [
  {
   "cell_type": "markdown",
   "id": "fd32ada0",
   "metadata": {},
   "source": [
    "## jupyter notebook 단축키  \n",
    "dd: 셀 지우기  \n",
    "shift + enter : run  \n",
    "a : 셀 생성  \n",
    "esc: 모드 변경  \n",
    "edit mode에서 m: 마크다운으로 변경"
   ]
  },
  {
   "cell_type": "markdown",
   "id": "c8fd8ea8",
   "metadata": {},
   "source": [
    "## 문자열 사용법  \n",
    "1. \"Python\"  \n",
    "2. 'Python'\n",
    "3. '''Python'''  \n",
    "4. \"\"\"Python\"\"\"  \n",
    "', \" 과 ''', \"\"\"의 차이점: 줄 바꿈 처리  "
   ]
  },
  {
   "cell_type": "code",
   "execution_count": 2,
   "id": "1411e741",
   "metadata": {
    "scrolled": true
   },
   "outputs": [
    {
     "ename": "SyntaxError",
     "evalue": "EOL while scanning string literal (<ipython-input-2-f877f1a780ce>, line 1)",
     "output_type": "error",
     "traceback": [
      "\u001b[1;36m  File \u001b[1;32m\"<ipython-input-2-f877f1a780ce>\"\u001b[1;36m, line \u001b[1;32m1\u001b[0m\n\u001b[1;33m    s1 = 'python\u001b[0m\n\u001b[1;37m                 ^\u001b[0m\n\u001b[1;31mSyntaxError\u001b[0m\u001b[1;31m:\u001b[0m EOL while scanning string literal\n"
     ]
    }
   ],
   "source": [
    "s1 = 'python \n",
    "is good language'\n",
    "print(s1)"
   ]
  },
  {
   "cell_type": "code",
   "execution_count": 23,
   "id": "c4b73d2e",
   "metadata": {},
   "outputs": [
    {
     "name": "stdout",
     "output_type": "stream",
     "text": [
      "python \n",
      "is good language\n"
     ]
    }
   ],
   "source": [
    "s2 = '''python \n",
    "is good language'''\n",
    "print(s2)"
   ]
  },
  {
   "cell_type": "markdown",
   "id": "641576c0",
   "metadata": {},
   "source": [
    "### 문자열 자료형"
   ]
  },
  {
   "cell_type": "code",
   "execution_count": 22,
   "id": "b3e2bc56",
   "metadata": {},
   "outputs": [
    {
     "data": {
      "text/plain": [
       "25"
      ]
     },
     "execution_count": 22,
     "metadata": {},
     "output_type": "execute_result"
    }
   ],
   "source": [
    "# 문자열 길이\n",
    "len(s2)"
   ]
  },
  {
   "cell_type": "code",
   "execution_count": 20,
   "id": "6c2c522e",
   "metadata": {},
   "outputs": [
    {
     "name": "stdout",
     "output_type": "stream",
     "text": [
      "python\n",
      "python \n",
      "is good language\n"
     ]
    }
   ],
   "source": [
    "# 슬라이싱\n",
    "print(s2[0:6]) # 0 ~ 5\n",
    "print(s2[:-1]) # 0 ~ n"
   ]
  },
  {
   "cell_type": "code",
   "execution_count": 21,
   "id": "1c92027f",
   "metadata": {},
   "outputs": [
    {
     "data": {
      "text/plain": [
       "'나의 이름은 홍길동입니다. 나이는 30입니다.'"
      ]
     },
     "execution_count": 21,
     "metadata": {},
     "output_type": "execute_result"
    }
   ],
   "source": [
    "# f string  \n",
    "name = \"홍길동\"  \n",
    "age = 30\n",
    "f\"나의 이름은 {name}입니다. 나이는 {age}입니다.\""
   ]
  },
  {
   "cell_type": "code",
   "execution_count": 24,
   "id": "bf5b7510",
   "metadata": {},
   "outputs": [
    {
     "data": {
      "text/plain": [
       "int"
      ]
     },
     "execution_count": 24,
     "metadata": {},
     "output_type": "execute_result"
    }
   ],
   "source": [
    "type(age)"
   ]
  },
  {
   "cell_type": "code",
   "execution_count": 26,
   "id": "05c16f14",
   "metadata": {},
   "outputs": [
    {
     "name": "stdout",
     "output_type": "stream",
     "text": [
      "30\n"
     ]
    }
   ],
   "source": [
    "# 자료형을 틀리게 해도 실행됨\n",
    "print('%s' %age)"
   ]
  },
  {
   "cell_type": "code",
   "execution_count": 29,
   "id": "e8e2d3d0",
   "metadata": {},
   "outputs": [
    {
     "data": {
      "text/plain": [
       "'31'"
      ]
     },
     "execution_count": 29,
     "metadata": {},
     "output_type": "execute_result"
    }
   ],
   "source": [
    "#바로 계산 가능\n",
    "f\"{age+1}\""
   ]
  },
  {
   "cell_type": "markdown",
   "id": "e0e8ae4e",
   "metadata": {},
   "source": [
    "### count()  \n",
    "문자 개수를 세는 함수  \n",
    "### index()와 find()\n",
    "찾는 문자열이 처음 나온 위치를 반환  \n",
    "find()는 찾는 문자열이 없으면 -1 반환  \n",
    "단, index()는 찾는 문자열이 없으면 오류 발생"
   ]
  },
  {
   "cell_type": "code",
   "execution_count": 1,
   "id": "5edc3546",
   "metadata": {},
   "outputs": [
    {
     "name": "stdout",
     "output_type": "stream",
     "text": [
      "2\n",
      "2\n",
      "0\n",
      "0\n",
      "-1\n"
     ]
    }
   ],
   "source": [
    "a = \"hobby\"\n",
    "print(a.count('b'))\n",
    "print(a.find('b'))\n",
    "print(a.find('h'))\n",
    "print(a.index('h'))\n",
    "print(a.find('a'))"
   ]
  },
  {
   "cell_type": "markdown",
   "id": "1ff73048",
   "metadata": {},
   "source": [
    "### split()과 replace()  \n",
    "split(): 공백 또는 문자열을 구분자로 해서 문자열을 분리, 분리된 문자열은 리스트로 반환  \n",
    "replace(): 문자열 안의 특정 값을 다른 값으로 치환  "
   ]
  },
  {
   "cell_type": "code",
   "execution_count": 2,
   "id": "455bdb50",
   "metadata": {},
   "outputs": [
    {
     "name": "stdout",
     "output_type": "stream",
     "text": [
      "['Life', 'is', 'too', 'short']\n",
      "Your leg is too short\n"
     ]
    }
   ],
   "source": [
    "# split\n",
    "a = \"Life is too short\"\n",
    "print(a.split())\n",
    "# replace\n",
    "print(a.replace(\"Life\", \"Your leg\"))"
   ]
  },
  {
   "cell_type": "code",
   "execution_count": 52,
   "id": "6b032398",
   "metadata": {},
   "outputs": [
    {
     "name": "stdout",
     "output_type": "stream",
     "text": [
      "Life\n"
     ]
    }
   ],
   "source": [
    "# 리스트\n",
    "lst = a.split()\n",
    "print(lst[0])"
   ]
  },
  {
   "cell_type": "code",
   "execution_count": 57,
   "id": "31f5d9eb",
   "metadata": {},
   "outputs": [
    {
     "name": "stdout",
     "output_type": "stream",
     "text": [
      "155\n"
     ]
    }
   ],
   "source": [
    "a = input()"
   ]
  },
  {
   "cell_type": "code",
   "execution_count": 58,
   "id": "c2d8a6f3",
   "metadata": {},
   "outputs": [
    {
     "name": "stdout",
     "output_type": "stream",
     "text": [
      "<class 'str'>\n",
      "<class 'int'>\n",
      "255\n"
     ]
    }
   ],
   "source": [
    "#캐스팅\n",
    "print(type(a))\n",
    "print(type(int(a)))\n",
    "print(int(a)+100)"
   ]
  },
  {
   "cell_type": "code",
   "execution_count": 62,
   "id": "cf2a243e",
   "metadata": {},
   "outputs": [
    {
     "name": "stdout",
     "output_type": "stream",
     "text": [
      "이름과 주소를 입력하세요:홍길동 창원\n"
     ]
    }
   ],
   "source": [
    "# 한번에 2개의 값 입력\n",
    "name, address =input(\"이름과 주소를 입력하세요:\").split()"
   ]
  },
  {
   "cell_type": "code",
   "execution_count": 63,
   "id": "13f3a7bc",
   "metadata": {},
   "outputs": [
    {
     "name": "stdout",
     "output_type": "stream",
     "text": [
      "홍길동 창원\n"
     ]
    }
   ],
   "source": [
    "print(name, address)"
   ]
  },
  {
   "cell_type": "code",
   "execution_count": 65,
   "id": "6d41c4b9",
   "metadata": {},
   "outputs": [
    {
     "name": "stdout",
     "output_type": "stream",
     "text": [
      "1\n",
      "1\n",
      "1\n"
     ]
    }
   ],
   "source": [
    "a = b = c = 1\n",
    "print(a)\n",
    "print(b)\n",
    "print(c)"
   ]
  },
  {
   "cell_type": "markdown",
   "id": "62d3f6cf",
   "metadata": {},
   "source": [
    "### 한번에 두 개의 문자열을 int형으로 캐스팅 불가  \n",
    "map 사용으로 해결  "
   ]
  },
  {
   "cell_type": "code",
   "execution_count": 4,
   "id": "66c65656",
   "metadata": {},
   "outputs": [
    {
     "name": "stdout",
     "output_type": "stream",
     "text": [
      "나이, 학년(정수 입력):25 4\n"
     ]
    },
    {
     "ename": "TypeError",
     "evalue": "int() argument must be a string, a bytes-like object or a number, not 'list'",
     "output_type": "error",
     "traceback": [
      "\u001b[1;31m---------------------------------------------------------------------------\u001b[0m",
      "\u001b[1;31mTypeError\u001b[0m                                 Traceback (most recent call last)",
      "\u001b[1;32m<ipython-input-4-fcb2714021fc>\u001b[0m in \u001b[0;36m<module>\u001b[1;34m\u001b[0m\n\u001b[1;32m----> 1\u001b[1;33m \u001b[0mage\u001b[0m\u001b[1;33m,\u001b[0m \u001b[0mgrade\u001b[0m \u001b[1;33m=\u001b[0m \u001b[0mint\u001b[0m\u001b[1;33m(\u001b[0m\u001b[0minput\u001b[0m\u001b[1;33m(\u001b[0m\u001b[1;34m'나이, 학년(정수 입력):'\u001b[0m\u001b[1;33m)\u001b[0m\u001b[1;33m.\u001b[0m\u001b[0msplit\u001b[0m\u001b[1;33m(\u001b[0m\u001b[1;33m)\u001b[0m\u001b[1;33m)\u001b[0m\u001b[1;33m\u001b[0m\u001b[1;33m\u001b[0m\u001b[0m\n\u001b[0m",
      "\u001b[1;31mTypeError\u001b[0m: int() argument must be a string, a bytes-like object or a number, not 'list'"
     ]
    }
   ],
   "source": [
    "age, grade = int(input('나이, 학년(정수 입력):').split())"
   ]
  },
  {
   "cell_type": "code",
   "execution_count": 5,
   "id": "f0b15fdc",
   "metadata": {},
   "outputs": [
    {
     "name": "stdout",
     "output_type": "stream",
     "text": [
      "나이, 학년(정수 입력):25 4\n"
     ]
    }
   ],
   "source": [
    "age, grade = map(int, input('나이, 학년(정수 입력):').split())"
   ]
  }
 ],
 "metadata": {
  "kernelspec": {
   "display_name": "Python 3",
   "language": "python",
   "name": "python3"
  },
  "language_info": {
   "codemirror_mode": {
    "name": "ipython",
    "version": 3
   },
   "file_extension": ".py",
   "mimetype": "text/x-python",
   "name": "python",
   "nbconvert_exporter": "python",
   "pygments_lexer": "ipython3",
   "version": "3.8.8"
  }
 },
 "nbformat": 4,
 "nbformat_minor": 5
}
