{
 "cells": [
  {
   "cell_type": "code",
   "execution_count": 35,
   "id": "d53f9c13",
   "metadata": {},
   "outputs": [
    {
     "name": "stdout",
     "output_type": "stream",
     "text": [
      "31\n",
      "#\n",
      "15\n",
      "##\n",
      "7\n",
      "###\n",
      "3\n",
      "####\n",
      "1\n"
     ]
    },
    {
     "data": {
      "text/plain": [
       "'#### '"
      ]
     },
     "execution_count": 35,
     "metadata": {},
     "output_type": "execute_result"
    }
   ],
   "source": [
    "srt =''\n",
    "x = 9 | 30\n",
    "print(x)\n",
    "while 1:\n",
    "    if x % 2 == 1:\n",
    "        srt = srt + \"#\"\n",
    "        print(srt)\n",
    "    else:\n",
    "        srt = srt + \" \"\n",
    "        print(srt)\n",
    "\n",
    "    x = x // 2\n",
    "    print(x)\n",
    "    if x == 1 or x == 0:\n",
    "        if x == 1:\n",
    "            srt = srt + \" \"\n",
    "        else:\n",
    "            srt = srt + \"#\"\n",
    "        break\n",
    "srt"
   ]
  },
  {
   "cell_type": "code",
   "execution_count": 12,
   "id": "682536fd",
   "metadata": {},
   "outputs": [
    {
     "data": {
      "text/plain": [
       "list"
      ]
     },
     "execution_count": 12,
     "metadata": {},
     "output_type": "execute_result"
    }
   ],
   "source": [
    "type(a)"
   ]
  },
  {
   "cell_type": "code",
   "execution_count": null,
   "id": "83064e3d",
   "metadata": {},
   "outputs": [],
   "source": []
  },
  {
   "cell_type": "code",
   "execution_count": null,
   "id": "1c8b700c",
   "metadata": {},
   "outputs": [],
   "source": []
  }
 ],
 "metadata": {
  "kernelspec": {
   "display_name": "Python 3",
   "language": "python",
   "name": "python3"
  },
  "language_info": {
   "codemirror_mode": {
    "name": "ipython",
    "version": 3
   },
   "file_extension": ".py",
   "mimetype": "text/x-python",
   "name": "python",
   "nbconvert_exporter": "python",
   "pygments_lexer": "ipython3",
   "version": "3.8.8"
  }
 },
 "nbformat": 4,
 "nbformat_minor": 5
}
