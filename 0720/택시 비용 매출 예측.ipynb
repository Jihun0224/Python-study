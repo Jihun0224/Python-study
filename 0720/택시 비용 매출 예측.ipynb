{
 "cells": [
  {
   "cell_type": "markdown",
   "id": "0bdd55e0",
   "metadata": {},
   "source": [
    "# 실습 3. 택시 비용 매출 예측  \n",
    "1. 데이터\n",
    ": cab_rides.csv, weather.csv\n",
    "2. 예측: Lyft/Uber 택시 가격 예측\n",
    "3. 특징\n",
    ": cab 운행 정보데이터와 날씨 데이터 함께(join) 분석\n",
    "4. 목표:  \n",
    "• 두개의 데이터 전처리\n",
    "후 Join(Merge)  \n",
    "• 가격 예측 90% 이상  "
   ]
  },
  {
   "cell_type": "markdown",
   "id": "c7d02767",
   "metadata": {},
   "source": [
    "## Hint  \n",
    "1. location으로 join\n",
    "1. join할 시 left join으로 택시 데이터를 잃지 않도록"
   ]
  },
  {
   "cell_type": "code",
   "execution_count": null,
   "id": "5b0b510a",
   "metadata": {},
   "outputs": [],
   "source": [
    "lyft_uber"
   ]
  }
 ],
 "metadata": {
  "kernelspec": {
   "display_name": "Python 3",
   "language": "python",
   "name": "python3"
  },
  "language_info": {
   "codemirror_mode": {
    "name": "ipython",
    "version": 3
   },
   "file_extension": ".py",
   "mimetype": "text/x-python",
   "name": "python",
   "nbconvert_exporter": "python",
   "pygments_lexer": "ipython3",
   "version": "3.8.8"
  }
 },
 "nbformat": 4,
 "nbformat_minor": 5
}
