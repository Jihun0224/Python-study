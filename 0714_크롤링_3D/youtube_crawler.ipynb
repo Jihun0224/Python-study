{
 "cells": [
  {
   "cell_type": "code",
   "execution_count": 2,
   "id": "988f9fd9",
   "metadata": {},
   "outputs": [
    {
     "name": "stdout",
     "output_type": "stream",
     "text": [
      "================================================================================\n",
      "유투브 영상의 댓글을 수집하는 웹크롤러입니다\n",
      "================================================================================\n",
      "1.유튜브에서 검색할 주제 키워드를 입력하세요(예:올리브영): 손흥민\n",
      "2.위 주제로 댓글을 크롤링할 유튜브 영상은 몇건입니까?:3\n",
      "3.각 동영상에서 추출할 댓글은 몇건입니까?: 3\n",
      "4.크롤링 결과를 저장할 폴더명만 쓰세요(기본값:c:\\temp\\):\n",
      "\n",
      "\n",
      "요청하신 정보로 데이터를 수집중이니 잠시만 기다려 주세요~~^^\n"
     ]
    }
   ],
   "source": [
    "#입력값 받고, 파일생성\n",
    "from bs4 import BeautifulSoup\n",
    "from selenium import webdriver\n",
    "\n",
    "import time\n",
    "import sys\n",
    "import re\n",
    "import math\n",
    "import numpy \n",
    "import pandas as pd   \n",
    "import xlwt \n",
    "import random\n",
    "import os\n",
    "\n",
    "print(\"=\" *80)\n",
    "print(\"유투브 영상의 댓글을 수집하는 웹크롤러입니다\")\n",
    "print(\"=\" *80)\n",
    "\n",
    "query_txt=input(\"1.유튜브에서 검색할 주제 키워드를 입력하세요(예:올리브영): \")\n",
    "\n",
    "cnt = int(input('2.위 주제로 댓글을 크롤링할 유튜브 영상은 몇건입니까?:'))\n",
    "reple_cnt = int(input('3.각 동영상에서 추출할 댓글은 몇건입니까?: '))\n",
    "\n",
    "f_dir = input(\"4.크롤링 결과를 저장할 폴더명만 쓰세요(기본값:c:\\\\temp\\\\):\")\n",
    "if f_dir == '' :\n",
    "    f_dir = 'c:\\\\temp\\\\'\n",
    "print(\"\\n\")\n",
    "print(\"요청하신 정보로 데이터를 수집중이니 잠시만 기다려 주세요~~^^\") \n",
    "now = time.localtime()\n",
    "s = '%04d-%02d-%02d-%02d-%02d-%02d' % (now.tm_year, now.tm_mon, now.tm_mday, now.tm_hour, now.tm_min, now.tm_sec)\n",
    "\n",
    "os.makedirs(f_dir+'youtube'+'-'+s+'-'+query_txt)\n",
    "os.chdir(f_dir+'youtube'+'-'+s+'-'+query_txt)\n",
    "\n",
    "ff_dir=f_dir+'youtube'+'-'+s+'-'+query_txt\n",
    "ff_name=f_dir+'youtube'+'-'+s+'-'+query_txt+'\\\\'+s+'-'+query_txt+'.txt'\n",
    "fc_name=f_dir+'youtube'+'-'+s+'-'+query_txt+'\\\\'+s+'-'+query_txt+'.csv'\n",
    "fx_name=f_dir+'youtube'+'-'+s+'-'+query_txt+'\\\\'+s+'-'+query_txt+'.xls'\n",
    "\n",
    "s_time = time.time( )"
   ]
  },
  {
   "cell_type": "code",
   "execution_count": 76,
   "id": "f101328d",
   "metadata": {},
   "outputs": [
    {
     "name": "stdout",
     "output_type": "stream",
     "text": [
      "\n",
      "\n",
      "검색된 영상 중 3 건 동영상의 댓글을 추출하겠습니다\n",
      "\n",
      "\n"
     ]
    }
   ],
   "source": [
    "#검색하고 url 리스트 담기\n",
    "import chromedriver_autoinstaller\n",
    "chromedriver_autoinstaller.install()\n",
    "driver= webdriver.Chrome()\n",
    "driver.get('https://www.youtube.com')\n",
    "\n",
    "time.sleep(5)\n",
    "element = driver.find_element_by_name(\"search_query\")\n",
    "element.send_keys(query_txt)\n",
    "element.submit()\n",
    "time.sleep(2)\n",
    "\n",
    "def scroll_down(driver):\n",
    "    driver.execute_script(\"window.scrollTo(500,document.body.scrollHeight);\")\n",
    "#     driver.execute_script(\"window.scrollBy(0,3000);\") # 한페이지 20개씩 출력값\n",
    "    time.sleep(5)\n",
    "\n",
    "if reple_cnt < 20 :\n",
    "    page_cnt = 1 \n",
    "else :\n",
    "    page_cnt = math.ceil(cnt/20)\n",
    "if cnt > 20 :\n",
    "    i = 1\n",
    "    while ( i <=  page_cnt) :\n",
    "        print(\"화면을 %s 회 아래로 스크롤 합니다\" %i)\n",
    "        scroll_down(driver)\n",
    "        time.sleep(1)\n",
    "        i += 1\n",
    "time.sleep(2)\n",
    "\n",
    "html = driver.page_source\n",
    "soup1 = BeautifulSoup(html, 'html.parser')\n",
    "\n",
    "count = 0\n",
    "item=[]\n",
    "\n",
    "print(\"\\n\")\n",
    "for i in soup1.find_all('a','yt-simple-endpoint style-scope ytd-video-renderer'):\n",
    "    item.append(i['href'])\n",
    "    count += 1\n",
    "\n",
    "    if count == cnt :\n",
    "        break\n",
    "\n",
    "print(\"검색된 영상 중 %s 건 동영상의 댓글을 추출하겠습니다\" %cnt)\n",
    "print(\"\\n\")\n",
    "bmp_map = dict.fromkeys(range(0x10000, sys.maxunicode + 1), 0xfffd)\n",
    "\n",
    "full_url=[]\n",
    "url_cnt = 0\n",
    "for x in range(0,len(item)) :\n",
    "    url_cnt += 1\n",
    "    url = 'https://www.youtube.com/' +item[x]\n",
    "    full_url.append(url)\n",
    "    if url_cnt == cnt :\n",
    "        break"
   ]
  },
  {
   "cell_type": "code",
   "execution_count": 78,
   "id": "fc821868",
   "metadata": {},
   "outputs": [
    {
     "name": "stdout",
     "output_type": "stream",
     "text": [
      "\n",
      "\n",
      "1 번째 동영상의 정보를 수집합니다.\n",
      "================================================================================\n",
      "1 번째 동영상의 조회수는 7711 회 이고 수집 가능한 댓글수는 총 303개 입니다\n",
      "1 번째 동영상의 제목은 손흥민 토트넘 재계약 임박? “훈련장 복귀 후 발표” 입니다\n",
      "================================================================================\n",
      "\n",
      "\n",
      "\n",
      "\n",
      "2 번째 동영상의 정보를 수집합니다.\n",
      "================================================================================\n",
      "2 번째 동영상의 조회수는 140632 회 이고 수집 가능한 댓글수는 총 872개 입니다\n",
      "2 번째 동영상의 제목은 (10X쪼호) 손흥민 리버풀 이적설 분석 [달수네라이브] 입니다\n",
      "================================================================================\n",
      "\n",
      "\n",
      "\n",
      "\n",
      "3 번째 동영상의 정보를 수집합니다.\n"
     ]
    },
    {
     "ename": "AttributeError",
     "evalue": "'NoneType' object has no attribute 'get_text'",
     "output_type": "error",
     "traceback": [
      "\u001b[1;31m---------------------------------------------------------------------------\u001b[0m",
      "\u001b[1;31mAttributeError\u001b[0m                            Traceback (most recent call last)",
      "\u001b[1;32m<ipython-input-78-09adeabb77fa>\u001b[0m in \u001b[0;36m<module>\u001b[1;34m\u001b[0m\n\u001b[0;32m     29\u001b[0m     \u001b[0mt_title_2\u001b[0m \u001b[1;33m=\u001b[0m \u001b[0mt_title_1\u001b[0m\u001b[1;33m[\u001b[0m\u001b[1;36m0\u001b[0m\u001b[1;33m]\u001b[0m\u001b[1;33m.\u001b[0m\u001b[0mfind\u001b[0m\u001b[1;33m(\u001b[0m\u001b[1;34m'h1'\u001b[0m\u001b[1;33m)\u001b[0m\u001b[1;33m.\u001b[0m\u001b[0mget_text\u001b[0m\u001b[1;33m(\u001b[0m\u001b[1;33m)\u001b[0m\u001b[1;33m\u001b[0m\u001b[1;33m\u001b[0m\u001b[0m\n\u001b[0;32m     30\u001b[0m     \u001b[0mt_title_3\u001b[0m \u001b[1;33m=\u001b[0m \u001b[0mt_title_2\u001b[0m\u001b[1;33m.\u001b[0m\u001b[0mtranslate\u001b[0m\u001b[1;33m(\u001b[0m\u001b[0mbmp_map\u001b[0m\u001b[1;33m)\u001b[0m\u001b[1;33m.\u001b[0m\u001b[0mreplace\u001b[0m\u001b[1;33m(\u001b[0m\u001b[1;34m\"\\n\"\u001b[0m\u001b[1;33m,\u001b[0m\u001b[1;34m\"\"\u001b[0m\u001b[1;33m)\u001b[0m\u001b[1;33m\u001b[0m\u001b[1;33m\u001b[0m\u001b[0m\n\u001b[1;32m---> 31\u001b[1;33m     \u001b[0mt_view_1\u001b[0m \u001b[1;33m=\u001b[0m \u001b[0msoup2\u001b[0m\u001b[1;33m.\u001b[0m\u001b[0mfind\u001b[0m\u001b[1;33m(\u001b[0m\u001b[1;34m'yt-formatted-string'\u001b[0m\u001b[1;33m,\u001b[0m\u001b[1;34m'count-text style-scope ytd-comments-header-renderer'\u001b[0m\u001b[1;33m)\u001b[0m\u001b[1;33m.\u001b[0m\u001b[0mget_text\u001b[0m\u001b[1;33m(\u001b[0m\u001b[1;33m)\u001b[0m\u001b[1;33m\u001b[0m\u001b[1;33m\u001b[0m\u001b[0m\n\u001b[0m\u001b[0;32m     32\u001b[0m     \u001b[0mt_view_2\u001b[0m \u001b[1;33m=\u001b[0m \u001b[0mt_view_1\u001b[0m\u001b[1;33m.\u001b[0m\u001b[0mreplace\u001b[0m\u001b[1;33m(\u001b[0m\u001b[1;34m\",\"\u001b[0m \u001b[1;33m,\u001b[0m\u001b[1;34m\"\"\u001b[0m\u001b[1;33m)\u001b[0m\u001b[1;33m\u001b[0m\u001b[1;33m\u001b[0m\u001b[0m\n\u001b[0;32m     33\u001b[0m     \u001b[0mt_view_3\u001b[0m \u001b[1;33m=\u001b[0m \u001b[0mre\u001b[0m\u001b[1;33m.\u001b[0m\u001b[0msearch\u001b[0m\u001b[1;33m(\u001b[0m\u001b[1;34m\"\\d+\"\u001b[0m\u001b[1;33m,\u001b[0m\u001b[0mt_view_2\u001b[0m\u001b[1;33m)\u001b[0m\u001b[1;33m\u001b[0m\u001b[1;33m\u001b[0m\u001b[0m\n",
      "\u001b[1;31mAttributeError\u001b[0m: 'NoneType' object has no attribute 'get_text'"
     ]
    }
   ],
   "source": [
    "play_cnt = 1\n",
    "\n",
    "url2=[]\n",
    "reple2=[]\n",
    "reple3=[]\n",
    "reple4=[]\n",
    "writer2=[]\n",
    "wdate2=[]\n",
    "\n",
    "for j in range(0,len(full_url)) :\n",
    "    driver.get(full_url[j])\n",
    "    time.sleep(10)\n",
    "    print(\"\\n\")\n",
    "    print(\"%s 번째 동영상의 정보를 수집합니다.\" %play_cnt)\n",
    "    i = 1\n",
    "    while ( i <=  page_cnt) :\n",
    "        scroll_down(driver)\n",
    "        time.sleep(5)\n",
    "        i += 1    \n",
    "    html = driver.page_source\n",
    "    soup2 = BeautifulSoup(html, 'html.parser')\n",
    "    t_count_0 = soup2.select('#count')\n",
    "    t_count_1 = t_count_0[1].get_text()\n",
    "    t_count_2 = t_count_1.replace(\",\",\"\")\n",
    "    t_count_3 = re.search(\"\\d+\",t_count_2)\n",
    "    t_count_4 = int(t_count_3.group())\n",
    "\n",
    "    t_title_1 = soup2.select('#info-contents')\n",
    "    t_title_2 = t_title_1[0].find('h1').get_text()\n",
    "    t_title_3 = t_title_2.translate(bmp_map).replace(\"\\n\",\"\")\n",
    "    t_view_1 = soup2.find('yt-formatted-string','count-text style-scope ytd-comments-header-renderer').get_text()\n",
    "    t_view_2 = t_view_1.replace(\",\" ,\"\")\n",
    "    t_view_3 = re.search(\"\\d+\",t_view_2)\n",
    "    t_view_4 = int(t_view_3.group())\n",
    "    time.sleep(5)\n",
    "    print(\"=\" *80)\n",
    "    print(\"%s 번째 동영상의 조회수는 %s 회 이고 수집 가능한 댓글수는 총 %s개 입니다\" %(play_cnt,t_count_4,t_view_4))  \n",
    "    print(\"%s 번째 동영상의 제목은 %s 입니다\" %(play_cnt,t_title_3))\n",
    "    print(\"=\" *80)\n",
    "    print(\"\\n\")\n",
    "    play_cnt += 1    \n",
    "        "
   ]
  },
  {
   "cell_type": "code",
   "execution_count": null,
   "id": "90711d5c",
   "metadata": {},
   "outputs": [],
   "source": [
    "comment_list = soup2.find('ytd-item-section-renderer','style-scope ytd-comments').find('div','style-scope ytd-item-section-renderer')\n",
    "comment_list"
   ]
  },
  {
   "cell_type": "code",
   "execution_count": null,
   "id": "ec4d8e13",
   "metadata": {},
   "outputs": [],
   "source": [
    "full_url"
   ]
  },
  {
   "cell_type": "code",
   "execution_count": null,
   "id": "11224c56",
   "metadata": {},
   "outputs": [],
   "source": [
    "import pyautogui\n",
    "pyautogui.scroll(100) # 아래로 스크롤 내리기\n",
    "pyautogui.scroll(-100)# 위로 스크롤 올리기 "
   ]
  },
  {
   "cell_type": "code",
   "execution_count": 69,
   "id": "71e2780b",
   "metadata": {},
   "outputs": [],
   "source": [
    "driver= webdriver.Chrome()\n",
    "\n",
    "driver.get(full_url[0])\n",
    "driver.maximize_window() #window 크기 최대로\n",
    "html = driver.page_source\n",
    "soup2 = BeautifulSoup(html, 'html.parser')\n",
    "time.sleep(5)\n",
    "driver.execute_script(\"window.scrollTo(0,500)\")\n"
   ]
  },
  {
   "cell_type": "code",
   "execution_count": 70,
   "id": "1c01e2b4",
   "metadata": {},
   "outputs": [
    {
     "data": {
      "text/plain": [
       "'손흥민 토트넘 재계약 임박? “훈련장 복귀 후 발표”'"
      ]
     },
     "execution_count": 70,
     "metadata": {},
     "output_type": "execute_result"
    }
   ],
   "source": [
    "title_ = soup2.find('h1','title style-scope ytd-video-primary-info-renderer')\n",
    "title_ = title_.get_text()\n",
    "title_"
   ]
  },
  {
   "cell_type": "code",
   "execution_count": 71,
   "id": "7d2cf80c",
   "metadata": {},
   "outputs": [
    {
     "data": {
      "text/plain": [
       "' 2,205'"
      ]
     },
     "execution_count": 71,
     "metadata": {},
     "output_type": "execute_result"
    }
   ],
   "source": [
    "view_ = soup2.find('span','view-count style-scope ytd-video-view-count-renderer')\n",
    "view_ = view_.get_text().replace('조회수','').replace('회','')\n",
    "view_"
   ]
  },
  {
   "cell_type": "code",
   "execution_count": 74,
   "id": "d58ebc26",
   "metadata": {},
   "outputs": [
    {
     "data": {
      "text/plain": [
       "[]"
      ]
     },
     "execution_count": 74,
     "metadata": {},
     "output_type": "execute_result"
    }
   ],
   "source": []
  },
  {
   "cell_type": "code",
   "execution_count": 75,
   "id": "178778d1",
   "metadata": {},
   "outputs": [
    {
     "ename": "AttributeError",
     "evalue": "'NoneType' object has no attribute 'get_text'",
     "output_type": "error",
     "traceback": [
      "\u001b[1;31m---------------------------------------------------------------------------\u001b[0m",
      "\u001b[1;31mAttributeError\u001b[0m                            Traceback (most recent call last)",
      "\u001b[1;32m<ipython-input-75-e9385dae7106>\u001b[0m in \u001b[0;36m<module>\u001b[1;34m\u001b[0m\n\u001b[1;32m----> 1\u001b[1;33m \u001b[0mt_view_1\u001b[0m \u001b[1;33m=\u001b[0m \u001b[0msoup2\u001b[0m\u001b[1;33m.\u001b[0m\u001b[0mfind\u001b[0m\u001b[1;33m(\u001b[0m\u001b[1;34m'yt-formatted-string'\u001b[0m\u001b[1;33m,\u001b[0m\u001b[1;34m'count-text style-scope ytd-comments-header-renderer'\u001b[0m\u001b[1;33m)\u001b[0m\u001b[1;33m.\u001b[0m\u001b[0mget_text\u001b[0m\u001b[1;33m(\u001b[0m\u001b[1;33m)\u001b[0m\u001b[1;33m\u001b[0m\u001b[1;33m\u001b[0m\u001b[0m\n\u001b[0m\u001b[0;32m      2\u001b[0m \u001b[1;33m\u001b[0m\u001b[0m\n",
      "\u001b[1;31mAttributeError\u001b[0m: 'NoneType' object has no attribute 'get_text'"
     ]
    }
   ],
   "source": []
  },
  {
   "cell_type": "code",
   "execution_count": null,
   "id": "eb27ba3e",
   "metadata": {},
   "outputs": [],
   "source": []
  }
 ],
 "metadata": {
  "kernelspec": {
   "display_name": "Python 3",
   "language": "python",
   "name": "python3"
  },
  "language_info": {
   "codemirror_mode": {
    "name": "ipython",
    "version": 3
   },
   "file_extension": ".py",
   "mimetype": "text/x-python",
   "name": "python",
   "nbconvert_exporter": "python",
   "pygments_lexer": "ipython3",
   "version": "3.8.8"
  }
 },
 "nbformat": 4,
 "nbformat_minor": 5
}
