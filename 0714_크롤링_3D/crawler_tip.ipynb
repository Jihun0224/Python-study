{
 "cells": [
  {
   "cell_type": "markdown",
   "id": "a29f7ffd",
   "metadata": {},
   "source": [
    "headless 모드 사용하기"
   ]
  },
  {
   "cell_type": "code",
   "execution_count": 5,
   "id": "435e6e0e",
   "metadata": {},
   "outputs": [],
   "source": [
    "from selenium import webdriver\n",
    "chrome_path = 'C:\\\\Temp\\\\chromedriver_91\\\\chromedriver.exe'\n",
    "options = webdriver.ChromeOptions()\n",
    "options.add_argument('headless')\n",
    "options.add_argument('window-size=1920x1080')\n",
    "options.add_argument('disable-infobars')\n",
    "driver = webdriver.Chrome(chrome_path, options = options)"
   ]
  },
  {
   "cell_type": "markdown",
   "id": "c94fea0a",
   "metadata": {},
   "source": [
    "python으로 짠 코드를 실행 파일로 만들기  \n",
    "pyinstaller -> dos mode  \n",
    "PyQT5 - window mode"
   ]
  }
 ],
 "metadata": {
  "kernelspec": {
   "display_name": "Python 3",
   "language": "python",
   "name": "python3"
  },
  "language_info": {
   "codemirror_mode": {
    "name": "ipython",
    "version": 3
   },
   "file_extension": ".py",
   "mimetype": "text/x-python",
   "name": "python",
   "nbconvert_exporter": "python",
   "pygments_lexer": "ipython3",
   "version": "3.8.8"
  }
 },
 "nbformat": 4,
 "nbformat_minor": 5
}
