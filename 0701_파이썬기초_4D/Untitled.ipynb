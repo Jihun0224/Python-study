{
 "cells": [
  {
   "cell_type": "code",
   "execution_count": null,
   "id": "cb2626c4",
   "metadata": {},
   "outputs": [],
   "source": [
    "file_path = '../data/경기도인구데이터.xlsx'\n",
    "df = pd.read_excel(file_path, index_col = '구분')\n",
    "df.colums = df.columns.map(str)\n",
    "\n",
    "geo_path = '../data/경기도행정구역경계.json'\n",
    "geo_data = json.load(open(geo_path, encoding = 'utf-8'))\n",
    "g_map = folium.Map(location=[37.5502, 126.982],\n",
    "                    tiles = 'Stamen Terrain', zoom_start = 9)\n",
    "\n",
    "year = '2017'\n",
    "\n",
    "folium.Choropleth(geo)"
   ]
  }
 ],
 "metadata": {
  "kernelspec": {
   "display_name": "Python 3",
   "language": "python",
   "name": "python3"
  },
  "language_info": {
   "codemirror_mode": {
    "name": "ipython",
    "version": 3
   },
   "file_extension": ".py",
   "mimetype": "text/x-python",
   "name": "python",
   "nbconvert_exporter": "python",
   "pygments_lexer": "ipython3",
   "version": "3.8.8"
  }
 },
 "nbformat": 4,
 "nbformat_minor": 5
}
