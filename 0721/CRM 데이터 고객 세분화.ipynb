{
 "cells": [
  {
   "cell_type": "markdown",
   "id": "25e8197c",
   "metadata": {},
   "source": [
    "# 실습 2. CRM 데이터 고객 세분화\n",
    "1. 데이터\n",
    ": Online Retail.csv\n",
    "2. 예측\n",
    ": Retail 구매에 따른 고객 세분화\n",
    "(Segmentaiton\n",
    ")\n",
    "3. 특징\n",
    ": 군집(Clustering) 분석\n",
    "4. 목표\n",
    ":\n",
    "• 군집 알고리즘 사용     \n",
    "• 'TotalSales', 'OrderCount', 'AvgOrderValue’ 전처리   \n",
    "• 위의 Feature로 고객 세분화(Clustering)"
   ]
  },
  {
   "cell_type": "markdown",
   "id": "2146096d",
   "metadata": {},
   "source": [
    "## Hint\n",
    "1. Data load  \n",
    "1. Data Clean-up  \n",
    "- 0 이상인 것만, dropna \n",
    "- InvoiceData 20111201 이상만  \n",
    "- total sales 구하기\n",
    "- customerid로 group by, invoiceNo는 nunique로\n",
    "- 고객마다 몇번 구매한지 구함\n",
    "- rank 메서드로 매출 순위 내림차순\n",
    "3. Customer Segmentation via K means Clustering\n",
    "- Clustering label 넣기\n",
    "- 클러스터링 시각화 해보기 scatter\n",
    "- K값에 따라 \n"
   ]
  },
  {
   "cell_type": "code",
   "execution_count": 1,
   "id": "8d283b72",
   "metadata": {},
   "outputs": [],
   "source": [
    "import matplotlib.pyplot as plt\n",
    "import pandas as pd\n",
    "import numpy as np"
   ]
  },
  {
   "cell_type": "markdown",
   "id": "1aeecb7d",
   "metadata": {},
   "source": [
    "### 데이터 불러오기"
   ]
  },
  {
   "cell_type": "code",
   "execution_count": 2,
   "id": "6768e513",
   "metadata": {},
   "outputs": [
    {
     "data": {
      "text/plain": [
       "(541909, 8)"
      ]
     },
     "execution_count": 2,
     "metadata": {},
     "output_type": "execute_result"
    }
   ],
   "source": [
    "df = pd.read_csv('../data/OnlineRetail.csv')\n",
    "df.shape"
   ]
  },
  {
   "cell_type": "markdown",
   "id": "ebcccb4d",
   "metadata": {},
   "source": [
    "### 데이터 확인  "
   ]
  },
  {
   "cell_type": "code",
   "execution_count": 3,
   "id": "d6758572",
   "metadata": {},
   "outputs": [
    {
     "data": {
      "text/html": [
       "<div>\n",
       "<style scoped>\n",
       "    .dataframe tbody tr th:only-of-type {\n",
       "        vertical-align: middle;\n",
       "    }\n",
       "\n",
       "    .dataframe tbody tr th {\n",
       "        vertical-align: top;\n",
       "    }\n",
       "\n",
       "    .dataframe thead th {\n",
       "        text-align: right;\n",
       "    }\n",
       "</style>\n",
       "<table border=\"1\" class=\"dataframe\">\n",
       "  <thead>\n",
       "    <tr style=\"text-align: right;\">\n",
       "      <th></th>\n",
       "      <th>InvoiceNo</th>\n",
       "      <th>StockCode</th>\n",
       "      <th>Description</th>\n",
       "      <th>Quantity</th>\n",
       "      <th>InvoiceDate</th>\n",
       "      <th>UnitPrice</th>\n",
       "      <th>CustomerID</th>\n",
       "      <th>Country</th>\n",
       "    </tr>\n",
       "  </thead>\n",
       "  <tbody>\n",
       "    <tr>\n",
       "      <th>0</th>\n",
       "      <td>536365</td>\n",
       "      <td>85123A</td>\n",
       "      <td>WHITE HANGING HEART T-LIGHT HOLDER</td>\n",
       "      <td>6</td>\n",
       "      <td>2010-12-01 8:26</td>\n",
       "      <td>2.55</td>\n",
       "      <td>17850.0</td>\n",
       "      <td>United Kingdom</td>\n",
       "    </tr>\n",
       "    <tr>\n",
       "      <th>1</th>\n",
       "      <td>536365</td>\n",
       "      <td>71053</td>\n",
       "      <td>WHITE METAL LANTERN</td>\n",
       "      <td>6</td>\n",
       "      <td>2010-12-01 8:26</td>\n",
       "      <td>3.39</td>\n",
       "      <td>17850.0</td>\n",
       "      <td>United Kingdom</td>\n",
       "    </tr>\n",
       "    <tr>\n",
       "      <th>2</th>\n",
       "      <td>536365</td>\n",
       "      <td>84406B</td>\n",
       "      <td>CREAM CUPID HEARTS COAT HANGER</td>\n",
       "      <td>8</td>\n",
       "      <td>2010-12-01 8:26</td>\n",
       "      <td>2.75</td>\n",
       "      <td>17850.0</td>\n",
       "      <td>United Kingdom</td>\n",
       "    </tr>\n",
       "    <tr>\n",
       "      <th>3</th>\n",
       "      <td>536365</td>\n",
       "      <td>84029G</td>\n",
       "      <td>KNITTED UNION FLAG HOT WATER BOTTLE</td>\n",
       "      <td>6</td>\n",
       "      <td>2010-12-01 8:26</td>\n",
       "      <td>3.39</td>\n",
       "      <td>17850.0</td>\n",
       "      <td>United Kingdom</td>\n",
       "    </tr>\n",
       "    <tr>\n",
       "      <th>4</th>\n",
       "      <td>536365</td>\n",
       "      <td>84029E</td>\n",
       "      <td>RED WOOLLY HOTTIE WHITE HEART.</td>\n",
       "      <td>6</td>\n",
       "      <td>2010-12-01 8:26</td>\n",
       "      <td>3.39</td>\n",
       "      <td>17850.0</td>\n",
       "      <td>United Kingdom</td>\n",
       "    </tr>\n",
       "  </tbody>\n",
       "</table>\n",
       "</div>"
      ],
      "text/plain": [
       "  InvoiceNo StockCode                          Description  Quantity  \\\n",
       "0    536365    85123A   WHITE HANGING HEART T-LIGHT HOLDER         6   \n",
       "1    536365     71053                  WHITE METAL LANTERN         6   \n",
       "2    536365    84406B       CREAM CUPID HEARTS COAT HANGER         8   \n",
       "3    536365    84029G  KNITTED UNION FLAG HOT WATER BOTTLE         6   \n",
       "4    536365    84029E       RED WOOLLY HOTTIE WHITE HEART.         6   \n",
       "\n",
       "       InvoiceDate  UnitPrice  CustomerID         Country  \n",
       "0  2010-12-01 8:26       2.55     17850.0  United Kingdom  \n",
       "1  2010-12-01 8:26       3.39     17850.0  United Kingdom  \n",
       "2  2010-12-01 8:26       2.75     17850.0  United Kingdom  \n",
       "3  2010-12-01 8:26       3.39     17850.0  United Kingdom  \n",
       "4  2010-12-01 8:26       3.39     17850.0  United Kingdom  "
      ]
     },
     "execution_count": 3,
     "metadata": {},
     "output_type": "execute_result"
    }
   ],
   "source": [
    "df.head()"
   ]
  },
  {
   "cell_type": "code",
   "execution_count": 4,
   "id": "faadff0b",
   "metadata": {},
   "outputs": [
    {
     "name": "stdout",
     "output_type": "stream",
     "text": [
      "<class 'pandas.core.frame.DataFrame'>\n",
      "RangeIndex: 541909 entries, 0 to 541908\n",
      "Data columns (total 8 columns):\n",
      " #   Column       Non-Null Count   Dtype  \n",
      "---  ------       --------------   -----  \n",
      " 0   InvoiceNo    541909 non-null  object \n",
      " 1   StockCode    541909 non-null  object \n",
      " 2   Description  540455 non-null  object \n",
      " 3   Quantity     541909 non-null  int64  \n",
      " 4   InvoiceDate  541909 non-null  object \n",
      " 5   UnitPrice    541909 non-null  float64\n",
      " 6   CustomerID   406829 non-null  float64\n",
      " 7   Country      541909 non-null  object \n",
      "dtypes: float64(2), int64(1), object(5)\n",
      "memory usage: 33.1+ MB\n"
     ]
    }
   ],
   "source": [
    "df.info()"
   ]
  },
  {
   "cell_type": "code",
   "execution_count": 5,
   "id": "bc97aee6",
   "metadata": {},
   "outputs": [
    {
     "data": {
      "text/plain": [
       "InvoiceNo           0\n",
       "StockCode           0\n",
       "Description      1454\n",
       "Quantity            0\n",
       "InvoiceDate         0\n",
       "UnitPrice           0\n",
       "CustomerID     135080\n",
       "Country             0\n",
       "dtype: int64"
      ]
     },
     "execution_count": 5,
     "metadata": {},
     "output_type": "execute_result"
    }
   ],
   "source": [
    "df.isna().sum()"
   ]
  },
  {
   "cell_type": "markdown",
   "id": "57485523",
   "metadata": {},
   "source": [
    "### null 행 제거"
   ]
  },
  {
   "cell_type": "code",
   "execution_count": 6,
   "id": "06eed671",
   "metadata": {},
   "outputs": [
    {
     "data": {
      "text/plain": [
       "(406829, 8)"
      ]
     },
     "execution_count": 6,
     "metadata": {},
     "output_type": "execute_result"
    }
   ],
   "source": [
    "df1 = df.dropna(axis =0)\n",
    "df1.shape"
   ]
  },
  {
   "cell_type": "markdown",
   "id": "c646df09",
   "metadata": {},
   "source": [
    "### 각 Invoice의 판매 금액 컬럼 생성"
   ]
  },
  {
   "cell_type": "code",
   "execution_count": 7,
   "id": "b768578a",
   "metadata": {},
   "outputs": [
    {
     "name": "stderr",
     "output_type": "stream",
     "text": [
      "C:\\Users\\wlgns\\anaconda3\\lib\\site-packages\\pandas\\core\\frame.py:3607: SettingWithCopyWarning: \n",
      "A value is trying to be set on a copy of a slice from a DataFrame.\n",
      "Try using .loc[row_indexer,col_indexer] = value instead\n",
      "\n",
      "See the caveats in the documentation: https://pandas.pydata.org/pandas-docs/stable/user_guide/indexing.html#returning-a-view-versus-a-copy\n",
      "  self._set_item(key, value)\n"
     ]
    },
    {
     "data": {
      "text/html": [
       "<div>\n",
       "<style scoped>\n",
       "    .dataframe tbody tr th:only-of-type {\n",
       "        vertical-align: middle;\n",
       "    }\n",
       "\n",
       "    .dataframe tbody tr th {\n",
       "        vertical-align: top;\n",
       "    }\n",
       "\n",
       "    .dataframe thead th {\n",
       "        text-align: right;\n",
       "    }\n",
       "</style>\n",
       "<table border=\"1\" class=\"dataframe\">\n",
       "  <thead>\n",
       "    <tr style=\"text-align: right;\">\n",
       "      <th></th>\n",
       "      <th>InvoiceNo</th>\n",
       "      <th>StockCode</th>\n",
       "      <th>Description</th>\n",
       "      <th>Quantity</th>\n",
       "      <th>InvoiceDate</th>\n",
       "      <th>UnitPrice</th>\n",
       "      <th>CustomerID</th>\n",
       "      <th>Country</th>\n",
       "      <th>sales</th>\n",
       "    </tr>\n",
       "  </thead>\n",
       "  <tbody>\n",
       "    <tr>\n",
       "      <th>0</th>\n",
       "      <td>536365</td>\n",
       "      <td>85123A</td>\n",
       "      <td>WHITE HANGING HEART T-LIGHT HOLDER</td>\n",
       "      <td>6</td>\n",
       "      <td>2010-12-01 8:26</td>\n",
       "      <td>2.55</td>\n",
       "      <td>17850.0</td>\n",
       "      <td>United Kingdom</td>\n",
       "      <td>15.30</td>\n",
       "    </tr>\n",
       "    <tr>\n",
       "      <th>1</th>\n",
       "      <td>536365</td>\n",
       "      <td>71053</td>\n",
       "      <td>WHITE METAL LANTERN</td>\n",
       "      <td>6</td>\n",
       "      <td>2010-12-01 8:26</td>\n",
       "      <td>3.39</td>\n",
       "      <td>17850.0</td>\n",
       "      <td>United Kingdom</td>\n",
       "      <td>20.34</td>\n",
       "    </tr>\n",
       "    <tr>\n",
       "      <th>2</th>\n",
       "      <td>536365</td>\n",
       "      <td>84406B</td>\n",
       "      <td>CREAM CUPID HEARTS COAT HANGER</td>\n",
       "      <td>8</td>\n",
       "      <td>2010-12-01 8:26</td>\n",
       "      <td>2.75</td>\n",
       "      <td>17850.0</td>\n",
       "      <td>United Kingdom</td>\n",
       "      <td>22.00</td>\n",
       "    </tr>\n",
       "    <tr>\n",
       "      <th>3</th>\n",
       "      <td>536365</td>\n",
       "      <td>84029G</td>\n",
       "      <td>KNITTED UNION FLAG HOT WATER BOTTLE</td>\n",
       "      <td>6</td>\n",
       "      <td>2010-12-01 8:26</td>\n",
       "      <td>3.39</td>\n",
       "      <td>17850.0</td>\n",
       "      <td>United Kingdom</td>\n",
       "      <td>20.34</td>\n",
       "    </tr>\n",
       "    <tr>\n",
       "      <th>4</th>\n",
       "      <td>536365</td>\n",
       "      <td>84029E</td>\n",
       "      <td>RED WOOLLY HOTTIE WHITE HEART.</td>\n",
       "      <td>6</td>\n",
       "      <td>2010-12-01 8:26</td>\n",
       "      <td>3.39</td>\n",
       "      <td>17850.0</td>\n",
       "      <td>United Kingdom</td>\n",
       "      <td>20.34</td>\n",
       "    </tr>\n",
       "  </tbody>\n",
       "</table>\n",
       "</div>"
      ],
      "text/plain": [
       "  InvoiceNo StockCode                          Description  Quantity  \\\n",
       "0    536365    85123A   WHITE HANGING HEART T-LIGHT HOLDER         6   \n",
       "1    536365     71053                  WHITE METAL LANTERN         6   \n",
       "2    536365    84406B       CREAM CUPID HEARTS COAT HANGER         8   \n",
       "3    536365    84029G  KNITTED UNION FLAG HOT WATER BOTTLE         6   \n",
       "4    536365    84029E       RED WOOLLY HOTTIE WHITE HEART.         6   \n",
       "\n",
       "       InvoiceDate  UnitPrice  CustomerID         Country  sales  \n",
       "0  2010-12-01 8:26       2.55     17850.0  United Kingdom  15.30  \n",
       "1  2010-12-01 8:26       3.39     17850.0  United Kingdom  20.34  \n",
       "2  2010-12-01 8:26       2.75     17850.0  United Kingdom  22.00  \n",
       "3  2010-12-01 8:26       3.39     17850.0  United Kingdom  20.34  \n",
       "4  2010-12-01 8:26       3.39     17850.0  United Kingdom  20.34  "
      ]
     },
     "execution_count": 7,
     "metadata": {},
     "output_type": "execute_result"
    }
   ],
   "source": [
    "df1['sales'] = df['Quantity'] * df['UnitPrice']\n",
    "df1.head()"
   ]
  },
  {
   "cell_type": "markdown",
   "id": "ec45e1f1",
   "metadata": {},
   "source": [
    "### 고객 개인마다의 구매 데이터"
   ]
  },
  {
   "cell_type": "code",
   "execution_count": 33,
   "id": "9d8f9b87",
   "metadata": {},
   "outputs": [
    {
     "data": {
      "text/plain": [
       "(4372, 2)"
      ]
     },
     "execution_count": 33,
     "metadata": {},
     "output_type": "execute_result"
    }
   ],
   "source": [
    "df2 = df1.groupby('CustomerID').agg({'sales': sum, 'InvoiceNo': lambda x: x.nunique()})\n",
    "df2.head()\n",
    "df2.shape"
   ]
  },
  {
   "cell_type": "code",
   "execution_count": 9,
   "id": "028f5d95",
   "metadata": {},
   "outputs": [
    {
     "data": {
      "text/html": [
       "<div>\n",
       "<style scoped>\n",
       "    .dataframe tbody tr th:only-of-type {\n",
       "        vertical-align: middle;\n",
       "    }\n",
       "\n",
       "    .dataframe tbody tr th {\n",
       "        vertical-align: top;\n",
       "    }\n",
       "\n",
       "    .dataframe thead th {\n",
       "        text-align: right;\n",
       "    }\n",
       "</style>\n",
       "<table border=\"1\" class=\"dataframe\">\n",
       "  <thead>\n",
       "    <tr style=\"text-align: right;\">\n",
       "      <th></th>\n",
       "      <th>TotalSales</th>\n",
       "      <th>OrderCount</th>\n",
       "      <th>AvgOrderValue</th>\n",
       "    </tr>\n",
       "    <tr>\n",
       "      <th>CustomerID</th>\n",
       "      <th></th>\n",
       "      <th></th>\n",
       "      <th></th>\n",
       "    </tr>\n",
       "  </thead>\n",
       "  <tbody>\n",
       "    <tr>\n",
       "      <th>12346.0</th>\n",
       "      <td>0.00</td>\n",
       "      <td>2</td>\n",
       "      <td>0.000000</td>\n",
       "    </tr>\n",
       "    <tr>\n",
       "      <th>12347.0</th>\n",
       "      <td>4310.00</td>\n",
       "      <td>7</td>\n",
       "      <td>615.714286</td>\n",
       "    </tr>\n",
       "    <tr>\n",
       "      <th>12348.0</th>\n",
       "      <td>1797.24</td>\n",
       "      <td>4</td>\n",
       "      <td>449.310000</td>\n",
       "    </tr>\n",
       "    <tr>\n",
       "      <th>12349.0</th>\n",
       "      <td>1757.55</td>\n",
       "      <td>1</td>\n",
       "      <td>1757.550000</td>\n",
       "    </tr>\n",
       "    <tr>\n",
       "      <th>12350.0</th>\n",
       "      <td>334.40</td>\n",
       "      <td>1</td>\n",
       "      <td>334.400000</td>\n",
       "    </tr>\n",
       "  </tbody>\n",
       "</table>\n",
       "</div>"
      ],
      "text/plain": [
       "            TotalSales  OrderCount  AvgOrderValue\n",
       "CustomerID                                       \n",
       "12346.0           0.00           2       0.000000\n",
       "12347.0        4310.00           7     615.714286\n",
       "12348.0        1797.24           4     449.310000\n",
       "12349.0        1757.55           1    1757.550000\n",
       "12350.0         334.40           1     334.400000"
      ]
     },
     "execution_count": 9,
     "metadata": {},
     "output_type": "execute_result"
    }
   ],
   "source": [
    "df2.rename(columns = {'sales' : 'TotalSales',\n",
    "                       'InvoiceNo' : 'OrderCount'},\n",
    "             inplace = True)\n",
    "df2['AvgOrderValue'] = df2['TotalSales'] / df2['OrderCount']\n",
    "df2.head()"
   ]
  },
  {
   "cell_type": "code",
   "execution_count": 10,
   "id": "2e52bb67",
   "metadata": {},
   "outputs": [
    {
     "data": {
      "text/html": [
       "<div>\n",
       "<style scoped>\n",
       "    .dataframe tbody tr th:only-of-type {\n",
       "        vertical-align: middle;\n",
       "    }\n",
       "\n",
       "    .dataframe tbody tr th {\n",
       "        vertical-align: top;\n",
       "    }\n",
       "\n",
       "    .dataframe thead th {\n",
       "        text-align: right;\n",
       "    }\n",
       "</style>\n",
       "<table border=\"1\" class=\"dataframe\">\n",
       "  <thead>\n",
       "    <tr style=\"text-align: right;\">\n",
       "      <th></th>\n",
       "      <th>TotalSales</th>\n",
       "      <th>OrderCount</th>\n",
       "      <th>AvgOrderValue</th>\n",
       "    </tr>\n",
       "  </thead>\n",
       "  <tbody>\n",
       "    <tr>\n",
       "      <th>count</th>\n",
       "      <td>4372.000000</td>\n",
       "      <td>4372.000000</td>\n",
       "      <td>4372.000000</td>\n",
       "    </tr>\n",
       "    <tr>\n",
       "      <th>mean</th>\n",
       "      <td>1898.459701</td>\n",
       "      <td>5.075480</td>\n",
       "      <td>315.883407</td>\n",
       "    </tr>\n",
       "    <tr>\n",
       "      <th>std</th>\n",
       "      <td>8219.345141</td>\n",
       "      <td>9.338754</td>\n",
       "      <td>361.237303</td>\n",
       "    </tr>\n",
       "    <tr>\n",
       "      <th>min</th>\n",
       "      <td>-4287.630000</td>\n",
       "      <td>1.000000</td>\n",
       "      <td>-4287.630000</td>\n",
       "    </tr>\n",
       "    <tr>\n",
       "      <th>25%</th>\n",
       "      <td>293.362500</td>\n",
       "      <td>1.000000</td>\n",
       "      <td>151.991250</td>\n",
       "    </tr>\n",
       "    <tr>\n",
       "      <th>50%</th>\n",
       "      <td>648.075000</td>\n",
       "      <td>3.000000</td>\n",
       "      <td>236.987500</td>\n",
       "    </tr>\n",
       "    <tr>\n",
       "      <th>75%</th>\n",
       "      <td>1611.725000</td>\n",
       "      <td>5.000000</td>\n",
       "      <td>370.816071</td>\n",
       "    </tr>\n",
       "    <tr>\n",
       "      <th>max</th>\n",
       "      <td>279489.020000</td>\n",
       "      <td>248.000000</td>\n",
       "      <td>6207.670000</td>\n",
       "    </tr>\n",
       "  </tbody>\n",
       "</table>\n",
       "</div>"
      ],
      "text/plain": [
       "          TotalSales   OrderCount  AvgOrderValue\n",
       "count    4372.000000  4372.000000    4372.000000\n",
       "mean     1898.459701     5.075480     315.883407\n",
       "std      8219.345141     9.338754     361.237303\n",
       "min     -4287.630000     1.000000   -4287.630000\n",
       "25%       293.362500     1.000000     151.991250\n",
       "50%       648.075000     3.000000     236.987500\n",
       "75%      1611.725000     5.000000     370.816071\n",
       "max    279489.020000   248.000000    6207.670000"
      ]
     },
     "execution_count": 10,
     "metadata": {},
     "output_type": "execute_result"
    }
   ],
   "source": [
    "df2.describe()"
   ]
  },
  {
   "cell_type": "code",
   "execution_count": 11,
   "id": "7cb57809",
   "metadata": {},
   "outputs": [
    {
     "data": {
      "text/html": [
       "<div>\n",
       "<style scoped>\n",
       "    .dataframe tbody tr th:only-of-type {\n",
       "        vertical-align: middle;\n",
       "    }\n",
       "\n",
       "    .dataframe tbody tr th {\n",
       "        vertical-align: top;\n",
       "    }\n",
       "\n",
       "    .dataframe thead th {\n",
       "        text-align: right;\n",
       "    }\n",
       "</style>\n",
       "<table border=\"1\" class=\"dataframe\">\n",
       "  <thead>\n",
       "    <tr style=\"text-align: right;\">\n",
       "      <th></th>\n",
       "      <th>TotalSales</th>\n",
       "      <th>OrderCount</th>\n",
       "      <th>AvgOrderValue</th>\n",
       "    </tr>\n",
       "    <tr>\n",
       "      <th>CustomerID</th>\n",
       "      <th></th>\n",
       "      <th></th>\n",
       "      <th></th>\n",
       "    </tr>\n",
       "  </thead>\n",
       "  <tbody>\n",
       "    <tr>\n",
       "      <th>18280.0</th>\n",
       "      <td>625.0</td>\n",
       "      <td>1312.0</td>\n",
       "      <td>1488.0</td>\n",
       "    </tr>\n",
       "    <tr>\n",
       "      <th>18281.0</th>\n",
       "      <td>159.0</td>\n",
       "      <td>1313.0</td>\n",
       "      <td>297.0</td>\n",
       "    </tr>\n",
       "    <tr>\n",
       "      <th>18282.0</th>\n",
       "      <td>599.0</td>\n",
       "      <td>2619.0</td>\n",
       "      <td>173.0</td>\n",
       "    </tr>\n",
       "    <tr>\n",
       "      <th>18283.0</th>\n",
       "      <td>3544.0</td>\n",
       "      <td>4159.0</td>\n",
       "      <td>789.0</td>\n",
       "    </tr>\n",
       "    <tr>\n",
       "      <th>18287.0</th>\n",
       "      <td>3414.0</td>\n",
       "      <td>2620.0</td>\n",
       "      <td>3987.0</td>\n",
       "    </tr>\n",
       "  </tbody>\n",
       "</table>\n",
       "</div>"
      ],
      "text/plain": [
       "            TotalSales  OrderCount  AvgOrderValue\n",
       "CustomerID                                       \n",
       "18280.0          625.0      1312.0         1488.0\n",
       "18281.0          159.0      1313.0          297.0\n",
       "18282.0          599.0      2619.0          173.0\n",
       "18283.0         3544.0      4159.0          789.0\n",
       "18287.0         3414.0      2620.0         3987.0"
      ]
     },
     "execution_count": 11,
     "metadata": {},
     "output_type": "execute_result"
    }
   ],
   "source": [
    "df2 = df2.rank(method='first')\n",
    "df2.tail()"
   ]
  },
  {
   "cell_type": "code",
   "execution_count": 12,
   "id": "cb9fb8af",
   "metadata": {},
   "outputs": [
    {
     "data": {
      "text/html": [
       "<div>\n",
       "<style scoped>\n",
       "    .dataframe tbody tr th:only-of-type {\n",
       "        vertical-align: middle;\n",
       "    }\n",
       "\n",
       "    .dataframe tbody tr th {\n",
       "        vertical-align: top;\n",
       "    }\n",
       "\n",
       "    .dataframe thead th {\n",
       "        text-align: right;\n",
       "    }\n",
       "</style>\n",
       "<table border=\"1\" class=\"dataframe\">\n",
       "  <thead>\n",
       "    <tr style=\"text-align: right;\">\n",
       "      <th></th>\n",
       "      <th>TotalSales</th>\n",
       "      <th>OrderCount</th>\n",
       "      <th>AvgOrderValue</th>\n",
       "    </tr>\n",
       "  </thead>\n",
       "  <tbody>\n",
       "    <tr>\n",
       "      <th>count</th>\n",
       "      <td>4372.000000</td>\n",
       "      <td>4372.000000</td>\n",
       "      <td>4372.000000</td>\n",
       "    </tr>\n",
       "    <tr>\n",
       "      <th>mean</th>\n",
       "      <td>2186.500000</td>\n",
       "      <td>2186.500000</td>\n",
       "      <td>2186.500000</td>\n",
       "    </tr>\n",
       "    <tr>\n",
       "      <th>std</th>\n",
       "      <td>1262.232018</td>\n",
       "      <td>1262.232018</td>\n",
       "      <td>1262.232018</td>\n",
       "    </tr>\n",
       "    <tr>\n",
       "      <th>min</th>\n",
       "      <td>1.000000</td>\n",
       "      <td>1.000000</td>\n",
       "      <td>1.000000</td>\n",
       "    </tr>\n",
       "    <tr>\n",
       "      <th>25%</th>\n",
       "      <td>1093.750000</td>\n",
       "      <td>1093.750000</td>\n",
       "      <td>1093.750000</td>\n",
       "    </tr>\n",
       "    <tr>\n",
       "      <th>50%</th>\n",
       "      <td>2186.500000</td>\n",
       "      <td>2186.500000</td>\n",
       "      <td>2186.500000</td>\n",
       "    </tr>\n",
       "    <tr>\n",
       "      <th>75%</th>\n",
       "      <td>3279.250000</td>\n",
       "      <td>3279.250000</td>\n",
       "      <td>3279.250000</td>\n",
       "    </tr>\n",
       "    <tr>\n",
       "      <th>max</th>\n",
       "      <td>4372.000000</td>\n",
       "      <td>4372.000000</td>\n",
       "      <td>4372.000000</td>\n",
       "    </tr>\n",
       "  </tbody>\n",
       "</table>\n",
       "</div>"
      ],
      "text/plain": [
       "        TotalSales   OrderCount  AvgOrderValue\n",
       "count  4372.000000  4372.000000    4372.000000\n",
       "mean   2186.500000  2186.500000    2186.500000\n",
       "std    1262.232018  1262.232018    1262.232018\n",
       "min       1.000000     1.000000       1.000000\n",
       "25%    1093.750000  1093.750000    1093.750000\n",
       "50%    2186.500000  2186.500000    2186.500000\n",
       "75%    3279.250000  3279.250000    3279.250000\n",
       "max    4372.000000  4372.000000    4372.000000"
      ]
     },
     "execution_count": 12,
     "metadata": {},
     "output_type": "execute_result"
    }
   ],
   "source": [
    "df2.describe()"
   ]
  },
  {
   "cell_type": "code",
   "execution_count": 14,
   "id": "cbe3a9e4",
   "metadata": {},
   "outputs": [
    {
     "data": {
      "image/png": "[encoded data removed]",
      "text/plain": [
       "<Figure size 432x288 with 1 Axes>"
      ]
     },
     "metadata": {
      "needs_background": "light"
     },
     "output_type": "display_data"
    }
   ],
   "source": [
    "import matplotlib.pyplot as plt\n",
    "X = df2['OrderCount']\n",
    "Y = df2['TotalSales']\n",
    "scatter = plt.scatter(X,Y )\n",
    "\n",
    "plt.title('scatter', pad = 10)\n",
    "plt.xlabel(\"OrderCount\", labelpad=10)\n",
    "plt.ylabel(\"TotalSales\", labelpad=10)\n",
    "plt.show()"
   ]
  },
  {
   "cell_type": "markdown",
   "id": "01c8f8d3",
   "metadata": {},
   "source": [
    "## K-means clustering"
   ]
  },
  {
   "cell_type": "code",
   "execution_count": 16,
   "id": "596e0d3c",
   "metadata": {},
   "outputs": [],
   "source": [
    "from sklearn.cluster import KMeans\n",
    "from sklearn.metrics import silhouette_score"
   ]
  },
  {
   "cell_type": "code",
   "execution_count": 20,
   "id": "08580536",
   "metadata": {},
   "outputs": [
    {
     "name": "stdout",
     "output_type": "stream",
     "text": [
      "**** KMeans with k = 2 ****\n",
      "inertia score: 10731299349.6076\n",
      "silhouette score: 0.4197\n",
      "\n",
      "**** KMeans with k = 3 ****\n",
      "inertia score: 6977817508.6535\n",
      "silhouette score: 0.4178\n",
      "\n",
      "**** KMeans with k = 4 ****\n",
      "inertia score: 4985992050.9093\n",
      "silhouette score: 0.4097\n",
      "\n",
      "**** KMeans with k = 5 ****\n",
      "inertia score: 4165763789.6752\n",
      "silhouette score: 0.3745\n",
      "\n",
      "**** KMeans with k = 6 ****\n",
      "inertia score: 3486848152.0636\n",
      "silhouette score: 0.3687\n",
      "\n",
      "**** KMeans with k = 7 ****\n",
      "inertia score: 3006971577.6032\n",
      "silhouette score: 0.3705\n",
      "\n",
      "**** KMeans with k = 8 ****\n",
      "inertia score: 2627657057.5213\n",
      "silhouette score: 0.3544\n",
      "\n",
      "**** KMeans with k = 9 ****\n",
      "inertia score: 2279884469.4979\n",
      "silhouette score: 0.3654\n",
      "\n",
      "**** KMeans with k = 10 ****\n",
      "inertia score: 2056289659.1985\n",
      "silhouette score: 0.3731\n",
      "\n"
     ]
    }
   ],
   "source": [
    "X = df2[['TotalSales', 'OrderCount', 'AvgOrderValue']]\n",
    "k_set = [2, 3, 4, 5, 6, 7, 8, 9, 10]\n",
    "models = []\n",
    "sil_scores = []\n",
    "inertia_scores = []\n",
    "\n",
    "for k in k_set:\n",
    "    print('**** KMeans with k = %d ****' % k)\n",
    "    kmeans = KMeans(n_clusters=k, init='k-means++', n_init=10, max_iter=300, random_state=1234)\n",
    "    kmeans.fit(X)\n",
    "    \n",
    "    inertia_score = kmeans.inertia_\n",
    "    sil_score = silhouette_score(X, kmeans.predict(X))\n",
    "    print('inertia score: %.4f' % inertia_score)\n",
    "    print('silhouette score: %.4f' % sil_score)\n",
    "    print()\n",
    "    \n",
    "    inertia_scores.append(inertia_score)\n",
    "    sil_scores.append(sil_score)"
   ]
  },
  {
   "cell_type": "code",
   "execution_count": 22,
   "id": "005f2672",
   "metadata": {},
   "outputs": [],
   "source": [
    "kmeans = KMeans(n_clusters=4).fit(df2[['TotalSales', 'OrderCount', 'AvgOrderValue']])"
   ]
  },
  {
   "cell_type": "code",
   "execution_count": 23,
   "id": "795bd485",
   "metadata": {},
   "outputs": [
    {
     "data": {
      "text/plain": [
       "array([2, 1, 1, ..., 2, 0, 1])"
      ]
     },
     "execution_count": 23,
     "metadata": {},
     "output_type": "execute_result"
    }
   ],
   "source": [
    "kmeans.labels_"
   ]
  },
  {
   "cell_type": "code",
   "execution_count": 25,
   "id": "6f9d7704",
   "metadata": {},
   "outputs": [],
   "source": [
    "df2['Cluster'] = kmeans.labels_"
   ]
  },
  {
   "cell_type": "code",
   "execution_count": 26,
   "id": "fde9dd07",
   "metadata": {},
   "outputs": [
    {
     "data": {
      "text/html": [
       "<div>\n",
       "<style scoped>\n",
       "    .dataframe tbody tr th:only-of-type {\n",
       "        vertical-align: middle;\n",
       "    }\n",
       "\n",
       "    .dataframe tbody tr th {\n",
       "        vertical-align: top;\n",
       "    }\n",
       "\n",
       "    .dataframe thead th {\n",
       "        text-align: right;\n",
       "    }\n",
       "</style>\n",
       "<table border=\"1\" class=\"dataframe\">\n",
       "  <thead>\n",
       "    <tr style=\"text-align: right;\">\n",
       "      <th></th>\n",
       "      <th>TotalSales</th>\n",
       "      <th>OrderCount</th>\n",
       "      <th>AvgOrderValue</th>\n",
       "      <th>Cluster</th>\n",
       "    </tr>\n",
       "    <tr>\n",
       "      <th>CustomerID</th>\n",
       "      <th></th>\n",
       "      <th></th>\n",
       "      <th></th>\n",
       "      <th></th>\n",
       "    </tr>\n",
       "  </thead>\n",
       "  <tbody>\n",
       "    <tr>\n",
       "      <th>12346.0</th>\n",
       "      <td>43.0</td>\n",
       "      <td>1314.0</td>\n",
       "      <td>43.0</td>\n",
       "      <td>2</td>\n",
       "    </tr>\n",
       "    <tr>\n",
       "      <th>12347.0</th>\n",
       "      <td>4054.0</td>\n",
       "      <td>3482.0</td>\n",
       "      <td>3993.0</td>\n",
       "      <td>1</td>\n",
       "    </tr>\n",
       "    <tr>\n",
       "      <th>12348.0</th>\n",
       "      <td>3394.0</td>\n",
       "      <td>2621.0</td>\n",
       "      <td>3637.0</td>\n",
       "      <td>1</td>\n",
       "    </tr>\n",
       "    <tr>\n",
       "      <th>12349.0</th>\n",
       "      <td>3366.0</td>\n",
       "      <td>1.0</td>\n",
       "      <td>4335.0</td>\n",
       "      <td>3</td>\n",
       "    </tr>\n",
       "    <tr>\n",
       "      <th>12350.0</th>\n",
       "      <td>1297.0</td>\n",
       "      <td>2.0</td>\n",
       "      <td>3032.0</td>\n",
       "      <td>3</td>\n",
       "    </tr>\n",
       "  </tbody>\n",
       "</table>\n",
       "</div>"
      ],
      "text/plain": [
       "            TotalSales  OrderCount  AvgOrderValue  Cluster\n",
       "CustomerID                                                \n",
       "12346.0           43.0      1314.0           43.0        2\n",
       "12347.0         4054.0      3482.0         3993.0        1\n",
       "12348.0         3394.0      2621.0         3637.0        1\n",
       "12349.0         3366.0         1.0         4335.0        3\n",
       "12350.0         1297.0         2.0         3032.0        3"
      ]
     },
     "execution_count": 26,
     "metadata": {},
     "output_type": "execute_result"
    }
   ],
   "source": [
    "df2.head()"
   ]
  },
  {
   "cell_type": "code",
   "execution_count": 28,
   "id": "7304349c",
   "metadata": {},
   "outputs": [
    {
     "data": {
      "text/plain": [
       "Cluster\n",
       "0     985\n",
       "1    1094\n",
       "2    1261\n",
       "3    1032\n",
       "Name: TotalSales, dtype: int64"
      ]
     },
     "execution_count": 28,
     "metadata": {},
     "output_type": "execute_result"
    }
   ],
   "source": [
    "df2.groupby('Cluster').count()['TotalSales']"
   ]
  },
  {
   "cell_type": "markdown",
   "id": "9d8282af",
   "metadata": {},
   "source": [
    "### 시각화"
   ]
  },
  {
   "cell_type": "code",
   "execution_count": 32,
   "id": "8042bca6",
   "metadata": {},
   "outputs": [
    {
     "data": {
      "image/png": "[encoded data removed]",
      "text/plain": [
       "<Figure size 432x288 with 1 Axes>"
      ]
     },
     "metadata": {
      "needs_background": "light"
     },
     "output_type": "display_data"
    },
    {
     "data": {
      "image/png": "[encoded data removed]",
      "text/plain": [
       "<Figure size 432x288 with 1 Axes>"
      ]
     },
     "metadata": {
      "needs_background": "light"
     },
     "output_type": "display_data"
    },
    {
     "data": {
      "image/png": "[encoded data removed]",
      "text/plain": [
       "<Figure size 432x288 with 1 Axes>"
      ]
     },
     "metadata": {
      "needs_background": "light"
     },
     "output_type": "display_data"
    }
   ],
   "source": [
    "plt.scatter(\n",
    "    df2.loc[df2['Cluster'] == 0]['OrderCount'], \n",
    "    df2.loc[df2['Cluster'] == 0]['TotalSales'],\n",
    "    c='blue'\n",
    ")\n",
    "\n",
    "plt.scatter(\n",
    "    df2.loc[df2['Cluster'] == 1]['OrderCount'], \n",
    "    df2.loc[df2['Cluster'] == 1]['TotalSales'],\n",
    "    c='red'\n",
    ")\n",
    "\n",
    "plt.scatter(\n",
    "    df2.loc[df2['Cluster'] == 2]['OrderCount'], \n",
    "    df2.loc[df2['Cluster'] == 2]['TotalSales'],\n",
    "    c='orange'\n",
    ")\n",
    "\n",
    "plt.scatter(\n",
    "    df2.loc[df2['Cluster'] == 3]['OrderCount'], \n",
    "    df2.loc[df2['Cluster'] == 3]['TotalSales'],\n",
    "    c='green'\n",
    ")\n",
    "\n",
    "plt.title('TotalSales vs. OrderCount Clusters')\n",
    "plt.xlabel('Order Count')\n",
    "plt.ylabel('Total Sales')\n",
    "\n",
    "plt.grid()\n",
    "plt.show()\n",
    "\n",
    "\n",
    "plt.scatter(\n",
    "    df2.loc[df2['Cluster'] == 0]['OrderCount'], \n",
    "    df2.loc[df2['Cluster'] == 0]['AvgOrderValue'],\n",
    "    c='blue'\n",
    ")\n",
    "\n",
    "plt.scatter(\n",
    "    df2.loc[df2['Cluster'] == 1]['OrderCount'], \n",
    "    df2.loc[df2['Cluster'] == 1]['AvgOrderValue'],\n",
    "    c='red'\n",
    ")\n",
    "\n",
    "plt.scatter(\n",
    "    df2.loc[df2['Cluster'] == 2]['OrderCount'], \n",
    "    df2.loc[df2['Cluster'] == 2]['AvgOrderValue'],\n",
    "    c='orange'\n",
    ")\n",
    "\n",
    "plt.scatter(\n",
    "    df2.loc[df2['Cluster'] == 3]['OrderCount'], \n",
    "    df2.loc[df2['Cluster'] == 3]['AvgOrderValue'],\n",
    "    c='green'\n",
    ")\n",
    "\n",
    "plt.title('AvgOrderValue vs. OrderCount Clusters')\n",
    "plt.xlabel('Order Count')\n",
    "plt.ylabel('Avg Order Value')\n",
    "\n",
    "plt.grid()\n",
    "plt.show()\n",
    "\n",
    "\n",
    "plt.scatter(\n",
    "    df2.loc[df2['Cluster'] == 0]['TotalSales'], \n",
    "    df2.loc[df2['Cluster'] == 0]['AvgOrderValue'],\n",
    "    c='blue'\n",
    ")\n",
    "\n",
    "plt.scatter(\n",
    "    df2.loc[df2['Cluster'] == 1]['TotalSales'], \n",
    "    df2.loc[df2['Cluster'] == 1]['AvgOrderValue'],\n",
    "    c='red'\n",
    ")\n",
    "\n",
    "plt.scatter(\n",
    "    df2.loc[df2['Cluster'] == 2]['TotalSales'], \n",
    "    df2.loc[df2['Cluster'] == 2]['AvgOrderValue'],\n",
    "    c='orange'\n",
    ")\n",
    "\n",
    "plt.scatter(\n",
    "    df2.loc[df2['Cluster'] == 3]['TotalSales'], \n",
    "    df2.loc[df2['Cluster'] == 3]['AvgOrderValue'],\n",
    "    c='green'\n",
    ")\n",
    "\n",
    "plt.title('AvgOrderValue vs. TotalSales Clusters')\n",
    "plt.xlabel('Total Sales')\n",
    "plt.ylabel('Avg Order Value')\n",
    "\n",
    "plt.grid()\n",
    "plt.show()"
   ]
  },
  {
   "cell_type": "code",
   "execution_count": null,
   "id": "b65d5b75",
   "metadata": {},
   "outputs": [],
   "source": []
  }
 ],
 "metadata": {
  "kernelspec": {
   "display_name": "Python 3",
   "language": "python",
   "name": "python3"
  },
  "language_info": {
   "codemirror_mode": {
    "name": "ipython",
    "version": 3
   },
   "file_extension": ".py",
   "mimetype": "text/x-python",
   "name": "python",
   "nbconvert_exporter": "python",
   "pygments_lexer": "ipython3",
   "version": "3.8.8"
  }
 },
 "nbformat": 4,
 "nbformat_minor": 5
}
