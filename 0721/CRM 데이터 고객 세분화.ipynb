{
 "cells": [
  {
   "cell_type": "markdown",
   "id": "25e8197c",
   "metadata": {},
   "source": [
    "# 실습 2. CRM 데이터 고객 세분화\n",
    "1. 데이터\n",
    ": Online Retail.csv\n",
    "2. 예측\n",
    ": Retail 구매에 따른 고객 세분화\n",
    "(Segmentaiton\n",
    ")\n",
    "3. 특징\n",
    ": 군집(Clustering) 분석\n",
    "4. 목표\n",
    ":\n",
    "• 군집 알고리즘 사용 • 'TotalSales', 'OrderCount', 'AvgOrderValue’ 전처리 • 위의 Feature로 고객 세분화(Clustering"
   ]
  },
  {
   "cell_type": "markdown",
   "id": "2146096d",
   "metadata": {},
   "source": [
    "## Hint\n",
    "1. Data load  \n",
    "1. Data Clean-up  \n",
    "- 0 이상인 것만, drop null  \n",
    "- InvoiceData 20111201 이상만  \n",
    "- total sales 구하기\n",
    "- customerid로 group by, invoiceNo는 nunique로\n",
    "- 고객마다 몇번 구매한지 구함\n",
    "- rank 메서드로 매출 순위 내림차순\n",
    "3. Customer Segmentation via K means Clustering\n",
    "- Clustering label 넣기\n",
    "- 클러스터링 시각화 해보기 scatter\n",
    "- K값에 따라 \n"
   ]
  },
  {
   "cell_type": "code",
   "execution_count": null,
   "id": "8d283b72",
   "metadata": {},
   "outputs": [],
   "source": []
  }
 ],
 "metadata": {
  "kernelspec": {
   "display_name": "Python 3",
   "language": "python",
   "name": "python3"
  },
  "language_info": {
   "codemirror_mode": {
    "name": "ipython",
    "version": 3
   },
   "file_extension": ".py",
   "mimetype": "text/x-python",
   "name": "python",
   "nbconvert_exporter": "python",
   "pygments_lexer": "ipython3",
   "version": "3.8.8"
  }
 },
 "nbformat": 4,
 "nbformat_minor": 5
}
