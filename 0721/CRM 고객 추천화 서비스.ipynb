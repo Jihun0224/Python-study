{
 "cells": [
  {
   "cell_type": "markdown",
   "id": "d3316903",
   "metadata": {},
   "source": [
    "# 실습 3. CRM 고객 추천화 서비스\n",
    "1. 데이터: Online Retail.csv\n",
    "2. 추천화 서비스 구현 (Collaborate Filtering)\n",
    "3. 특징: 유사도 사용 고객-고객, 아이템-아이템 Matrix 구현\n",
    "4. 목표:\n",
    "- Customer 기반 Collaborative filtering\n",
    "- Item 기반 Collaborate filtering"
   ]
  },
  {
   "cell_type": "markdown",
   "id": "76a95c86",
   "metadata": {},
   "source": [
    "Matrix를 만듬  \n",
    "- pivot_table - index: customerId, columns: StockCode\n",
    "- nan값을 0으로 0 이상이면 1값으로 변경\n",
    "- cosine sim matrix\n",
    "- Making Recommendations\n",
    "- 유사한 고객들에게 사지 않은 제품을 추천해줌\n",
    "    - A와 B가 유사 고객일 때 A가 사고 B가 사지않은 제품이 있을 때 B에게 A가 산 제품 추천"
   ]
  },
  {
   "cell_type": "code",
   "execution_count": null,
   "id": "228ad79b",
   "metadata": {},
   "outputs": [],
   "source": []
  }
 ],
 "metadata": {
  "kernelspec": {
   "display_name": "Python 3",
   "language": "python",
   "name": "python3"
  },
  "language_info": {
   "codemirror_mode": {
    "name": "ipython",
    "version": 3
   },
   "file_extension": ".py",
   "mimetype": "text/x-python",
   "name": "python",
   "nbconvert_exporter": "python",
   "pygments_lexer": "ipython3",
   "version": "3.8.8"
  }
 },
 "nbformat": 4,
 "nbformat_minor": 5
}
