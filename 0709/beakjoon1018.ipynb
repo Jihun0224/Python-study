{
 "cells": [
  {
   "cell_type": "markdown",
   "id": "2ae10447",
   "metadata": {},
   "source": [
    "지민이는 자신의 저택에서 MN개의 단위 정사각형으로 나누어져 있는 M*N 크기의 보드를 찾았다. 어떤 정사각형은 검은색으로 칠해져 있고, 나머지는 흰색으로 칠해져 있다. 지민이는 이 보드를 잘라서 8*8 크기의 체스판으로 만들려고 한다.\n",
    "\n",
    "체스판은 검은색과 흰색이 번갈아서 칠해져 있어야 한다. 구체적으로, 각 칸이 검은색과 흰색 중 하나로 색칠되어 있고, 변을 공유하는 두 개의 사각형은 다른 색으로 칠해져 있어야 한다. 따라서 이 정의를 따르면 체스판을 색칠하는 경우는 두 가지뿐이다. 하나는 맨 왼쪽 위 칸이 흰색인 경우, 하나는 검은색인 경우이다.\n",
    "\n",
    "보드가 체스판처럼 칠해져 있다는 보장이 없어서, 지민이는 8*8 크기의 체스판으로 잘라낸 후에 몇 개의 정사각형을 다시 칠해야겠다고 생각했다. 당연히 8*8 크기는 아무데서나 골라도 된다. 지민이가 다시 칠해야 하는 정사각형의 최소 개수를 구하는 프로그램을 작성하시오."
   ]
  },
  {
   "cell_type": "markdown",
   "id": "efb47725",
   "metadata": {},
   "source": [
    "입력\n",
    "첫째 줄에 N과 M이 주어진다. N과 M은 8보다 크거나 같고, 50보다 작거나 같은 자연수이다. 둘째 줄부터 N개의 줄에는 보드의 각 행의 상태가 주어진다. B는 검은색이며, W는 흰색이다."
   ]
  },
  {
   "cell_type": "markdown",
   "id": "b5295d89",
   "metadata": {},
   "source": [
    "출력\n",
    "첫째 줄에 지민이가 다시 칠해야 하는 정사각형 개수의 최솟값을 출력한다."
   ]
  },
  {
   "cell_type": "code",
   "execution_count": 4,
   "id": "b464104b",
   "metadata": {},
   "outputs": [
    {
     "name": "stdout",
     "output_type": "stream",
     "text": [
      "10 13\n",
      "BBBBBBBBWBWBW\n",
      "BBBBBBBBBWBWB\n",
      "BBBBBBBBWBWBW\n",
      "BBBBBBBBBWBWB\n",
      "BBBBBBBBWBWBW\n",
      "BBBBBBBBBWBWB\n",
      "BBBBBBBBWBWBW\n",
      "BBBBBBBBBWBWB\n",
      "WWWWWWWWWWBWB\n",
      "WWWWWWWWWWBWB\n",
      "12\n"
     ]
    }
   ],
   "source": [
    "def b_start(board):\n",
    "    count = 0\n",
    "    even = 2\n",
    "    for i in range(8):\n",
    "        for j in range(4):\n",
    "            if i % 2 == 0:\n",
    "                if board[i][even*j] != 'B':\n",
    "                        count +=1\n",
    "                if board[i][even*j+1] != 'W':\n",
    "                        count +=1\n",
    "            else:\n",
    "                if board[i][even*j] != 'W':\n",
    "                        count +=1\n",
    "                if board[i][even*j+1] != 'B':\n",
    "                        count +=1                \n",
    "    return count\n",
    "def w_start(board):\n",
    "    count = 0\n",
    "    even = 2\n",
    "    for i in range(8):\n",
    "        for j in range(4):\n",
    "            if i % 2 == 0:\n",
    "                if board[i][even*j] != 'W':\n",
    "                        count +=1\n",
    "                if board[i][even*j+1] != 'B':\n",
    "                        count +=1\n",
    "            else:\n",
    "                if board[i][even*j] != 'B':\n",
    "                        count +=1\n",
    "                if board[i][even*j+1] != 'W':\n",
    "                        count +=1    \n",
    "    return count\n",
    "a = map(int, input().split())\n",
    "m, n = a\n",
    "min = 100\n",
    "board = []\n",
    "for index in range(m):\n",
    "    line = input()\n",
    "    board.append(line)\n",
    "    \n",
    "for i in range(m - 7):\n",
    "    case = [[0] * 8 for _ in range(8)]\n",
    "    for j in range(n - 7):\n",
    "        for k in range(8):\n",
    "            for l in range(8):\n",
    "                case[k][l] = board[i+k][j+l]\n",
    "        temp = w_start(case) if b_start(case) > w_start(case) else b_start(case)\n",
    "        if min > temp:\n",
    "            min = temp\n",
    "print(min)"
   ]
  }
 ],
 "metadata": {
  "kernelspec": {
   "display_name": "Python 3",
   "language": "python",
   "name": "python3"
  }
 },
 "nbformat": 4,
 "nbformat_minor": 5
}
