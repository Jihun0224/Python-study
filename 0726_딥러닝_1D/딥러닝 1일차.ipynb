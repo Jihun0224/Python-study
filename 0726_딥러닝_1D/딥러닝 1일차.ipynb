{
 "cells": [
  {
   "cell_type": "markdown",
   "id": "84272ec7",
   "metadata": {},
   "source": [
    "## tensorflow 설치"
   ]
  },
  {
   "cell_type": "code",
   "execution_count": 1,
   "id": "e944bebf",
   "metadata": {},
   "outputs": [
    {
     "name": "stdout",
     "output_type": "stream",
     "text": [
      "Requirement already satisfied: tensorflow in c:\\users\\wlgns\\appdata\\roaming\\python\\python38\\site-packages (2.5.0)\n",
      "Requirement already satisfied: gast==0.4.0 in c:\\users\\wlgns\\appdata\\roaming\\python\\python38\\site-packages (from tensorflow) (0.4.0)\n",
      "Requirement already satisfied: keras-nightly~=2.5.0.dev in c:\\users\\wlgns\\appdata\\roaming\\python\\python38\\site-packages (from tensorflow) (2.5.0.dev2021032900)\n",
      "Requirement already satisfied: numpy~=1.19.2 in c:\\users\\wlgns\\appdata\\roaming\\python\\python38\\site-packages (from tensorflow) (1.19.5)\n",
      "Requirement already satisfied: opt-einsum~=3.3.0 in c:\\users\\wlgns\\appdata\\roaming\\python\\python38\\site-packages (from tensorflow) (3.3.0)\n",
      "Requirement already satisfied: protobuf>=3.9.2 in c:\\users\\wlgns\\appdata\\roaming\\python\\python38\\site-packages (from tensorflow) (3.17.3)\n",
      "Requirement already satisfied: tensorflow-estimator<2.6.0,>=2.5.0rc0 in c:\\users\\wlgns\\appdata\\roaming\\python\\python38\\site-packages (from tensorflow) (2.5.0)\n",
      "Requirement already satisfied: astunparse~=1.6.3 in c:\\users\\wlgns\\appdata\\roaming\\python\\python38\\site-packages (from tensorflow) (1.6.3)\n",
      "Requirement already satisfied: absl-py~=0.10 in c:\\users\\wlgns\\appdata\\roaming\\python\\python38\\site-packages (from tensorflow) (0.13.0)\n",
      "Requirement already satisfied: six~=1.15.0 in c:\\users\\wlgns\\anaconda3\\lib\\site-packages (from tensorflow) (1.15.0)\n",
      "Requirement already satisfied: wrapt~=1.12.1 in c:\\users\\wlgns\\anaconda3\\lib\\site-packages (from tensorflow) (1.12.1)\n",
      "Requirement already satisfied: keras-preprocessing~=1.1.2 in c:\\users\\wlgns\\appdata\\roaming\\python\\python38\\site-packages (from tensorflow) (1.1.2)\n",
      "Requirement already satisfied: tensorboard~=2.5 in c:\\users\\wlgns\\appdata\\roaming\\python\\python38\\site-packages (from tensorflow) (2.5.0)\n",
      "Requirement already satisfied: h5py~=3.1.0 in c:\\users\\wlgns\\appdata\\roaming\\python\\python38\\site-packages (from tensorflow) (3.1.0)\n",
      "Requirement already satisfied: typing-extensions~=3.7.4 in c:\\users\\wlgns\\anaconda3\\lib\\site-packages (from tensorflow) (3.7.4.3)\n",
      "Requirement already satisfied: google-pasta~=0.2 in c:\\users\\wlgns\\appdata\\roaming\\python\\python38\\site-packages (from tensorflow) (0.2.0)\n",
      "Requirement already satisfied: wheel~=0.35 in c:\\users\\wlgns\\anaconda3\\lib\\site-packages (from tensorflow) (0.36.2)\n",
      "Requirement already satisfied: termcolor~=1.1.0 in c:\\users\\wlgns\\appdata\\roaming\\python\\python38\\site-packages (from tensorflow) (1.1.0)\n",
      "Requirement already satisfied: grpcio~=1.34.0 in c:\\users\\wlgns\\appdata\\roaming\\python\\python38\\site-packages (from tensorflow) (1.34.1)\n",
      "Requirement already satisfied: flatbuffers~=1.12.0 in c:\\users\\wlgns\\appdata\\roaming\\python\\python38\\site-packages (from tensorflow) (1.12)\n",
      "Requirement already satisfied: setuptools>=41.0.0 in c:\\users\\wlgns\\anaconda3\\lib\\site-packages (from tensorboard~=2.5->tensorflow) (52.0.0.post20210125)\n",
      "Requirement already satisfied: google-auth<2,>=1.6.3 in c:\\users\\wlgns\\anaconda3\\lib\\site-packages (from tensorboard~=2.5->tensorflow) (1.32.1)\n",
      "Requirement already satisfied: tensorboard-data-server<0.7.0,>=0.6.0 in c:\\users\\wlgns\\appdata\\roaming\\python\\python38\\site-packages (from tensorboard~=2.5->tensorflow) (0.6.1)\n",
      "Requirement already satisfied: google-auth-oauthlib<0.5,>=0.4.1 in c:\\users\\wlgns\\appdata\\roaming\\python\\python38\\site-packages (from tensorboard~=2.5->tensorflow) (0.4.4)\n",
      "Requirement already satisfied: markdown>=2.6.8 in c:\\users\\wlgns\\appdata\\roaming\\python\\python38\\site-packages (from tensorboard~=2.5->tensorflow) (3.3.4)\n",
      "Requirement already satisfied: werkzeug>=0.11.15 in c:\\users\\wlgns\\anaconda3\\lib\\site-packages (from tensorboard~=2.5->tensorflow) (1.0.1)\n",
      "Requirement already satisfied: tensorboard-plugin-wit>=1.6.0 in c:\\users\\wlgns\\appdata\\roaming\\python\\python38\\site-packages (from tensorboard~=2.5->tensorflow) (1.8.0)\n",
      "Requirement already satisfied: requests<3,>=2.21.0 in c:\\users\\wlgns\\anaconda3\\lib\\site-packages (from tensorboard~=2.5->tensorflow) (2.25.1)\n",
      "Requirement already satisfied: pyasn1-modules>=0.2.1 in c:\\users\\wlgns\\anaconda3\\lib\\site-packages (from google-auth<2,>=1.6.3->tensorboard~=2.5->tensorflow) (0.2.8)\n",
      "Requirement already satisfied: rsa<5,>=3.1.4 in c:\\users\\wlgns\\anaconda3\\lib\\site-packages (from google-auth<2,>=1.6.3->tensorboard~=2.5->tensorflow) (4.7.2)\n",
      "Requirement already satisfied: cachetools<5.0,>=2.0.0 in c:\\users\\wlgns\\anaconda3\\lib\\site-packages (from google-auth<2,>=1.6.3->tensorboard~=2.5->tensorflow) (4.2.2)\n",
      "Requirement already satisfied: requests-oauthlib>=0.7.0 in c:\\users\\wlgns\\appdata\\roaming\\python\\python38\\site-packages (from google-auth-oauthlib<0.5,>=0.4.1->tensorboard~=2.5->tensorflow) (1.3.0)\n",
      "Requirement already satisfied: pyasn1<0.5.0,>=0.4.6 in c:\\users\\wlgns\\anaconda3\\lib\\site-packages (from pyasn1-modules>=0.2.1->google-auth<2,>=1.6.3->tensorboard~=2.5->tensorflow) (0.4.8)\n",
      "Requirement already satisfied: idna<3,>=2.5 in c:\\users\\wlgns\\anaconda3\\lib\\site-packages (from requests<3,>=2.21.0->tensorboard~=2.5->tensorflow) (2.10)\n",
      "Requirement already satisfied: certifi>=2017.4.17 in c:\\users\\wlgns\\anaconda3\\lib\\site-packages (from requests<3,>=2.21.0->tensorboard~=2.5->tensorflow) (2020.12.5)\n",
      "Requirement already satisfied: chardet<5,>=3.0.2 in c:\\users\\wlgns\\anaconda3\\lib\\site-packages (from requests<3,>=2.21.0->tensorboard~=2.5->tensorflow) (4.0.0)\n",
      "Requirement already satisfied: urllib3<1.27,>=1.21.1 in c:\\users\\wlgns\\anaconda3\\lib\\site-packages (from requests<3,>=2.21.0->tensorboard~=2.5->tensorflow) (1.26.4)\n",
      "Requirement already satisfied: oauthlib>=3.0.0 in c:\\users\\wlgns\\appdata\\roaming\\python\\python38\\site-packages (from requests-oauthlib>=0.7.0->google-auth-oauthlib<0.5,>=0.4.1->tensorboard~=2.5->tensorflow) (3.1.1)\n"
     ]
    }
   ],
   "source": [
    "!pip install --user --upgrade tensorflow"
   ]
  },
  {
   "cell_type": "markdown",
   "id": "31567082",
   "metadata": {},
   "source": [
    "## 설치 확인"
   ]
  },
  {
   "cell_type": "code",
   "execution_count": 12,
   "id": "c52f6930",
   "metadata": {},
   "outputs": [
    {
     "name": "stdout",
     "output_type": "stream",
     "text": [
      "tf.Tensor(1181.6401, shape=(), dtype=float32)\n"
     ]
    }
   ],
   "source": [
    "import tensorflow as tf\n",
    "print(tf.reduce_sum(tf.random.normal([1000,1000])))"
   ]
  },
  {
   "cell_type": "markdown",
   "id": "f169b457",
   "metadata": {},
   "source": [
    "## numpy  \n",
    "[ ]수로 차원 파악"
   ]
  },
  {
   "cell_type": "code",
   "execution_count": 35,
   "id": "5409d614",
   "metadata": {},
   "outputs": [
    {
     "name": "stdout",
     "output_type": "stream",
     "text": [
      "<class 'numpy.ndarray'>\n",
      "1\n",
      "0\n",
      "1\n",
      "2\n",
      "4\n"
     ]
    }
   ],
   "source": [
    "import numpy as np\n",
    "\n",
    "a = np.array([1,2,3,4]) + np.array([1,3,5,6])\n",
    "print(type(a))\n",
    "print(a.ndim)\n",
    "x = np.array(12)\n",
    "print(x.ndim)\n",
    "y = np.array([12])\n",
    "print(y.ndim)\n",
    "z = np.array([[10],[10]])\n",
    "print(z.ndim)\n",
    "az = np.array([[[[10],[10]]]])\n",
    "print(az.ndim)"
   ]
  },
  {
   "cell_type": "code",
   "execution_count": 38,
   "id": "0ac27be1",
   "metadata": {},
   "outputs": [],
   "source": [
    "from tensorflow import keras\n",
    "from tensorflow.keras.datasets import mnist"
   ]
  },
  {
   "cell_type": "code",
   "execution_count": 42,
   "id": "6fdc8ad1",
   "metadata": {},
   "outputs": [],
   "source": [
    "(train_images, train_labels), (test_images, test_labels) = mnist.load_data()"
   ]
  },
  {
   "cell_type": "code",
   "execution_count": 44,
   "id": "93d81ac9",
   "metadata": {},
   "outputs": [
    {
     "data": {
      "text/plain": [
       "(60000, 28, 28)"
      ]
     },
     "execution_count": 44,
     "metadata": {},
     "output_type": "execute_result"
    }
   ],
   "source": [
    "train_images.shape"
   ]
  },
  {
   "cell_type": "code",
   "execution_count": 45,
   "id": "4ebec366",
   "metadata": {},
   "outputs": [
    {
     "data": {
      "text/plain": [
       "dtype('uint8')"
      ]
     },
     "execution_count": 45,
     "metadata": {},
     "output_type": "execute_result"
    }
   ],
   "source": [
    "train_images.dtype"
   ]
  },
  {
   "cell_type": "code",
   "execution_count": 62,
   "id": "989525d5",
   "metadata": {},
   "outputs": [],
   "source": [
    "digit = train_images[4]"
   ]
  },
  {
   "cell_type": "code",
   "execution_count": 63,
   "id": "d6d1cedd",
   "metadata": {},
   "outputs": [
    {
     "data": {
      "image/png": "[encoded data removed]",
      "text/plain": [
       "<Figure size 432x288 with 1 Axes>"
      ]
     },
     "metadata": {
      "needs_background": "light"
     },
     "output_type": "display_data"
    }
   ],
   "source": [
    "import matplotlib.pyplot as plt\n",
    "plt.imshow(digit, cmap='gray')\n",
    "plt.show()"
   ]
  },
  {
   "cell_type": "code",
   "execution_count": 68,
   "id": "99f2656e",
   "metadata": {},
   "outputs": [
    {
     "data": {
      "text/plain": [
       "(90, 28, 28)"
      ]
     },
     "execution_count": 68,
     "metadata": {},
     "output_type": "execute_result"
    }
   ],
   "source": [
    "my_slice = train_images[11:101]\n",
    "my_slice.shape"
   ]
  },
  {
   "cell_type": "code",
   "execution_count": 85,
   "id": "845fe886",
   "metadata": {},
   "outputs": [
    {
     "data": {
      "text/plain": [
       "(10, 14, 14)"
      ]
     },
     "execution_count": 85,
     "metadata": {},
     "output_type": "execute_result"
    }
   ],
   "source": [
    "#오른쪽 하단부\n",
    "my_slice = train_images[:10,14:,14:]\n",
    "my_slice.shape"
   ]
  },
  {
   "cell_type": "code",
   "execution_count": 86,
   "id": "9915e230",
   "metadata": {},
   "outputs": [
    {
     "data": {
      "image/png": "[encoded data removed]",
      "text/plain": [
       "<Figure size 432x288 with 1 Axes>"
      ]
     },
     "metadata": {
      "needs_background": "light"
     },
     "output_type": "display_data"
    }
   ],
   "source": [
    "plt.imshow(my_slice[4], cmap='gray')\n",
    "plt.show()"
   ]
  },
  {
   "cell_type": "markdown",
   "id": "f78f148b",
   "metadata": {},
   "source": [
    "## 배치 데이터"
   ]
  },
  {
   "cell_type": "code",
   "execution_count": 87,
   "id": "d7782083",
   "metadata": {},
   "outputs": [],
   "source": [
    "batch = train_images[:128]"
   ]
  },
  {
   "cell_type": "code",
   "execution_count": 88,
   "id": "deda3b63",
   "metadata": {},
   "outputs": [],
   "source": [
    "batch = train_images[128:256]"
   ]
  },
  {
   "cell_type": "code",
   "execution_count": 91,
   "id": "0dbc2d00",
   "metadata": {},
   "outputs": [],
   "source": [
    "# n번째 배치\n",
    "n=1\n",
    "batch = train_images[128*n:128*(n+1)]"
   ]
  },
  {
   "cell_type": "markdown",
   "id": "e589b63f",
   "metadata": {},
   "source": [
    "### 2차원: 벡터 데이터  \n",
    "(samples, features)  \n",
    "### 3차원: 시계열 데이터, sequence data  \n",
    "(samples, timesteps, features)  \n",
    "### 4차원: 영상  \n",
    "(samples, height, width, channels), (samples, channels,height, width)  \n",
    "channel last (128, 256, 256, 3) --> tensorflow / channels 0: gray, 3: color  \n",
    "channel first (128, 3, 256, 256) --> pytorch, Theano  \n",
    "channel first or last  \n",
    "### 5차원: 동영상  \n",
    "(samples, frames, height, width, channels)  \n",
    "(4, 240, 144, 256, 3)"
   ]
  },
  {
   "cell_type": "markdown",
   "id": "8cbd0aa9",
   "metadata": {},
   "source": [
    "## 회귀 분석  \n",
    "y = wx에서 최적의 w를 찾는 것  \n"
   ]
  },
  {
   "cell_type": "code",
   "execution_count": 99,
   "id": "7e010b23",
   "metadata": {},
   "outputs": [],
   "source": [
    "from tensorflow.keras.models import Sequential\n",
    "from tensorflow.keras.layers import Dense\n",
    "from tensorflow.keras import optimizers\n",
    "import numpy as np"
   ]
  },
  {
   "cell_type": "code",
   "execution_count": 100,
   "id": "90d1b564",
   "metadata": {},
   "outputs": [],
   "source": [
    "공부시간 = np.array([1,2,3,4,5,6])\n",
    "점수     = np.array([10,21,30,40,51,60])"
   ]
  },
  {
   "cell_type": "code",
   "execution_count": 103,
   "id": "0d207c32",
   "metadata": {},
   "outputs": [],
   "source": [
    "model = Sequential()\n",
    "# 출력값 하나, 입력값 하나, 활성화함수는 linear\n",
    "model.add(Dense(1, input_dim = 1, activation = 'linear'))"
   ]
  },
  {
   "cell_type": "code",
   "execution_count": 107,
   "id": "521f3263",
   "metadata": {},
   "outputs": [],
   "source": [
    "sgd = optimizers.SGD(learning_rate=0.01)\n",
    "model.compile(optimizer=sgd, loss='mse', metrics=['accuracy'])"
   ]
  },
  {
   "cell_type": "code",
   "execution_count": 109,
   "id": "de290d53",
   "metadata": {},
   "outputs": [
    {
     "name": "stdout",
     "output_type": "stream",
     "text": [
      "Epoch 1/100\n",
      "6/6 [==============================] - 0s 998us/step - loss: 544.8582 - accuracy: 0.0000e+00\n",
      "Epoch 2/100\n",
      "6/6 [==============================] - 0s 997us/step - loss: 2.5700 - accuracy: 0.0000e+00\n",
      "Epoch 3/100\n",
      "6/6 [==============================] - 0s 798us/step - loss: 1.4863 - accuracy: 0.0000e+00\n",
      "Epoch 4/100\n",
      "6/6 [==============================] - 0s 798us/step - loss: 1.4754 - accuracy: 0.0000e+00\n",
      "Epoch 5/100\n",
      "6/6 [==============================] - 0s 799us/step - loss: 1.4269 - accuracy: 0.0000e+00\n",
      "Epoch 6/100\n",
      "6/6 [==============================] - 0s 1ms/step - loss: 1.3782 - accuracy: 0.0000e+00\n",
      "Epoch 7/100\n",
      "6/6 [==============================] - 0s 598us/step - loss: 1.3315 - accuracy: 0.0000e+00\n",
      "Epoch 8/100\n",
      "6/6 [==============================] - 0s 798us/step - loss: 1.2869 - accuracy: 0.0000e+00\n",
      "Epoch 9/100\n",
      "6/6 [==============================] - 0s 997us/step - loss: 1.2443 - accuracy: 0.0000e+00\n",
      "Epoch 10/100\n",
      "6/6 [==============================] - 0s 798us/step - loss: 1.2036 - accuracy: 0.0000e+00\n",
      "Epoch 11/100\n",
      "6/6 [==============================] - 0s 997us/step - loss: 1.1648 - accuracy: 0.0000e+00\n",
      "Epoch 12/100\n",
      "6/6 [==============================] - 0s 598us/step - loss: 1.1277 - accuracy: 0.0000e+00\n",
      "Epoch 13/100\n",
      "6/6 [==============================] - 0s 997us/step - loss: 1.0923 - accuracy: 0.0000e+00\n",
      "Epoch 14/100\n",
      "6/6 [==============================] - 0s 998us/step - loss: 1.0585 - accuracy: 0.0000e+00\n",
      "Epoch 15/100\n",
      "6/6 [==============================] - 0s 798us/step - loss: 1.0262 - accuracy: 0.0000e+00\n",
      "Epoch 16/100\n",
      "6/6 [==============================] - 0s 598us/step - loss: 0.9953 - accuracy: 0.0000e+00\n",
      "Epoch 17/100\n",
      "6/6 [==============================] - 0s 997us/step - loss: 0.9659 - accuracy: 0.0000e+00\n",
      "Epoch 18/100\n",
      "6/6 [==============================] - 0s 797us/step - loss: 0.9377 - accuracy: 0.0000e+00\n",
      "Epoch 19/100\n",
      "6/6 [==============================] - 0s 1ms/step - loss: 0.9109 - accuracy: 0.0000e+00\n",
      "Epoch 20/100\n",
      "6/6 [==============================] - 0s 997us/step - loss: 0.8852 - accuracy: 0.0000e+00\n",
      "Epoch 21/100\n",
      "6/6 [==============================] - 0s 1ms/step - loss: 0.8607 - accuracy: 0.0000e+00\n",
      "Epoch 22/100\n",
      "6/6 [==============================] - 0s 1ms/step - loss: 0.8373 - accuracy: 0.0000e+00\n",
      "Epoch 23/100\n",
      "6/6 [==============================] - 0s 1ms/step - loss: 0.8149 - accuracy: 0.0000e+00\n",
      "Epoch 24/100\n",
      "6/6 [==============================] - 0s 1ms/step - loss: 0.7936 - accuracy: 0.0000e+00\n",
      "Epoch 25/100\n",
      "6/6 [==============================] - 0s 997us/step - loss: 0.7732 - accuracy: 0.0000e+00\n",
      "Epoch 26/100\n",
      "6/6 [==============================] - 0s 798us/step - loss: 0.7537 - accuracy: 0.0000e+00\n",
      "Epoch 27/100\n",
      "6/6 [==============================] - 0s 798us/step - loss: 0.7351 - accuracy: 0.0000e+00\n",
      "Epoch 28/100\n",
      "6/6 [==============================] - 0s 997us/step - loss: 0.7173 - accuracy: 0.0000e+00\n",
      "Epoch 29/100\n",
      "6/6 [==============================] - 0s 598us/step - loss: 0.7003 - accuracy: 0.0000e+00\n",
      "Epoch 30/100\n",
      "6/6 [==============================] - 0s 997us/step - loss: 0.6841 - accuracy: 0.0000e+00\n",
      "Epoch 31/100\n",
      "6/6 [==============================] - 0s 997us/step - loss: 0.6686 - accuracy: 0.0000e+00\n",
      "Epoch 32/100\n",
      "6/6 [==============================] - 0s 798us/step - loss: 0.6538 - accuracy: 0.0000e+00\n",
      "Epoch 33/100\n",
      "6/6 [==============================] - 0s 598us/step - loss: 0.6396 - accuracy: 0.0000e+00\n",
      "Epoch 34/100\n",
      "6/6 [==============================] - 0s 598us/step - loss: 0.6261 - accuracy: 0.0000e+00\n",
      "Epoch 35/100\n",
      "6/6 [==============================] - 0s 798us/step - loss: 0.6132 - accuracy: 0.0000e+00\n",
      "Epoch 36/100\n",
      "6/6 [==============================] - 0s 798us/step - loss: 0.6009 - accuracy: 0.0000e+00\n",
      "Epoch 37/100\n",
      "6/6 [==============================] - 0s 798us/step - loss: 0.5891 - accuracy: 0.0000e+00\n",
      "Epoch 38/100\n",
      "6/6 [==============================] - 0s 798us/step - loss: 0.5778 - accuracy: 0.0000e+00\n",
      "Epoch 39/100\n",
      "6/6 [==============================] - 0s 797us/step - loss: 0.5671 - accuracy: 0.0000e+00\n",
      "Epoch 40/100\n",
      "6/6 [==============================] - 0s 997us/step - loss: 0.5568 - accuracy: 0.0000e+00\n",
      "Epoch 41/100\n",
      "6/6 [==============================] - 0s 997us/step - loss: 0.5469 - accuracy: 0.0000e+00\n",
      "Epoch 42/100\n",
      "6/6 [==============================] - 0s 997us/step - loss: 0.5376 - accuracy: 0.0000e+00\n",
      "Epoch 43/100\n",
      "6/6 [==============================] - 0s 798us/step - loss: 0.5286 - accuracy: 0.0000e+00\n",
      "Epoch 44/100\n",
      "6/6 [==============================] - 0s 598us/step - loss: 0.5200 - accuracy: 0.0000e+00\n",
      "Epoch 45/100\n",
      "6/6 [==============================] - 0s 997us/step - loss: 0.5118 - accuracy: 0.0000e+00\n",
      "Epoch 46/100\n",
      "6/6 [==============================] - 0s 798us/step - loss: 0.5040 - accuracy: 0.0000e+00\n",
      "Epoch 47/100\n",
      "6/6 [==============================] - 0s 997us/step - loss: 0.4965 - accuracy: 0.0000e+00\n",
      "Epoch 48/100\n",
      "6/6 [==============================] - 0s 998us/step - loss: 0.4893 - accuracy: 0.0000e+00\n",
      "Epoch 49/100\n",
      "6/6 [==============================] - 0s 798us/step - loss: 0.4825 - accuracy: 0.0000e+00\n",
      "Epoch 50/100\n",
      "6/6 [==============================] - 0s 798us/step - loss: 0.4760 - accuracy: 0.0000e+00\n",
      "Epoch 51/100\n",
      "6/6 [==============================] - 0s 798us/step - loss: 0.4697 - accuracy: 0.0000e+00\n",
      "Epoch 52/100\n",
      "6/6 [==============================] - 0s 797us/step - loss: 0.4637 - accuracy: 0.0000e+00\n",
      "Epoch 53/100\n",
      "6/6 [==============================] - 0s 598us/step - loss: 0.4580 - accuracy: 0.0000e+00\n",
      "Epoch 54/100\n",
      "6/6 [==============================] - 0s 798us/step - loss: 0.4526 - accuracy: 0.0000e+00\n",
      "Epoch 55/100\n",
      "6/6 [==============================] - 0s 798us/step - loss: 0.4473 - accuracy: 0.0000e+00\n",
      "Epoch 56/100\n",
      "6/6 [==============================] - 0s 1ms/step - loss: 0.4424 - accuracy: 0.0000e+00\n",
      "Epoch 57/100\n",
      "6/6 [==============================] - 0s 1ms/step - loss: 0.4376 - accuracy: 0.0000e+00\n",
      "Epoch 58/100\n",
      "6/6 [==============================] - 0s 997us/step - loss: 0.4330 - accuracy: 0.0000e+00\n",
      "Epoch 59/100\n",
      "6/6 [==============================] - 0s 798us/step - loss: 0.4287 - accuracy: 0.0000e+00\n",
      "Epoch 60/100\n",
      "6/6 [==============================] - 0s 598us/step - loss: 0.4245 - accuracy: 0.0000e+00\n",
      "Epoch 61/100\n",
      "6/6 [==============================] - 0s 798us/step - loss: 0.4205 - accuracy: 0.0000e+00\n",
      "Epoch 62/100\n",
      "6/6 [==============================] - 0s 997us/step - loss: 0.4167 - accuracy: 0.0000e+00\n",
      "Epoch 63/100\n",
      "6/6 [==============================] - 0s 599us/step - loss: 0.4130 - accuracy: 0.0000e+00\n",
      "Epoch 64/100\n",
      "6/6 [==============================] - 0s 798us/step - loss: 0.4095 - accuracy: 0.0000e+00\n",
      "Epoch 65/100\n",
      "6/6 [==============================] - 0s 798us/step - loss: 0.4062 - accuracy: 0.0000e+00\n",
      "Epoch 66/100\n",
      "6/6 [==============================] - 0s 997us/step - loss: 0.4030 - accuracy: 0.0000e+00\n",
      "Epoch 67/100\n",
      "6/6 [==============================] - 0s 1ms/step - loss: 0.4000 - accuracy: 0.0000e+00\n",
      "Epoch 68/100\n",
      "6/6 [==============================] - 0s 998us/step - loss: 0.3970 - accuracy: 0.0000e+00\n",
      "Epoch 69/100\n",
      "6/6 [==============================] - 0s 1ms/step - loss: 0.3942 - accuracy: 0.0000e+00\n",
      "Epoch 70/100\n",
      "6/6 [==============================] - 0s 998us/step - loss: 0.3916 - accuracy: 0.0000e+00\n",
      "Epoch 71/100\n",
      "6/6 [==============================] - 0s 997us/step - loss: 0.3890 - accuracy: 0.0000e+00\n",
      "Epoch 72/100\n",
      "6/6 [==============================] - 0s 998us/step - loss: 0.3866 - accuracy: 0.0000e+00\n",
      "Epoch 73/100\n",
      "6/6 [==============================] - 0s 798us/step - loss: 0.3842 - accuracy: 0.0000e+00\n",
      "Epoch 74/100\n",
      "6/6 [==============================] - 0s 798us/step - loss: 0.3820 - accuracy: 0.0000e+00\n",
      "Epoch 75/100\n",
      "6/6 [==============================] - 0s 998us/step - loss: 0.3798 - accuracy: 0.0000e+00\n",
      "Epoch 76/100\n",
      "6/6 [==============================] - 0s 997us/step - loss: 0.3778 - accuracy: 0.0000e+00\n",
      "Epoch 77/100\n",
      "6/6 [==============================] - 0s 798us/step - loss: 0.3758 - accuracy: 0.0000e+00\n",
      "Epoch 78/100\n",
      "6/6 [==============================] - 0s 798us/step - loss: 0.3739 - accuracy: 0.0000e+00\n",
      "Epoch 79/100\n",
      "6/6 [==============================] - 0s 798us/step - loss: 0.3722 - accuracy: 0.0000e+00\n",
      "Epoch 80/100\n"
     ]
    },
    {
     "name": "stdout",
     "output_type": "stream",
     "text": [
      "6/6 [==============================] - 0s 798us/step - loss: 0.3704 - accuracy: 0.0000e+00\n",
      "Epoch 81/100\n",
      "6/6 [==============================] - 0s 798us/step - loss: 0.3688 - accuracy: 0.0000e+00\n",
      "Epoch 82/100\n",
      "6/6 [==============================] - 0s 598us/step - loss: 0.3672 - accuracy: 0.0000e+00\n",
      "Epoch 83/100\n",
      "6/6 [==============================] - 0s 598us/step - loss: 0.3657 - accuracy: 0.0000e+00\n",
      "Epoch 84/100\n",
      "6/6 [==============================] - 0s 997us/step - loss: 0.3642 - accuracy: 0.0000e+00\n",
      "Epoch 85/100\n",
      "6/6 [==============================] - 0s 798us/step - loss: 0.3629 - accuracy: 0.0000e+00\n",
      "Epoch 86/100\n",
      "6/6 [==============================] - 0s 798us/step - loss: 0.3615 - accuracy: 0.0000e+00\n",
      "Epoch 87/100\n",
      "6/6 [==============================] - 0s 599us/step - loss: 0.3603 - accuracy: 0.0000e+00\n",
      "Epoch 88/100\n",
      "6/6 [==============================] - 0s 798us/step - loss: 0.3590 - accuracy: 0.0000e+00\n",
      "Epoch 89/100\n",
      "6/6 [==============================] - 0s 798us/step - loss: 0.3579 - accuracy: 0.0000e+00\n",
      "Epoch 90/100\n",
      "6/6 [==============================] - 0s 998us/step - loss: 0.3568 - accuracy: 0.0000e+00\n",
      "Epoch 91/100\n",
      "6/6 [==============================] - 0s 998us/step - loss: 0.3557 - accuracy: 0.0000e+00\n",
      "Epoch 92/100\n",
      "6/6 [==============================] - 0s 798us/step - loss: 0.3547 - accuracy: 0.0000e+00\n",
      "Epoch 93/100\n",
      "6/6 [==============================] - 0s 798us/step - loss: 0.3537 - accuracy: 0.0000e+00\n",
      "Epoch 94/100\n",
      "6/6 [==============================] - 0s 798us/step - loss: 0.3527 - accuracy: 0.0000e+00\n",
      "Epoch 95/100\n",
      "6/6 [==============================] - 0s 798us/step - loss: 0.3518 - accuracy: 0.0000e+00\n",
      "Epoch 96/100\n",
      "6/6 [==============================] - 0s 798us/step - loss: 0.3510 - accuracy: 0.0000e+00\n",
      "Epoch 97/100\n",
      "6/6 [==============================] - 0s 598us/step - loss: 0.3501 - accuracy: 0.0000e+00\n",
      "Epoch 98/100\n",
      "6/6 [==============================] - 0s 997us/step - loss: 0.3493 - accuracy: 0.0000e+00\n",
      "Epoch 99/100\n",
      "6/6 [==============================] - 0s 997us/step - loss: 0.3486 - accuracy: 0.0000e+00\n",
      "Epoch 100/100\n",
      "6/6 [==============================] - 0s 799us/step - loss: 0.3479 - accuracy: 0.0000e+00\n"
     ]
    },
    {
     "data": {
      "text/plain": [
       "<tensorflow.python.keras.callbacks.History at 0x1a9e9d2fe20>"
      ]
     },
     "execution_count": 109,
     "metadata": {},
     "output_type": "execute_result"
    }
   ],
   "source": [
    "model.fit(공부시간, 점수, epochs = 100, batch_size=1, shuffle=False)"
   ]
  },
  {
   "cell_type": "code",
   "execution_count": 114,
   "id": "7492744c",
   "metadata": {},
   "outputs": [
    {
     "name": "stdout",
     "output_type": "stream",
     "text": [
      "예측결과: [[70.03651]]\n",
      "파라미터수: 2\n"
     ]
    }
   ],
   "source": [
    "print('예측결과:', model.predict([7]))\n",
    "print('파라미터수:',model.count_params())"
   ]
  },
  {
   "cell_type": "code",
   "execution_count": 145,
   "id": "585f91b5",
   "metadata": {},
   "outputs": [],
   "source": [
    "from tensorflow.keras.datasets import boston_housing"
   ]
  },
  {
   "cell_type": "code",
   "execution_count": 146,
   "id": "2939167b",
   "metadata": {},
   "outputs": [],
   "source": [
    "(train_data, train_targets), (test_data, test_targets) = boston_housing.load_data()"
   ]
  },
  {
   "cell_type": "code",
   "execution_count": 187,
   "id": "548741f0",
   "metadata": {},
   "outputs": [
    {
     "data": {
      "text/plain": [
       "(404, 13)"
      ]
     },
     "execution_count": 187,
     "metadata": {},
     "output_type": "execute_result"
    }
   ],
   "source": [
    "train_data.shape"
   ]
  },
  {
   "cell_type": "code",
   "execution_count": 200,
   "id": "7c1c0bb7",
   "metadata": {},
   "outputs": [],
   "source": [
    "model = Sequential()\n",
    "model.add(Dense(64, activation = 'linear',input_shape=(train_data.shape[1],)))\n",
    "model.add(Dense(32, activation='relu', input_shape=(train_data.shape[1],)))\n",
    "model.add(Dense(1))\n",
    "model.compile(optimizer='rmsprop', loss='mse', metrics=['accuracy'])"
   ]
  },
  {
   "cell_type": "markdown",
   "id": "6aab2fd9",
   "metadata": {},
   "source": [
    "### 데이터 스케일링"
   ]
  },
  {
   "cell_type": "code",
   "execution_count": 191,
   "id": "11010bd4",
   "metadata": {},
   "outputs": [],
   "source": [
    "mean = train_data.mean(axis = 0)\n",
    "train_data -= mean\n",
    "std = train_data.std(axis = 0)\n",
    "train_data /= std\n",
    "\n",
    "test_data -= mean\n",
    "test_data /= std"
   ]
  },
  {
   "cell_type": "code",
   "execution_count": 192,
   "id": "ee9f67b5",
   "metadata": {},
   "outputs": [
    {
     "data": {
      "text/plain": [
       "array([[-0.27224633, -0.48361547, -0.43576161, ...,  1.14850044,\n",
       "         0.44807713,  0.8252202 ],\n",
       "       [-0.40342651,  2.99178419, -1.33391162, ..., -1.71818909,\n",
       "         0.43190599, -1.32920239],\n",
       "       [ 0.1249402 , -0.48361547,  1.0283258 , ...,  0.78447637,\n",
       "         0.22061726, -1.30850006],\n",
       "       ...,\n",
       "       [-0.40202987,  0.99079651, -0.7415148 , ..., -0.71712291,\n",
       "         0.07943894, -0.67776904],\n",
       "       [-0.17292018, -0.48361547,  1.24588095, ..., -1.71818909,\n",
       "        -0.98764362,  0.42083466],\n",
       "       [-0.40422614,  2.04394792, -1.20161456, ..., -1.30866202,\n",
       "         0.23317118, -1.15392266]])"
      ]
     },
     "execution_count": 192,
     "metadata": {},
     "output_type": "execute_result"
    }
   ],
   "source": [
    "train_data"
   ]
  },
  {
   "cell_type": "code",
   "execution_count": 194,
   "id": "9b954b02",
   "metadata": {},
   "outputs": [
    {
     "data": {
      "text/plain": [
       "2.602301889250862e-15"
      ]
     },
     "execution_count": 194,
     "metadata": {},
     "output_type": "execute_result"
    }
   ],
   "source": [
    "train_data.mean()"
   ]
  },
  {
   "cell_type": "code",
   "execution_count": 195,
   "id": "8a5cd97f",
   "metadata": {},
   "outputs": [
    {
     "data": {
      "text/plain": [
       "0.9999999999999994"
      ]
     },
     "execution_count": 195,
     "metadata": {},
     "output_type": "execute_result"
    }
   ],
   "source": [
    "train_data.std()"
   ]
  },
  {
   "cell_type": "code",
   "execution_count": 201,
   "id": "f606dcad",
   "metadata": {},
   "outputs": [
    {
     "name": "stdout",
     "output_type": "stream",
     "text": [
      "Epoch 1/100\n",
      "404/404 [==============================] - 0s 497us/step - loss: 243.4131 - accuracy: 0.0000e+00\n",
      "Epoch 2/100\n",
      "404/404 [==============================] - 0s 495us/step - loss: 39.2965 - accuracy: 0.0000e+00\n",
      "Epoch 3/100\n",
      "404/404 [==============================] - 0s 483us/step - loss: 29.0095 - accuracy: 0.0000e+00\n",
      "Epoch 4/100\n",
      "404/404 [==============================] - 0s 626us/step - loss: 25.1391 - accuracy: 0.0000e+00\n",
      "Epoch 5/100\n",
      "404/404 [==============================] - 0s 535us/step - loss: 22.7592 - accuracy: 0.0000e+00\n",
      "Epoch 6/100\n",
      "404/404 [==============================] - 0s 525us/step - loss: 20.8122 - accuracy: 0.0000e+00\n",
      "Epoch 7/100\n",
      "404/404 [==============================] - 0s 557us/step - loss: 19.3697 - accuracy: 0.0000e+00\n",
      "Epoch 8/100\n",
      "404/404 [==============================] - 0s 502us/step - loss: 18.3285 - accuracy: 0.0000e+00\n",
      "Epoch 9/100\n",
      "404/404 [==============================] - 0s 460us/step - loss: 17.4414 - accuracy: 0.0000e+00\n",
      "Epoch 10/100\n",
      "404/404 [==============================] - 0s 579us/step - loss: 16.7418 - accuracy: 0.0000e+00\n",
      "Epoch 11/100\n",
      "404/404 [==============================] - 0s 611us/step - loss: 16.1174 - accuracy: 0.0000e+00\n",
      "Epoch 12/100\n",
      "404/404 [==============================] - 0s 725us/step - loss: 15.5121 - accuracy: 0.0000e+00\n",
      "Epoch 13/100\n",
      "404/404 [==============================] - 0s 671us/step - loss: 14.9168 - accuracy: 0.0000e+00\n",
      "Epoch 14/100\n",
      "404/404 [==============================] - 0s 621us/step - loss: 14.2130 - accuracy: 0.0000e+00\n",
      "Epoch 15/100\n",
      "404/404 [==============================] - 0s 532us/step - loss: 13.5412 - accuracy: 0.0000e+00\n",
      "Epoch 16/100\n",
      "404/404 [==============================] - 0s 470us/step - loss: 12.8160 - accuracy: 0.0000e+00\n",
      "Epoch 17/100\n",
      "404/404 [==============================] - 0s 497us/step - loss: 12.2290 - accuracy: 0.0000e+00\n",
      "Epoch 18/100\n",
      "404/404 [==============================] - 0s 522us/step - loss: 11.6352 - accuracy: 0.0000e+00\n",
      "Epoch 19/100\n",
      "404/404 [==============================] - 0s 661us/step - loss: 11.1445 - accuracy: 0.0000e+00\n",
      "Epoch 20/100\n",
      "404/404 [==============================] - 0s 574us/step - loss: 10.7656 - accuracy: 0.0000e+00\n",
      "Epoch 21/100\n",
      "404/404 [==============================] - 0s 641us/step - loss: 10.4510 - accuracy: 0.0000e+00\n",
      "Epoch 22/100\n",
      "404/404 [==============================] - 0s 470us/step - loss: 10.1790 - accuracy: 0.0000e+00\n",
      "Epoch 23/100\n",
      "404/404 [==============================] - 0s 478us/step - loss: 9.9854 - accuracy: 0.0000e+00\n",
      "Epoch 24/100\n",
      "404/404 [==============================] - 0s 468us/step - loss: 9.7815 - accuracy: 0.0000e+00\n",
      "Epoch 25/100\n",
      "404/404 [==============================] - 0s 510us/step - loss: 9.6436 - accuracy: 0.0000e+00\n",
      "Epoch 26/100\n",
      "404/404 [==============================] - 0s 483us/step - loss: 9.4958 - accuracy: 0.0000e+00\n",
      "Epoch 27/100\n",
      "404/404 [==============================] - 0s 478us/step - loss: 9.3884 - accuracy: 0.0000e+00\n",
      "Epoch 28/100\n",
      "404/404 [==============================] - 0s 490us/step - loss: 9.2790 - accuracy: 0.0000e+00\n",
      "Epoch 29/100\n",
      "404/404 [==============================] - 0s 468us/step - loss: 9.2301 - accuracy: 0.0000e+00\n",
      "Epoch 30/100\n",
      "404/404 [==============================] - 0s 473us/step - loss: 9.1222 - accuracy: 0.0000e+00\n",
      "Epoch 31/100\n",
      "404/404 [==============================] - 0s 505us/step - loss: 9.0436 - accuracy: 0.0000e+00\n",
      "Epoch 32/100\n",
      "404/404 [==============================] - 0s 478us/step - loss: 8.9743 - accuracy: 0.0000e+00\n",
      "Epoch 33/100\n",
      "404/404 [==============================] - 0s 475us/step - loss: 8.9302 - accuracy: 0.0000e+00\n",
      "Epoch 34/100\n",
      "404/404 [==============================] - 0s 500us/step - loss: 8.8341 - accuracy: 0.0000e+00\n",
      "Epoch 35/100\n",
      "404/404 [==============================] - 0s 530us/step - loss: 8.7955 - accuracy: 0.0000e+00\n",
      "Epoch 36/100\n",
      "404/404 [==============================] - 0s 463us/step - loss: 8.7155 - accuracy: 0.0000e+00\n",
      "Epoch 37/100\n",
      "404/404 [==============================] - 0s 460us/step - loss: 8.6500 - accuracy: 0.0000e+00\n",
      "Epoch 38/100\n",
      "404/404 [==============================] - 0s 562us/step - loss: 8.5639 - accuracy: 0.0000e+00\n",
      "Epoch 39/100\n",
      "404/404 [==============================] - 0s 651us/step - loss: 8.5191 - accuracy: 0.0000e+00\n",
      "Epoch 40/100\n",
      "404/404 [==============================] - 0s 688us/step - loss: 8.4663 - accuracy: 0.0000e+00\n",
      "Epoch 41/100\n",
      "404/404 [==============================] - 0s 683us/step - loss: 8.4012 - accuracy: 0.0000e+00\n",
      "Epoch 42/100\n",
      "404/404 [==============================] - 0s 641us/step - loss: 8.3565 - accuracy: 0.0000e+00\n",
      "Epoch 43/100\n",
      "404/404 [==============================] - 0s 480us/step - loss: 8.3144 - accuracy: 0.0000e+00\n",
      "Epoch 44/100\n",
      "404/404 [==============================] - 0s 465us/step - loss: 8.2906 - accuracy: 0.0000e+00\n",
      "Epoch 45/100\n",
      "404/404 [==============================] - 0s 488us/step - loss: 8.2315 - accuracy: 0.0000e+00\n",
      "Epoch 46/100\n",
      "404/404 [==============================] - 0s 542us/step - loss: 8.2105 - accuracy: 0.0000e+00\n",
      "Epoch 47/100\n",
      "404/404 [==============================] - 0s 564us/step - loss: 8.1693 - accuracy: 0.0000e+00\n",
      "Epoch 48/100\n",
      "404/404 [==============================] - 0s 616us/step - loss: 8.1677 - accuracy: 0.0000e+00\n",
      "Epoch 49/100\n",
      "404/404 [==============================] - 0s 525us/step - loss: 8.1238 - accuracy: 0.0000e+00\n",
      "Epoch 50/100\n",
      "404/404 [==============================] - 0s 473us/step - loss: 8.1168 - accuracy: 0.0000e+00\n",
      "Epoch 51/100\n",
      "404/404 [==============================] - 0s 458us/step - loss: 8.0872 - accuracy: 0.0000e+00\n",
      "Epoch 52/100\n",
      "404/404 [==============================] - 0s 458us/step - loss: 8.0713 - accuracy: 0.0000e+00\n",
      "Epoch 53/100\n",
      "404/404 [==============================] - 0s 502us/step - loss: 8.0176 - accuracy: 0.0000e+00\n",
      "Epoch 54/100\n",
      "404/404 [==============================] - 0s 450us/step - loss: 8.0134 - accuracy: 0.0000e+00\n",
      "Epoch 55/100\n",
      "404/404 [==============================] - 0s 488us/step - loss: 7.9646 - accuracy: 0.0000e+00\n",
      "Epoch 56/100\n",
      "404/404 [==============================] - 0s 567us/step - loss: 7.9515 - accuracy: 0.0000e+00\n",
      "Epoch 57/100\n",
      "404/404 [==============================] - 0s 535us/step - loss: 7.9253 - accuracy: 0.0000e+00\n",
      "Epoch 58/100\n",
      "404/404 [==============================] - 0s 465us/step - loss: 7.8678 - accuracy: 0.0000e+00\n",
      "Epoch 59/100\n",
      "404/404 [==============================] - 0s 468us/step - loss: 7.8756 - accuracy: 0.0000e+00\n",
      "Epoch 60/100\n",
      "404/404 [==============================] - 0s 520us/step - loss: 7.8339 - accuracy: 0.0000e+00\n",
      "Epoch 61/100\n",
      "404/404 [==============================] - 0s 465us/step - loss: 7.8388 - accuracy: 0.0000e+00\n",
      "Epoch 62/100\n",
      "404/404 [==============================] - 0s 490us/step - loss: 7.8254 - accuracy: 0.0000e+00\n",
      "Epoch 63/100\n",
      "404/404 [==============================] - 0s 470us/step - loss: 7.8421 - accuracy: 0.0000e+00\n",
      "Epoch 64/100\n",
      "404/404 [==============================] - 0s 473us/step - loss: 7.8284 - accuracy: 0.0000e+00\n",
      "Epoch 65/100\n",
      "404/404 [==============================] - 0s 488us/step - loss: 7.7868 - accuracy: 0.0000e+00\n",
      "Epoch 66/100\n",
      "404/404 [==============================] - 0s 611us/step - loss: 7.7898 - accuracy: 0.0000e+00\n",
      "Epoch 67/100\n",
      "404/404 [==============================] - 0s 683us/step - loss: 7.7778 - accuracy: 0.0000e+00\n",
      "Epoch 68/100\n",
      "404/404 [==============================] - 0s 713us/step - loss: 7.7655 - accuracy: 0.0000e+00\n",
      "Epoch 69/100\n",
      "404/404 [==============================] - 0s 666us/step - loss: 7.7471 - accuracy: 0.0000e+00\n",
      "Epoch 70/100\n",
      "404/404 [==============================] - 0s 539us/step - loss: 7.7497 - accuracy: 0.0000e+00\n",
      "Epoch 71/100\n",
      "404/404 [==============================] - 0s 485us/step - loss: 7.7371 - accuracy: 0.0000e+00\n",
      "Epoch 72/100\n",
      "404/404 [==============================] - 0s 473us/step - loss: 7.7402 - accuracy: 0.0000e+00\n",
      "Epoch 73/100\n",
      "404/404 [==============================] - 0s 614us/step - loss: 7.7129 - accuracy: 0.0000e+00\n",
      "Epoch 74/100\n",
      "404/404 [==============================] - 0s 629us/step - loss: 7.6999 - accuracy: 0.0000e+00\n",
      "Epoch 75/100\n",
      "404/404 [==============================] - 0s 601us/step - loss: 7.6934 - accuracy: 0.0000e+00\n",
      "Epoch 76/100\n"
     ]
    },
    {
     "name": "stdout",
     "output_type": "stream",
     "text": [
      "404/404 [==============================] - 0s 530us/step - loss: 7.7088 - accuracy: 0.0000e+00\n",
      "Epoch 77/100\n",
      "404/404 [==============================] - 0s 488us/step - loss: 7.7037 - accuracy: 0.0000e+00\n",
      "Epoch 78/100\n",
      "404/404 [==============================] - 0s 463us/step - loss: 7.6855 - accuracy: 0.0000e+00\n",
      "Epoch 79/100\n",
      "404/404 [==============================] - 0s 480us/step - loss: 7.6807 - accuracy: 0.0000e+00\n",
      "Epoch 80/100\n",
      "404/404 [==============================] - 0s 488us/step - loss: 7.6859 - accuracy: 0.0000e+00\n",
      "Epoch 81/100\n",
      "404/404 [==============================] - 0s 525us/step - loss: 7.6502 - accuracy: 0.0000e+00\n",
      "Epoch 82/100\n",
      "404/404 [==============================] - 0s 483us/step - loss: 7.6506 - accuracy: 0.0000e+00\n",
      "Epoch 83/100\n",
      "404/404 [==============================] - 0s 515us/step - loss: 7.6629 - accuracy: 0.0000e+00\n",
      "Epoch 84/100\n",
      "404/404 [==============================] - 0s 480us/step - loss: 7.6325 - accuracy: 0.0000e+00\n",
      "Epoch 85/100\n",
      "404/404 [==============================] - 0s 507us/step - loss: 7.6198 - accuracy: 0.0000e+00\n",
      "Epoch 86/100\n",
      "404/404 [==============================] - 0s 473us/step - loss: 7.6211 - accuracy: 0.0000e+00\n",
      "Epoch 87/100\n",
      "404/404 [==============================] - 0s 488us/step - loss: 7.5953 - accuracy: 0.0000e+00\n",
      "Epoch 88/100\n",
      "404/404 [==============================] - 0s 512us/step - loss: 7.5872 - accuracy: 0.0000e+00\n",
      "Epoch 89/100\n",
      "404/404 [==============================] - 0s 490us/step - loss: 7.5567 - accuracy: 0.0000e+00\n",
      "Epoch 90/100\n",
      "404/404 [==============================] - 0s 488us/step - loss: 7.5583 - accuracy: 0.0000e+00\n",
      "Epoch 91/100\n",
      "404/404 [==============================] - 0s 488us/step - loss: 7.5469 - accuracy: 0.0000e+00\n",
      "Epoch 92/100\n",
      "404/404 [==============================] - 0s 473us/step - loss: 7.5169 - accuracy: 0.0000e+00\n",
      "Epoch 93/100\n",
      "404/404 [==============================] - 0s 520us/step - loss: 7.5066 - accuracy: 0.0000e+00\n",
      "Epoch 94/100\n",
      "404/404 [==============================] - 0s 690us/step - loss: 7.5038 - accuracy: 0.0000e+00\n",
      "Epoch 95/100\n",
      "404/404 [==============================] - 0s 752us/step - loss: 7.4717 - accuracy: 0.0000e+00\n",
      "Epoch 96/100\n",
      "404/404 [==============================] - 0s 742us/step - loss: 7.4734 - accuracy: 0.0000e+00\n",
      "Epoch 97/100\n",
      "404/404 [==============================] - 0s 626us/step - loss: 7.4794 - accuracy: 0.0000e+00\n",
      "Epoch 98/100\n",
      "404/404 [==============================] - 0s 527us/step - loss: 7.4411 - accuracy: 0.0000e+00\n",
      "Epoch 99/100\n",
      "404/404 [==============================] - 0s 631us/step - loss: 7.4248 - accuracy: 0.0000e+00\n",
      "Epoch 100/100\n",
      "404/404 [==============================] - 0s 601us/step - loss: 7.4335 - accuracy: 0.0000e+00\n"
     ]
    },
    {
     "data": {
      "text/plain": [
       "<tensorflow.python.keras.callbacks.History at 0x1a9f1f127c0>"
      ]
     },
     "execution_count": 201,
     "metadata": {},
     "output_type": "execute_result"
    }
   ],
   "source": [
    "model.fit(train_data, train_targets, epochs = 100, batch_size=1, shuffle=False)"
   ]
  },
  {
   "cell_type": "code",
   "execution_count": 202,
   "id": "ed337240",
   "metadata": {},
   "outputs": [
    {
     "data": {
      "text/plain": [
       "[22.017425537109375, 0.0]"
      ]
     },
     "execution_count": 202,
     "metadata": {},
     "output_type": "execute_result"
    }
   ],
   "source": [
    "model.evaluate(test_data, test_targets, verbose=0)"
   ]
  },
  {
   "cell_type": "code",
   "execution_count": 203,
   "id": "c72a31c4",
   "metadata": {},
   "outputs": [
    {
     "name": "stdout",
     "output_type": "stream",
     "text": [
      "예측결과:\n",
      " [[11.624617 ]\n",
      " [19.467113 ]\n",
      " [21.50925  ]\n",
      " [30.574669 ]\n",
      " [24.271358 ]\n",
      " [22.781782 ]\n",
      " [27.295559 ]\n",
      " [23.119232 ]\n",
      " [21.154215 ]\n",
      " [20.974445 ]\n",
      " [18.723974 ]\n",
      " [17.484009 ]\n",
      " [16.923923 ]\n",
      " [41.720154 ]\n",
      " [21.767406 ]\n",
      " [18.700068 ]\n",
      " [24.541004 ]\n",
      " [20.219637 ]\n",
      " [21.19611  ]\n",
      " [29.129726 ]\n",
      " [13.884941 ]\n",
      " [18.107233 ]\n",
      " [21.981897 ]\n",
      " [13.696484 ]\n",
      " [15.386925 ]\n",
      " [25.05684  ]\n",
      " [29.013748 ]\n",
      " [24.387722 ]\n",
      " [14.7021885]\n",
      " [19.981411 ]\n",
      " [21.434755 ]\n",
      " [18.676807 ]\n",
      " [33.659374 ]\n",
      " [23.462883 ]\n",
      " [17.36233  ]\n",
      " [ 9.743288 ]\n",
      " [18.464348 ]\n",
      " [20.528576 ]\n",
      " [19.996542 ]\n",
      " [23.52358  ]\n",
      " [28.34068  ]\n",
      " [28.004568 ]\n",
      " [15.441414 ]\n",
      " [44.199726 ]\n",
      " [28.426147 ]\n",
      " [25.242277 ]\n",
      " [27.71256  ]\n",
      " [19.165361 ]\n",
      " [27.306503 ]\n",
      " [22.985348 ]\n",
      " [32.36444  ]\n",
      " [19.140438 ]\n",
      " [13.492413 ]\n",
      " [15.706901 ]\n",
      " [34.59043  ]\n",
      " [27.97668  ]\n",
      " [13.967425 ]\n",
      " [47.082462 ]\n",
      " [34.017513 ]\n",
      " [22.711946 ]\n",
      " [24.398108 ]\n",
      " [17.178347 ]\n",
      " [17.784128 ]\n",
      " [20.586306 ]\n",
      " [23.841446 ]\n",
      " [16.884417 ]\n",
      " [16.06903  ]\n",
      " [20.538881 ]\n",
      " [16.502617 ]\n",
      " [ 9.941483 ]\n",
      " [27.585684 ]\n",
      " [29.663078 ]\n",
      " [27.205223 ]\n",
      " [16.445635 ]\n",
      " [25.901459 ]\n",
      " [16.020851 ]\n",
      " [19.457792 ]\n",
      " [25.19753  ]\n",
      " [34.890514 ]\n",
      " [13.352428 ]\n",
      " [22.20993  ]\n",
      " [36.109535 ]\n",
      " [14.79351  ]\n",
      " [14.565538 ]\n",
      " [18.341063 ]\n",
      " [15.5690365]\n",
      " [23.555336 ]\n",
      " [21.52025  ]\n",
      " [22.116707 ]\n",
      " [32.139347 ]\n",
      " [21.381598 ]\n",
      " [14.229748 ]\n",
      " [23.956839 ]\n",
      " [40.435852 ]\n",
      " [35.58846  ]\n",
      " [22.446898 ]\n",
      " [33.253563 ]\n",
      " [49.036243 ]\n",
      " [24.98406  ]\n",
      " [48.30581  ]\n",
      " [30.142445 ]\n",
      " [21.07535  ]]\n",
      "파라미터수: 3009\n"
     ]
    }
   ],
   "source": [
    "print('예측결과:\\n', model.predict(test_data))\n",
    "print('파라미터수:',model.count_params())"
   ]
  },
  {
   "cell_type": "code",
   "execution_count": null,
   "id": "69d37cff",
   "metadata": {},
   "outputs": [],
   "source": []
  }
 ],
 "metadata": {
  "kernelspec": {
   "display_name": "Python 3",
   "language": "python",
   "name": "python3"
  },
  "language_info": {
   "codemirror_mode": {
    "name": "ipython",
    "version": 3
   },
   "file_extension": ".py",
   "mimetype": "text/x-python",
   "name": "python",
   "nbconvert_exporter": "python",
   "pygments_lexer": "ipython3",
   "version": "3.8.8"
  }
 },
 "nbformat": 4,
 "nbformat_minor": 5
}
